{
 "cells": [
  {
   "cell_type": "code",
   "execution_count": 220,
   "id": "ceb543be-827a-4201-b27b-527dea79f29e",
   "metadata": {},
   "outputs": [
    {
     "data": {
      "text/html": [
       "        <script type=\"text/javascript\">\n",
       "        window.PlotlyConfig = {MathJaxConfig: 'local'};\n",
       "        if (window.MathJax) {MathJax.Hub.Config({SVG: {font: \"STIX-Web\"}});}\n",
       "        if (typeof require !== 'undefined') {\n",
       "        require.undef(\"plotly\");\n",
       "        requirejs.config({\n",
       "            paths: {\n",
       "                'plotly': ['https://cdn.plot.ly/plotly-2.9.0.min']\n",
       "            }\n",
       "        });\n",
       "        require(['plotly'], function(Plotly) {\n",
       "            window._Plotly = Plotly;\n",
       "        });\n",
       "        }\n",
       "        </script>\n",
       "        "
      ]
     },
     "metadata": {},
     "output_type": "display_data"
    }
   ],
   "source": [
    "import pandas as pd\n",
    "import matplotlib.pyplot as plt\n",
    "%matplotlib inline\n",
    "import seaborn as sns\n",
    "sns.set()\n",
    "import numpy as np\n",
    "import plotly.offline as offline\n",
    "offline.init_notebook_mode(connected=True)\n",
    "import plotly.graph_objs as go\n",
    "import plotly.express as px"
   ]
  },
  {
   "cell_type": "markdown",
   "id": "021fb7c0",
   "metadata": {},
   "source": [
    "## World population from 1960 - 2017"
   ]
  },
  {
   "cell_type": "code",
   "execution_count": 221,
   "id": "ad0c8032-4d2d-4f1d-abe3-02e35304ecb8",
   "metadata": {},
   "outputs": [],
   "source": [
    "df_world_data = pd.read_csv('worldpopulation.csv', skiprows=4, index_col='Country Name')"
   ]
  },
  {
   "cell_type": "code",
   "execution_count": 222,
   "id": "1679720d",
   "metadata": {},
   "outputs": [],
   "source": [
    "# Cleaning up dateframe \n",
    "\n",
    "df_world_2017 = df_world_data.loc['World',:'2017'] # pull overall world population of 1960 - 2017\n",
    "df_world_2017.to_frame()\n",
    "df_world_2017 = df_world_2017.drop(df_world_2017.index[:3]) # Remove unwanted rows\n",
    "df_world_2017 = df_world_2017.reset_index()\n",
    "df_world_2017.columns = ['year', 'total population'] # rename columns\n",
    "divide = df_world_2017['total population'] / 1000000000 # divdie to ploting later on\n",
    "df_world_2017['divide'] = divide"
   ]
  },
  {
   "cell_type": "code",
   "execution_count": 223,
   "id": "be14f5d1",
   "metadata": {},
   "outputs": [],
   "source": [
    "df_birthrate = pd.read_csv('Countrybirthrate.csv', skiprows=4, index_col='Country Name')"
   ]
  },
  {
   "cell_type": "code",
   "execution_count": 224,
   "id": "7821a488",
   "metadata": {},
   "outputs": [],
   "source": [
    "# Cleaning up dateframe \n",
    "\n",
    "df_birthrate_2017 = df_birthrate.loc['World',:'2017'] # pull overall world birthrate of 1960 - 2017\n",
    "df_birthrate_2017.to_frame()\n",
    "df_birthrate_2017 = df_birthrate_2017.drop(df_birthrate_2017.index[:3]) # Remove unwanted rows\n",
    "df_birthrate_2017 = df_birthrate_2017.reset_index()\n",
    "df_birthrate_2017.columns = ['year', 'birthrate'] # rename columns"
   ]
  },
  {
   "cell_type": "code",
   "execution_count": 225,
   "id": "27dd0d87",
   "metadata": {},
   "outputs": [],
   "source": [
    "df_aging = pd.read_csv('Aging poplution.csv', skiprows=4, index_col='Country Name')"
   ]
  },
  {
   "cell_type": "code",
   "execution_count": 226,
   "id": "aad69555",
   "metadata": {},
   "outputs": [],
   "source": [
    "# Cleaning up dateframe\n",
    "\n",
    "df_aging_2017 = df_aging.loc['World',:'2017'] # pull overall world aging of 1960 - 2017\n",
    "df_aging_2017 = df_aging_2017.to_frame()\n",
    "df_aging_2017 = df_aging_2017.drop(df_aging_2017.index[:3]) # Remove unwanted rows\n",
    "df_aging_2017 = df_aging_2017.reset_index()\n",
    "df_aging_2017.columns = ['year', 'Aging'] # rename columns"
   ]
  },
  {
   "cell_type": "code",
   "execution_count": 227,
   "id": "4a872edf",
   "metadata": {},
   "outputs": [
    {
     "data": {
      "application/vnd.plotly.v1+json": {
       "config": {
        "linkText": "Export to plotly.com",
        "plotlyServerURL": "https://plotly.com",
        "showLink": false
       },
       "data": [
        {
         "connectgaps": true,
         "line": {
          "color": "red",
          "width": 1
         },
         "name": "Total Population(Billion)",
         "type": "scatter",
         "x": [
          "1960",
          "1961",
          "1962",
          "1963",
          "1964",
          "1965",
          "1966",
          "1967",
          "1968",
          "1969",
          "1970",
          "1971",
          "1972",
          "1973",
          "1974",
          "1975",
          "1976",
          "1977",
          "1978",
          "1979",
          "1980",
          "1981",
          "1982",
          "1983",
          "1984",
          "1985",
          "1986",
          "1987",
          "1988",
          "1989",
          "1990",
          "1991",
          "1992",
          "1993",
          "1994",
          "1995",
          "1996",
          "1997",
          "1998",
          "1999",
          "2000",
          "2001",
          "2002",
          "2003",
          "2004",
          "2005",
          "2006",
          "2007",
          "2008",
          "2009",
          "2010",
          "2011",
          "2012",
          "2013",
          "2014",
          "2015",
          "2016",
          "2017"
         ],
         "y": [
          3.03215607,
          3.071596055,
          3.124561005,
          3.189655687,
          3.255145692,
          3.322046795,
          3.392097729,
          3.461619724,
          3.532782993,
          3.606553753,
          3.681975908,
          3.760516757,
          3.836900801,
          3.912984371,
          3.988487336,
          4.062507027,
          4.135432265,
          4.207786422,
          4.281339378,
          4.356778367,
          4.432963653,
          4.511164132,
          4.592387213,
          4.674330282,
          4.755996689,
          4.839176734,
          4.924747934,
          5.012556248,
          5.101287675,
          5.189977062,
          5.280062644,
          5.368139818,
          5.452576967,
          5.537885402,
          5.622085293,
          5.706753581,
          5.789655178,
          5.872284397,
          5.95400434,
          6.034484369,
          6.114324044,
          6.193663732,
          6.272724236,
          6.351855732,
          6.431527221,
          6.511724848,
          6.592711655,
          6.674181848,
          6.757000414,
          6.839553692,
          6.921854591,
          7.00376044,
          7.089254548,
          7.175500378,
          7.261846543,
          7.347679005,
          7.43356933,
          7.519183459
         ]
        },
        {
         "connectgaps": true,
         "line": {
          "color": "green",
          "width": 1
         },
         "name": "Total Birth(Per Women)",
         "type": "scatter",
         "x": [
          "1960",
          "1961",
          "1962",
          "1963",
          "1964",
          "1965",
          "1966",
          "1967",
          "1968",
          "1969",
          "1970",
          "1971",
          "1972",
          "1973",
          "1974",
          "1975",
          "1976",
          "1977",
          "1978",
          "1979",
          "1980",
          "1981",
          "1982",
          "1983",
          "1984",
          "1985",
          "1986",
          "1987",
          "1988",
          "1989",
          "1990",
          "1991",
          "1992",
          "1993",
          "1994",
          "1995",
          "1996",
          "1997",
          "1998",
          "1999",
          "2000",
          "2001",
          "2002",
          "2003",
          "2004",
          "2005",
          "2006",
          "2007",
          "2008",
          "2009",
          "2010",
          "2011",
          "2012",
          "2013",
          "2014",
          "2015",
          "2016",
          "2017"
         ],
         "y": [
          4.979299498,
          5.003564277,
          5.025367418,
          5.045550595,
          5.056470116,
          5.040687076,
          4.992084743,
          4.97327569,
          4.922089469,
          4.855976292,
          4.778572494,
          4.669268331,
          4.53970361,
          4.410469926,
          4.288770812,
          4.15688867,
          4.040382918,
          3.936737207,
          3.843072253,
          3.77341512,
          3.713652391,
          3.656614012,
          3.627155101,
          3.5945681,
          3.564195128,
          3.535984167,
          3.499524247,
          3.455160571,
          3.398938314,
          3.324349664,
          3.248547126,
          3.157407402,
          3.071547794,
          2.987612744,
          2.921842129,
          2.862563637,
          2.816996486,
          2.777270188,
          2.746359225,
          2.716833207,
          2.69616578,
          2.666349493,
          2.64355328,
          2.6248957,
          2.608629514,
          2.588058048,
          2.577170957,
          2.567089029,
          2.554934486,
          2.534207585,
          2.516290288,
          2.498604082,
          2.48889436,
          2.472253007,
          2.464680782,
          2.455270398,
          2.44464622,
          2.427212258
         ]
        },
        {
         "connectgaps": true,
         "line": {
          "color": "blue",
          "width": 1
         },
         "name": "Age above 65(%)",
         "type": "scatter",
         "x": [
          "1960",
          "1961",
          "1962",
          "1963",
          "1964",
          "1965",
          "1966",
          "1967",
          "1968",
          "1969",
          "1970",
          "1971",
          "1972",
          "1973",
          "1974",
          "1975",
          "1976",
          "1977",
          "1978",
          "1979",
          "1980",
          "1981",
          "1982",
          "1983",
          "1984",
          "1985",
          "1986",
          "1987",
          "1988",
          "1989",
          "1990",
          "1991",
          "1992",
          "1993",
          "1994",
          "1995",
          "1996",
          "1997",
          "1998",
          "1999",
          "2000",
          "2001",
          "2002",
          "2003",
          "2004",
          "2005",
          "2006",
          "2007",
          "2008",
          "2009",
          "2010",
          "2011",
          "2012",
          "2013",
          "2014",
          "2015",
          "2016",
          "2017"
         ],
         "y": [
          4.97017227691351,
          5.01676965721514,
          5.04238259644718,
          5.05203320581342,
          5.05644497311415,
          5.05754736775835,
          5.11423791923572,
          5.16827259595989,
          5.21814324577902,
          5.2626248960447,
          5.30156248900248,
          5.36871670089752,
          5.4274464950562,
          5.47983835545349,
          5.52970428223649,
          5.57906974211897,
          5.65858768203791,
          5.73643560118006,
          5.80687985739999,
          5.86047796380065,
          5.89286027934988,
          5.92744388074803,
          5.9361852795685,
          5.93196788044164,
          5.93021226528731,
          5.93884483016137,
          5.97574203727576,
          6.01604026236198,
          6.06038173107217,
          6.10927502920718,
          6.1615281745756,
          6.23488657020027,
          6.31506467061598,
          6.39363287760375,
          6.46507577749995,
          6.52581094479718,
          6.61345904576829,
          6.6834278064723,
          6.74405796764097,
          6.80600039105418,
          6.87408599860318,
          6.95816084722875,
          7.04547331091156,
          7.13040910684717,
          7.20230914456665,
          7.25754768724634,
          7.32752554645265,
          7.38333689693132,
          7.43461342599437,
          7.49318889349556,
          7.5671306462621,
          7.66798603085752,
          7.78127093774876,
          7.90897867182356,
          8.05574272500899,
          8.22430812652665,
          8.42853591420842,
          8.64817370613636
         ]
        }
       ],
       "layout": {
        "height": 500,
        "template": {
         "data": {
          "bar": [
           {
            "error_x": {
             "color": "#2a3f5f"
            },
            "error_y": {
             "color": "#2a3f5f"
            },
            "marker": {
             "line": {
              "color": "#E5ECF6",
              "width": 0.5
             },
             "pattern": {
              "fillmode": "overlay",
              "size": 10,
              "solidity": 0.2
             }
            },
            "type": "bar"
           }
          ],
          "barpolar": [
           {
            "marker": {
             "line": {
              "color": "#E5ECF6",
              "width": 0.5
             },
             "pattern": {
              "fillmode": "overlay",
              "size": 10,
              "solidity": 0.2
             }
            },
            "type": "barpolar"
           }
          ],
          "carpet": [
           {
            "aaxis": {
             "endlinecolor": "#2a3f5f",
             "gridcolor": "white",
             "linecolor": "white",
             "minorgridcolor": "white",
             "startlinecolor": "#2a3f5f"
            },
            "baxis": {
             "endlinecolor": "#2a3f5f",
             "gridcolor": "white",
             "linecolor": "white",
             "minorgridcolor": "white",
             "startlinecolor": "#2a3f5f"
            },
            "type": "carpet"
           }
          ],
          "choropleth": [
           {
            "colorbar": {
             "outlinewidth": 0,
             "ticks": ""
            },
            "type": "choropleth"
           }
          ],
          "contour": [
           {
            "colorbar": {
             "outlinewidth": 0,
             "ticks": ""
            },
            "colorscale": [
             [
              0,
              "#0d0887"
             ],
             [
              0.1111111111111111,
              "#46039f"
             ],
             [
              0.2222222222222222,
              "#7201a8"
             ],
             [
              0.3333333333333333,
              "#9c179e"
             ],
             [
              0.4444444444444444,
              "#bd3786"
             ],
             [
              0.5555555555555556,
              "#d8576b"
             ],
             [
              0.6666666666666666,
              "#ed7953"
             ],
             [
              0.7777777777777778,
              "#fb9f3a"
             ],
             [
              0.8888888888888888,
              "#fdca26"
             ],
             [
              1,
              "#f0f921"
             ]
            ],
            "type": "contour"
           }
          ],
          "contourcarpet": [
           {
            "colorbar": {
             "outlinewidth": 0,
             "ticks": ""
            },
            "type": "contourcarpet"
           }
          ],
          "heatmap": [
           {
            "colorbar": {
             "outlinewidth": 0,
             "ticks": ""
            },
            "colorscale": [
             [
              0,
              "#0d0887"
             ],
             [
              0.1111111111111111,
              "#46039f"
             ],
             [
              0.2222222222222222,
              "#7201a8"
             ],
             [
              0.3333333333333333,
              "#9c179e"
             ],
             [
              0.4444444444444444,
              "#bd3786"
             ],
             [
              0.5555555555555556,
              "#d8576b"
             ],
             [
              0.6666666666666666,
              "#ed7953"
             ],
             [
              0.7777777777777778,
              "#fb9f3a"
             ],
             [
              0.8888888888888888,
              "#fdca26"
             ],
             [
              1,
              "#f0f921"
             ]
            ],
            "type": "heatmap"
           }
          ],
          "heatmapgl": [
           {
            "colorbar": {
             "outlinewidth": 0,
             "ticks": ""
            },
            "colorscale": [
             [
              0,
              "#0d0887"
             ],
             [
              0.1111111111111111,
              "#46039f"
             ],
             [
              0.2222222222222222,
              "#7201a8"
             ],
             [
              0.3333333333333333,
              "#9c179e"
             ],
             [
              0.4444444444444444,
              "#bd3786"
             ],
             [
              0.5555555555555556,
              "#d8576b"
             ],
             [
              0.6666666666666666,
              "#ed7953"
             ],
             [
              0.7777777777777778,
              "#fb9f3a"
             ],
             [
              0.8888888888888888,
              "#fdca26"
             ],
             [
              1,
              "#f0f921"
             ]
            ],
            "type": "heatmapgl"
           }
          ],
          "histogram": [
           {
            "marker": {
             "pattern": {
              "fillmode": "overlay",
              "size": 10,
              "solidity": 0.2
             }
            },
            "type": "histogram"
           }
          ],
          "histogram2d": [
           {
            "colorbar": {
             "outlinewidth": 0,
             "ticks": ""
            },
            "colorscale": [
             [
              0,
              "#0d0887"
             ],
             [
              0.1111111111111111,
              "#46039f"
             ],
             [
              0.2222222222222222,
              "#7201a8"
             ],
             [
              0.3333333333333333,
              "#9c179e"
             ],
             [
              0.4444444444444444,
              "#bd3786"
             ],
             [
              0.5555555555555556,
              "#d8576b"
             ],
             [
              0.6666666666666666,
              "#ed7953"
             ],
             [
              0.7777777777777778,
              "#fb9f3a"
             ],
             [
              0.8888888888888888,
              "#fdca26"
             ],
             [
              1,
              "#f0f921"
             ]
            ],
            "type": "histogram2d"
           }
          ],
          "histogram2dcontour": [
           {
            "colorbar": {
             "outlinewidth": 0,
             "ticks": ""
            },
            "colorscale": [
             [
              0,
              "#0d0887"
             ],
             [
              0.1111111111111111,
              "#46039f"
             ],
             [
              0.2222222222222222,
              "#7201a8"
             ],
             [
              0.3333333333333333,
              "#9c179e"
             ],
             [
              0.4444444444444444,
              "#bd3786"
             ],
             [
              0.5555555555555556,
              "#d8576b"
             ],
             [
              0.6666666666666666,
              "#ed7953"
             ],
             [
              0.7777777777777778,
              "#fb9f3a"
             ],
             [
              0.8888888888888888,
              "#fdca26"
             ],
             [
              1,
              "#f0f921"
             ]
            ],
            "type": "histogram2dcontour"
           }
          ],
          "mesh3d": [
           {
            "colorbar": {
             "outlinewidth": 0,
             "ticks": ""
            },
            "type": "mesh3d"
           }
          ],
          "parcoords": [
           {
            "line": {
             "colorbar": {
              "outlinewidth": 0,
              "ticks": ""
             }
            },
            "type": "parcoords"
           }
          ],
          "pie": [
           {
            "automargin": true,
            "type": "pie"
           }
          ],
          "scatter": [
           {
            "marker": {
             "colorbar": {
              "outlinewidth": 0,
              "ticks": ""
             }
            },
            "type": "scatter"
           }
          ],
          "scatter3d": [
           {
            "line": {
             "colorbar": {
              "outlinewidth": 0,
              "ticks": ""
             }
            },
            "marker": {
             "colorbar": {
              "outlinewidth": 0,
              "ticks": ""
             }
            },
            "type": "scatter3d"
           }
          ],
          "scattercarpet": [
           {
            "marker": {
             "colorbar": {
              "outlinewidth": 0,
              "ticks": ""
             }
            },
            "type": "scattercarpet"
           }
          ],
          "scattergeo": [
           {
            "marker": {
             "colorbar": {
              "outlinewidth": 0,
              "ticks": ""
             }
            },
            "type": "scattergeo"
           }
          ],
          "scattergl": [
           {
            "marker": {
             "colorbar": {
              "outlinewidth": 0,
              "ticks": ""
             }
            },
            "type": "scattergl"
           }
          ],
          "scattermapbox": [
           {
            "marker": {
             "colorbar": {
              "outlinewidth": 0,
              "ticks": ""
             }
            },
            "type": "scattermapbox"
           }
          ],
          "scatterpolar": [
           {
            "marker": {
             "colorbar": {
              "outlinewidth": 0,
              "ticks": ""
             }
            },
            "type": "scatterpolar"
           }
          ],
          "scatterpolargl": [
           {
            "marker": {
             "colorbar": {
              "outlinewidth": 0,
              "ticks": ""
             }
            },
            "type": "scatterpolargl"
           }
          ],
          "scatterternary": [
           {
            "marker": {
             "colorbar": {
              "outlinewidth": 0,
              "ticks": ""
             }
            },
            "type": "scatterternary"
           }
          ],
          "surface": [
           {
            "colorbar": {
             "outlinewidth": 0,
             "ticks": ""
            },
            "colorscale": [
             [
              0,
              "#0d0887"
             ],
             [
              0.1111111111111111,
              "#46039f"
             ],
             [
              0.2222222222222222,
              "#7201a8"
             ],
             [
              0.3333333333333333,
              "#9c179e"
             ],
             [
              0.4444444444444444,
              "#bd3786"
             ],
             [
              0.5555555555555556,
              "#d8576b"
             ],
             [
              0.6666666666666666,
              "#ed7953"
             ],
             [
              0.7777777777777778,
              "#fb9f3a"
             ],
             [
              0.8888888888888888,
              "#fdca26"
             ],
             [
              1,
              "#f0f921"
             ]
            ],
            "type": "surface"
           }
          ],
          "table": [
           {
            "cells": {
             "fill": {
              "color": "#EBF0F8"
             },
             "line": {
              "color": "white"
             }
            },
            "header": {
             "fill": {
              "color": "#C8D4E3"
             },
             "line": {
              "color": "white"
             }
            },
            "type": "table"
           }
          ]
         },
         "layout": {
          "annotationdefaults": {
           "arrowcolor": "#2a3f5f",
           "arrowhead": 0,
           "arrowwidth": 1
          },
          "autotypenumbers": "strict",
          "coloraxis": {
           "colorbar": {
            "outlinewidth": 0,
            "ticks": ""
           }
          },
          "colorscale": {
           "diverging": [
            [
             0,
             "#8e0152"
            ],
            [
             0.1,
             "#c51b7d"
            ],
            [
             0.2,
             "#de77ae"
            ],
            [
             0.3,
             "#f1b6da"
            ],
            [
             0.4,
             "#fde0ef"
            ],
            [
             0.5,
             "#f7f7f7"
            ],
            [
             0.6,
             "#e6f5d0"
            ],
            [
             0.7,
             "#b8e186"
            ],
            [
             0.8,
             "#7fbc41"
            ],
            [
             0.9,
             "#4d9221"
            ],
            [
             1,
             "#276419"
            ]
           ],
           "sequential": [
            [
             0,
             "#0d0887"
            ],
            [
             0.1111111111111111,
             "#46039f"
            ],
            [
             0.2222222222222222,
             "#7201a8"
            ],
            [
             0.3333333333333333,
             "#9c179e"
            ],
            [
             0.4444444444444444,
             "#bd3786"
            ],
            [
             0.5555555555555556,
             "#d8576b"
            ],
            [
             0.6666666666666666,
             "#ed7953"
            ],
            [
             0.7777777777777778,
             "#fb9f3a"
            ],
            [
             0.8888888888888888,
             "#fdca26"
            ],
            [
             1,
             "#f0f921"
            ]
           ],
           "sequentialminus": [
            [
             0,
             "#0d0887"
            ],
            [
             0.1111111111111111,
             "#46039f"
            ],
            [
             0.2222222222222222,
             "#7201a8"
            ],
            [
             0.3333333333333333,
             "#9c179e"
            ],
            [
             0.4444444444444444,
             "#bd3786"
            ],
            [
             0.5555555555555556,
             "#d8576b"
            ],
            [
             0.6666666666666666,
             "#ed7953"
            ],
            [
             0.7777777777777778,
             "#fb9f3a"
            ],
            [
             0.8888888888888888,
             "#fdca26"
            ],
            [
             1,
             "#f0f921"
            ]
           ]
          },
          "colorway": [
           "#636efa",
           "#EF553B",
           "#00cc96",
           "#ab63fa",
           "#FFA15A",
           "#19d3f3",
           "#FF6692",
           "#B6E880",
           "#FF97FF",
           "#FECB52"
          ],
          "font": {
           "color": "#2a3f5f"
          },
          "geo": {
           "bgcolor": "white",
           "lakecolor": "white",
           "landcolor": "#E5ECF6",
           "showlakes": true,
           "showland": true,
           "subunitcolor": "white"
          },
          "hoverlabel": {
           "align": "left"
          },
          "hovermode": "closest",
          "mapbox": {
           "style": "light"
          },
          "paper_bgcolor": "white",
          "plot_bgcolor": "#E5ECF6",
          "polar": {
           "angularaxis": {
            "gridcolor": "white",
            "linecolor": "white",
            "ticks": ""
           },
           "bgcolor": "#E5ECF6",
           "radialaxis": {
            "gridcolor": "white",
            "linecolor": "white",
            "ticks": ""
           }
          },
          "scene": {
           "xaxis": {
            "backgroundcolor": "#E5ECF6",
            "gridcolor": "white",
            "gridwidth": 2,
            "linecolor": "white",
            "showbackground": true,
            "ticks": "",
            "zerolinecolor": "white"
           },
           "yaxis": {
            "backgroundcolor": "#E5ECF6",
            "gridcolor": "white",
            "gridwidth": 2,
            "linecolor": "white",
            "showbackground": true,
            "ticks": "",
            "zerolinecolor": "white"
           },
           "zaxis": {
            "backgroundcolor": "#E5ECF6",
            "gridcolor": "white",
            "gridwidth": 2,
            "linecolor": "white",
            "showbackground": true,
            "ticks": "",
            "zerolinecolor": "white"
           }
          },
          "shapedefaults": {
           "line": {
            "color": "#2a3f5f"
           }
          },
          "ternary": {
           "aaxis": {
            "gridcolor": "white",
            "linecolor": "white",
            "ticks": ""
           },
           "baxis": {
            "gridcolor": "white",
            "linecolor": "white",
            "ticks": ""
           },
           "bgcolor": "#E5ECF6",
           "caxis": {
            "gridcolor": "white",
            "linecolor": "white",
            "ticks": ""
           }
          },
          "title": {
           "x": 0.05
          },
          "xaxis": {
           "automargin": true,
           "gridcolor": "white",
           "linecolor": "white",
           "ticks": "",
           "title": {
            "standoff": 15
           },
           "zerolinecolor": "white",
           "zerolinewidth": 2
          },
          "yaxis": {
           "automargin": true,
           "gridcolor": "white",
           "linecolor": "white",
           "ticks": "",
           "title": {
            "standoff": 15
           },
           "zerolinecolor": "white",
           "zerolinewidth": 2
          }
         }
        },
        "title": {
         "text": "Population Overall View 2017"
        },
        "width": 1100,
        "xaxis": {
         "title": {
          "text": "Year"
         }
        },
        "yaxis": {
         "title": {
          "text": ""
         }
        }
       }
      },
      "text/html": [
       "<div>                            <div id=\"6ef94812-c515-4723-9145-e1aa71f37fb8\" class=\"plotly-graph-div\" style=\"height:500px; width:1100px;\"></div>            <script type=\"text/javascript\">                require([\"plotly\"], function(Plotly) {                    window.PLOTLYENV=window.PLOTLYENV || {};                                    if (document.getElementById(\"6ef94812-c515-4723-9145-e1aa71f37fb8\")) {                    Plotly.newPlot(                        \"6ef94812-c515-4723-9145-e1aa71f37fb8\",                        [{\"connectgaps\":true,\"line\":{\"color\":\"red\",\"width\":1},\"name\":\"Total Population(Billion)\",\"x\":[\"1960\",\"1961\",\"1962\",\"1963\",\"1964\",\"1965\",\"1966\",\"1967\",\"1968\",\"1969\",\"1970\",\"1971\",\"1972\",\"1973\",\"1974\",\"1975\",\"1976\",\"1977\",\"1978\",\"1979\",\"1980\",\"1981\",\"1982\",\"1983\",\"1984\",\"1985\",\"1986\",\"1987\",\"1988\",\"1989\",\"1990\",\"1991\",\"1992\",\"1993\",\"1994\",\"1995\",\"1996\",\"1997\",\"1998\",\"1999\",\"2000\",\"2001\",\"2002\",\"2003\",\"2004\",\"2005\",\"2006\",\"2007\",\"2008\",\"2009\",\"2010\",\"2011\",\"2012\",\"2013\",\"2014\",\"2015\",\"2016\",\"2017\"],\"y\":[3.03215607,3.071596055,3.124561005,3.189655687,3.255145692,3.322046795,3.392097729,3.461619724,3.532782993,3.606553753,3.681975908,3.760516757,3.836900801,3.912984371,3.988487336,4.062507027,4.135432265,4.207786422,4.281339378,4.356778367,4.432963653,4.511164132,4.592387213,4.674330282,4.755996689,4.839176734,4.924747934,5.012556248,5.101287675,5.189977062,5.280062644,5.368139818,5.452576967,5.537885402,5.622085293,5.706753581,5.789655178,5.872284397,5.95400434,6.034484369,6.114324044,6.193663732,6.272724236,6.351855732,6.431527221,6.511724848,6.592711655,6.674181848,6.757000414,6.839553692,6.921854591,7.00376044,7.089254548,7.175500378,7.261846543,7.347679005,7.43356933,7.519183459],\"type\":\"scatter\"},{\"connectgaps\":true,\"line\":{\"color\":\"green\",\"width\":1},\"name\":\"Total Birth(Per Women)\",\"x\":[\"1960\",\"1961\",\"1962\",\"1963\",\"1964\",\"1965\",\"1966\",\"1967\",\"1968\",\"1969\",\"1970\",\"1971\",\"1972\",\"1973\",\"1974\",\"1975\",\"1976\",\"1977\",\"1978\",\"1979\",\"1980\",\"1981\",\"1982\",\"1983\",\"1984\",\"1985\",\"1986\",\"1987\",\"1988\",\"1989\",\"1990\",\"1991\",\"1992\",\"1993\",\"1994\",\"1995\",\"1996\",\"1997\",\"1998\",\"1999\",\"2000\",\"2001\",\"2002\",\"2003\",\"2004\",\"2005\",\"2006\",\"2007\",\"2008\",\"2009\",\"2010\",\"2011\",\"2012\",\"2013\",\"2014\",\"2015\",\"2016\",\"2017\"],\"y\":[4.979299498,5.003564277,5.025367418,5.045550595,5.056470116,5.040687076,4.992084743,4.97327569,4.922089469,4.855976292,4.778572494,4.669268331,4.53970361,4.410469926,4.288770812,4.15688867,4.040382918,3.936737207,3.843072253,3.77341512,3.713652391,3.656614012,3.627155101,3.5945681,3.564195128,3.535984167,3.499524247,3.455160571,3.398938314,3.324349664,3.248547126,3.157407402,3.071547794,2.987612744,2.921842129,2.862563637,2.816996486,2.777270188,2.746359225,2.716833207,2.69616578,2.666349493,2.64355328,2.6248957,2.608629514,2.588058048,2.577170957,2.567089029,2.554934486,2.534207585,2.516290288,2.498604082,2.48889436,2.472253007,2.464680782,2.455270398,2.44464622,2.427212258],\"type\":\"scatter\"},{\"connectgaps\":true,\"line\":{\"color\":\"blue\",\"width\":1},\"name\":\"Age above 65(%)\",\"x\":[\"1960\",\"1961\",\"1962\",\"1963\",\"1964\",\"1965\",\"1966\",\"1967\",\"1968\",\"1969\",\"1970\",\"1971\",\"1972\",\"1973\",\"1974\",\"1975\",\"1976\",\"1977\",\"1978\",\"1979\",\"1980\",\"1981\",\"1982\",\"1983\",\"1984\",\"1985\",\"1986\",\"1987\",\"1988\",\"1989\",\"1990\",\"1991\",\"1992\",\"1993\",\"1994\",\"1995\",\"1996\",\"1997\",\"1998\",\"1999\",\"2000\",\"2001\",\"2002\",\"2003\",\"2004\",\"2005\",\"2006\",\"2007\",\"2008\",\"2009\",\"2010\",\"2011\",\"2012\",\"2013\",\"2014\",\"2015\",\"2016\",\"2017\"],\"y\":[4.97017227691351,5.01676965721514,5.04238259644718,5.05203320581342,5.05644497311415,5.05754736775835,5.11423791923572,5.16827259595989,5.21814324577902,5.2626248960447,5.30156248900248,5.36871670089752,5.4274464950562,5.47983835545349,5.52970428223649,5.57906974211897,5.65858768203791,5.73643560118006,5.80687985739999,5.86047796380065,5.89286027934988,5.92744388074803,5.9361852795685,5.93196788044164,5.93021226528731,5.93884483016137,5.97574203727576,6.01604026236198,6.06038173107217,6.10927502920718,6.1615281745756,6.23488657020027,6.31506467061598,6.39363287760375,6.46507577749995,6.52581094479718,6.61345904576829,6.6834278064723,6.74405796764097,6.80600039105418,6.87408599860318,6.95816084722875,7.04547331091156,7.13040910684717,7.20230914456665,7.25754768724634,7.32752554645265,7.38333689693132,7.43461342599437,7.49318889349556,7.5671306462621,7.66798603085752,7.78127093774876,7.90897867182356,8.05574272500899,8.22430812652665,8.42853591420842,8.64817370613636],\"type\":\"scatter\"}],                        {\"height\":500,\"template\":{\"data\":{\"barpolar\":[{\"marker\":{\"line\":{\"color\":\"#E5ECF6\",\"width\":0.5},\"pattern\":{\"fillmode\":\"overlay\",\"size\":10,\"solidity\":0.2}},\"type\":\"barpolar\"}],\"bar\":[{\"error_x\":{\"color\":\"#2a3f5f\"},\"error_y\":{\"color\":\"#2a3f5f\"},\"marker\":{\"line\":{\"color\":\"#E5ECF6\",\"width\":0.5},\"pattern\":{\"fillmode\":\"overlay\",\"size\":10,\"solidity\":0.2}},\"type\":\"bar\"}],\"carpet\":[{\"aaxis\":{\"endlinecolor\":\"#2a3f5f\",\"gridcolor\":\"white\",\"linecolor\":\"white\",\"minorgridcolor\":\"white\",\"startlinecolor\":\"#2a3f5f\"},\"baxis\":{\"endlinecolor\":\"#2a3f5f\",\"gridcolor\":\"white\",\"linecolor\":\"white\",\"minorgridcolor\":\"white\",\"startlinecolor\":\"#2a3f5f\"},\"type\":\"carpet\"}],\"choropleth\":[{\"colorbar\":{\"outlinewidth\":0,\"ticks\":\"\"},\"type\":\"choropleth\"}],\"contourcarpet\":[{\"colorbar\":{\"outlinewidth\":0,\"ticks\":\"\"},\"type\":\"contourcarpet\"}],\"contour\":[{\"colorbar\":{\"outlinewidth\":0,\"ticks\":\"\"},\"colorscale\":[[0.0,\"#0d0887\"],[0.1111111111111111,\"#46039f\"],[0.2222222222222222,\"#7201a8\"],[0.3333333333333333,\"#9c179e\"],[0.4444444444444444,\"#bd3786\"],[0.5555555555555556,\"#d8576b\"],[0.6666666666666666,\"#ed7953\"],[0.7777777777777778,\"#fb9f3a\"],[0.8888888888888888,\"#fdca26\"],[1.0,\"#f0f921\"]],\"type\":\"contour\"}],\"heatmapgl\":[{\"colorbar\":{\"outlinewidth\":0,\"ticks\":\"\"},\"colorscale\":[[0.0,\"#0d0887\"],[0.1111111111111111,\"#46039f\"],[0.2222222222222222,\"#7201a8\"],[0.3333333333333333,\"#9c179e\"],[0.4444444444444444,\"#bd3786\"],[0.5555555555555556,\"#d8576b\"],[0.6666666666666666,\"#ed7953\"],[0.7777777777777778,\"#fb9f3a\"],[0.8888888888888888,\"#fdca26\"],[1.0,\"#f0f921\"]],\"type\":\"heatmapgl\"}],\"heatmap\":[{\"colorbar\":{\"outlinewidth\":0,\"ticks\":\"\"},\"colorscale\":[[0.0,\"#0d0887\"],[0.1111111111111111,\"#46039f\"],[0.2222222222222222,\"#7201a8\"],[0.3333333333333333,\"#9c179e\"],[0.4444444444444444,\"#bd3786\"],[0.5555555555555556,\"#d8576b\"],[0.6666666666666666,\"#ed7953\"],[0.7777777777777778,\"#fb9f3a\"],[0.8888888888888888,\"#fdca26\"],[1.0,\"#f0f921\"]],\"type\":\"heatmap\"}],\"histogram2dcontour\":[{\"colorbar\":{\"outlinewidth\":0,\"ticks\":\"\"},\"colorscale\":[[0.0,\"#0d0887\"],[0.1111111111111111,\"#46039f\"],[0.2222222222222222,\"#7201a8\"],[0.3333333333333333,\"#9c179e\"],[0.4444444444444444,\"#bd3786\"],[0.5555555555555556,\"#d8576b\"],[0.6666666666666666,\"#ed7953\"],[0.7777777777777778,\"#fb9f3a\"],[0.8888888888888888,\"#fdca26\"],[1.0,\"#f0f921\"]],\"type\":\"histogram2dcontour\"}],\"histogram2d\":[{\"colorbar\":{\"outlinewidth\":0,\"ticks\":\"\"},\"colorscale\":[[0.0,\"#0d0887\"],[0.1111111111111111,\"#46039f\"],[0.2222222222222222,\"#7201a8\"],[0.3333333333333333,\"#9c179e\"],[0.4444444444444444,\"#bd3786\"],[0.5555555555555556,\"#d8576b\"],[0.6666666666666666,\"#ed7953\"],[0.7777777777777778,\"#fb9f3a\"],[0.8888888888888888,\"#fdca26\"],[1.0,\"#f0f921\"]],\"type\":\"histogram2d\"}],\"histogram\":[{\"marker\":{\"pattern\":{\"fillmode\":\"overlay\",\"size\":10,\"solidity\":0.2}},\"type\":\"histogram\"}],\"mesh3d\":[{\"colorbar\":{\"outlinewidth\":0,\"ticks\":\"\"},\"type\":\"mesh3d\"}],\"parcoords\":[{\"line\":{\"colorbar\":{\"outlinewidth\":0,\"ticks\":\"\"}},\"type\":\"parcoords\"}],\"pie\":[{\"automargin\":true,\"type\":\"pie\"}],\"scatter3d\":[{\"line\":{\"colorbar\":{\"outlinewidth\":0,\"ticks\":\"\"}},\"marker\":{\"colorbar\":{\"outlinewidth\":0,\"ticks\":\"\"}},\"type\":\"scatter3d\"}],\"scattercarpet\":[{\"marker\":{\"colorbar\":{\"outlinewidth\":0,\"ticks\":\"\"}},\"type\":\"scattercarpet\"}],\"scattergeo\":[{\"marker\":{\"colorbar\":{\"outlinewidth\":0,\"ticks\":\"\"}},\"type\":\"scattergeo\"}],\"scattergl\":[{\"marker\":{\"colorbar\":{\"outlinewidth\":0,\"ticks\":\"\"}},\"type\":\"scattergl\"}],\"scattermapbox\":[{\"marker\":{\"colorbar\":{\"outlinewidth\":0,\"ticks\":\"\"}},\"type\":\"scattermapbox\"}],\"scatterpolargl\":[{\"marker\":{\"colorbar\":{\"outlinewidth\":0,\"ticks\":\"\"}},\"type\":\"scatterpolargl\"}],\"scatterpolar\":[{\"marker\":{\"colorbar\":{\"outlinewidth\":0,\"ticks\":\"\"}},\"type\":\"scatterpolar\"}],\"scatter\":[{\"marker\":{\"colorbar\":{\"outlinewidth\":0,\"ticks\":\"\"}},\"type\":\"scatter\"}],\"scatterternary\":[{\"marker\":{\"colorbar\":{\"outlinewidth\":0,\"ticks\":\"\"}},\"type\":\"scatterternary\"}],\"surface\":[{\"colorbar\":{\"outlinewidth\":0,\"ticks\":\"\"},\"colorscale\":[[0.0,\"#0d0887\"],[0.1111111111111111,\"#46039f\"],[0.2222222222222222,\"#7201a8\"],[0.3333333333333333,\"#9c179e\"],[0.4444444444444444,\"#bd3786\"],[0.5555555555555556,\"#d8576b\"],[0.6666666666666666,\"#ed7953\"],[0.7777777777777778,\"#fb9f3a\"],[0.8888888888888888,\"#fdca26\"],[1.0,\"#f0f921\"]],\"type\":\"surface\"}],\"table\":[{\"cells\":{\"fill\":{\"color\":\"#EBF0F8\"},\"line\":{\"color\":\"white\"}},\"header\":{\"fill\":{\"color\":\"#C8D4E3\"},\"line\":{\"color\":\"white\"}},\"type\":\"table\"}]},\"layout\":{\"annotationdefaults\":{\"arrowcolor\":\"#2a3f5f\",\"arrowhead\":0,\"arrowwidth\":1},\"autotypenumbers\":\"strict\",\"coloraxis\":{\"colorbar\":{\"outlinewidth\":0,\"ticks\":\"\"}},\"colorscale\":{\"diverging\":[[0,\"#8e0152\"],[0.1,\"#c51b7d\"],[0.2,\"#de77ae\"],[0.3,\"#f1b6da\"],[0.4,\"#fde0ef\"],[0.5,\"#f7f7f7\"],[0.6,\"#e6f5d0\"],[0.7,\"#b8e186\"],[0.8,\"#7fbc41\"],[0.9,\"#4d9221\"],[1,\"#276419\"]],\"sequential\":[[0.0,\"#0d0887\"],[0.1111111111111111,\"#46039f\"],[0.2222222222222222,\"#7201a8\"],[0.3333333333333333,\"#9c179e\"],[0.4444444444444444,\"#bd3786\"],[0.5555555555555556,\"#d8576b\"],[0.6666666666666666,\"#ed7953\"],[0.7777777777777778,\"#fb9f3a\"],[0.8888888888888888,\"#fdca26\"],[1.0,\"#f0f921\"]],\"sequentialminus\":[[0.0,\"#0d0887\"],[0.1111111111111111,\"#46039f\"],[0.2222222222222222,\"#7201a8\"],[0.3333333333333333,\"#9c179e\"],[0.4444444444444444,\"#bd3786\"],[0.5555555555555556,\"#d8576b\"],[0.6666666666666666,\"#ed7953\"],[0.7777777777777778,\"#fb9f3a\"],[0.8888888888888888,\"#fdca26\"],[1.0,\"#f0f921\"]]},\"colorway\":[\"#636efa\",\"#EF553B\",\"#00cc96\",\"#ab63fa\",\"#FFA15A\",\"#19d3f3\",\"#FF6692\",\"#B6E880\",\"#FF97FF\",\"#FECB52\"],\"font\":{\"color\":\"#2a3f5f\"},\"geo\":{\"bgcolor\":\"white\",\"lakecolor\":\"white\",\"landcolor\":\"#E5ECF6\",\"showlakes\":true,\"showland\":true,\"subunitcolor\":\"white\"},\"hoverlabel\":{\"align\":\"left\"},\"hovermode\":\"closest\",\"mapbox\":{\"style\":\"light\"},\"paper_bgcolor\":\"white\",\"plot_bgcolor\":\"#E5ECF6\",\"polar\":{\"angularaxis\":{\"gridcolor\":\"white\",\"linecolor\":\"white\",\"ticks\":\"\"},\"bgcolor\":\"#E5ECF6\",\"radialaxis\":{\"gridcolor\":\"white\",\"linecolor\":\"white\",\"ticks\":\"\"}},\"scene\":{\"xaxis\":{\"backgroundcolor\":\"#E5ECF6\",\"gridcolor\":\"white\",\"gridwidth\":2,\"linecolor\":\"white\",\"showbackground\":true,\"ticks\":\"\",\"zerolinecolor\":\"white\"},\"yaxis\":{\"backgroundcolor\":\"#E5ECF6\",\"gridcolor\":\"white\",\"gridwidth\":2,\"linecolor\":\"white\",\"showbackground\":true,\"ticks\":\"\",\"zerolinecolor\":\"white\"},\"zaxis\":{\"backgroundcolor\":\"#E5ECF6\",\"gridcolor\":\"white\",\"gridwidth\":2,\"linecolor\":\"white\",\"showbackground\":true,\"ticks\":\"\",\"zerolinecolor\":\"white\"}},\"shapedefaults\":{\"line\":{\"color\":\"#2a3f5f\"}},\"ternary\":{\"aaxis\":{\"gridcolor\":\"white\",\"linecolor\":\"white\",\"ticks\":\"\"},\"baxis\":{\"gridcolor\":\"white\",\"linecolor\":\"white\",\"ticks\":\"\"},\"bgcolor\":\"#E5ECF6\",\"caxis\":{\"gridcolor\":\"white\",\"linecolor\":\"white\",\"ticks\":\"\"}},\"title\":{\"x\":0.05},\"xaxis\":{\"automargin\":true,\"gridcolor\":\"white\",\"linecolor\":\"white\",\"ticks\":\"\",\"title\":{\"standoff\":15},\"zerolinecolor\":\"white\",\"zerolinewidth\":2},\"yaxis\":{\"automargin\":true,\"gridcolor\":\"white\",\"linecolor\":\"white\",\"ticks\":\"\",\"title\":{\"standoff\":15},\"zerolinecolor\":\"white\",\"zerolinewidth\":2}}},\"title\":{\"text\":\"Population Overall View 2017\"},\"width\":1100,\"xaxis\":{\"title\":{\"text\":\"Year\"}},\"yaxis\":{\"title\":{\"text\":\"\"}}},                        {\"responsive\": true}                    ).then(function(){\n",
       "                            \n",
       "var gd = document.getElementById('6ef94812-c515-4723-9145-e1aa71f37fb8');\n",
       "var x = new MutationObserver(function (mutations, observer) {{\n",
       "        var display = window.getComputedStyle(gd).display;\n",
       "        if (!display || display === 'none') {{\n",
       "            console.log([gd, 'removed!']);\n",
       "            Plotly.purge(gd);\n",
       "            observer.disconnect();\n",
       "        }}\n",
       "}});\n",
       "\n",
       "// Listen for the removal of the full notebook cells\n",
       "var notebookContainer = gd.closest('#notebook-container');\n",
       "if (notebookContainer) {{\n",
       "    x.observe(notebookContainer, {childList: true});\n",
       "}}\n",
       "\n",
       "// Listen for the clearing of the current output cell\n",
       "var outputEl = gd.closest('.output');\n",
       "if (outputEl) {{\n",
       "    x.observe(outputEl, {childList: true});\n",
       "}}\n",
       "\n",
       "                        })                };                });            </script>        </div>"
      ]
     },
     "metadata": {},
     "output_type": "display_data"
    }
   ],
   "source": [
    "# ploting\n",
    "\n",
    "population_2017 = go.Scatter(\n",
    "    \n",
    "    x = df_world_2017['year'],\n",
    "    y = df_world_2017['divide'],\n",
    "    \n",
    "    name = 'Total Population(Billion)',\n",
    "    \n",
    "    line = dict(color = 'red',\n",
    "                width = 1),\n",
    "    \n",
    "    connectgaps = True\n",
    ")\n",
    "\n",
    "birth_2017 = go.Scatter(\n",
    "    \n",
    "    x = df_birthrate_2017['year'],\n",
    "    y = df_birthrate_2017['birthrate'],\n",
    "    \n",
    "    name = 'Total Birth(Per Women)',\n",
    "    \n",
    "    line = dict(color = 'green',\n",
    "                width = 1),\n",
    "    \n",
    "    connectgaps = True\n",
    ")\n",
    "\n",
    "Aging_2017 = go.Scatter(\n",
    "    \n",
    "    x = df_aging_2017['year'],\n",
    "    y = df_aging_2017['Aging'],\n",
    "    \n",
    "    name = 'Age above 65(%)',\n",
    "    \n",
    "    line = dict(color = 'blue',\n",
    "                width = 1),\n",
    "    \n",
    "    connectgaps = True\n",
    ")\n",
    "\n",
    "data = [population_2017, birth_2017, Aging_2017]\n",
    "\n",
    "layout = dict(title = 'Population Overall View 2017',\n",
    "              xaxis = dict(title = 'Year'),\n",
    "              yaxis = dict(title = ''),\n",
    "            width=1100,\n",
    "            height=500\n",
    "              )\n",
    "\n",
    "fig = dict(data=data, layout=layout)\n",
    "\n",
    "offline.iplot(fig)"
   ]
  },
  {
   "cell_type": "markdown",
   "id": "e0d0299b",
   "metadata": {},
   "source": [
    "## Merge dateset"
   ]
  },
  {
   "cell_type": "code",
   "execution_count": 228,
   "id": "18e9ce62",
   "metadata": {},
   "outputs": [],
   "source": [
    "# Merge dataset\n",
    "df_all = pd.merge(pd.merge(df_world_data, df_aging, on='Country Code', how='left'),df_birthrate, on='Country Code', how='left')\n",
    "df_all.set_index(df_world_data.index,inplace=True)"
   ]
  },
  {
   "cell_type": "code",
   "execution_count": 254,
   "id": "9c02d588",
   "metadata": {},
   "outputs": [],
   "source": [
    "# Pull 2017 data out\n",
    "df_all_2017 = df_all.loc[:, ['2017_x','2017_y','2017']]\n",
    "df_all_2017.columns = ['2017 Population', '2017 Aging %','2017']\n",
    "df_all_2017['Country Code'] = df_world_data['Country Code']"
   ]
  },
  {
   "cell_type": "code",
   "execution_count": 230,
   "id": "9ad6a993",
   "metadata": {},
   "outputs": [],
   "source": [
    "df_income = pd.read_csv('Country_income.csv', index_col='Country Code')\n",
    "df_income = df_income.reset_index()"
   ]
  },
  {
   "cell_type": "code",
   "execution_count": 231,
   "id": "bd917d0e",
   "metadata": {},
   "outputs": [],
   "source": [
    "# Merge dateset and keep useful data\n",
    "df_all_with_income_2017 = pd.merge(df_all_2017, df_income, on='Country Code', how='left')\n",
    "df_all_with_income_2017.set_index(df_all_2017.index,inplace=True)\n",
    "df_all_with_income_2017 = df_all_with_income_2017.drop(['Unnamed: 5', 'SpecialNotes', 'Region', 'TableName' ], axis = 1)\n",
    "df_all_with_income_2017 = df_all_with_income_2017.dropna()\n",
    "df_all_with_income_2017 = df_all_with_income_2017.reset_index()"
   ]
  },
  {
   "cell_type": "code",
   "execution_count": 232,
   "id": "3d58d08f",
   "metadata": {},
   "outputs": [],
   "source": [
    "df_migration_population = pd.read_csv('migration_population.csv', index_col='country')\n"
   ]
  },
  {
   "cell_type": "code",
   "execution_count": 233,
   "id": "8645dacd",
   "metadata": {},
   "outputs": [],
   "source": [
    "# keep useful data\n",
    "df_migration = df_migration_population.dropna(subset=['capitalCity'])\n",
    "df_migration = df_migration.loc[:, ['year','net_migration','migration_perc', 'iso3c']]\n",
    "df_migration = df_migration.rename(columns={'iso3c': 'Country Code'})\n",
    "df_mirgration_2017 = df_migration.loc[df_migration['year'] == 2017]"
   ]
  },
  {
   "cell_type": "code",
   "execution_count": 234,
   "id": "5e4c2d46",
   "metadata": {},
   "outputs": [],
   "source": [
    "# Merge dataset and keep useful data\n",
    "df_overall_2017 = pd.merge(df_all_with_income_2017,df_mirgration_2017, on='Country Code', how='left')\n",
    "df_overall_2017.set_index(df_all_with_income_2017.index,inplace=True)\n",
    "df_overall_2017 = df_overall_2017.drop(columns=['year'])\n",
    "df_overall_2017.drop(df_overall_2017.index[df_overall_2017['net_migration'] == 0], inplace=True)\n",
    "df_overall_2017 = df_overall_2017.dropna()\n",
    "df_overall_2017 = df_overall_2017.rename(columns={'2017' : 'BirthRate 2017'})"
   ]
  },
  {
   "cell_type": "markdown",
   "id": "35b2f716",
   "metadata": {},
   "source": [
    "## Relationship between population/birthrate/aging/mirgration and country incomegroup"
   ]
  },
  {
   "cell_type": "code",
   "execution_count": 235,
   "id": "5496d772",
   "metadata": {},
   "outputs": [],
   "source": [
    "# Function for ploting scatter plot\n",
    "def ploting_scatter (dateframe, x , y , color, symbol, hover_name, title):\n",
    "        dateframe = px.scatter(dateframe, x= x , y= y , color = color,\n",
    "                 symbol= symbol, hover_name= hover_name)\n",
    "        dateframe.update_layout(title=title, yaxis = dict(tickfont = dict(size=15)))\n",
    "        dateframe.show()         "
   ]
  },
  {
   "cell_type": "code",
   "execution_count": 236,
   "id": "a7a52682",
   "metadata": {},
   "outputs": [
    {
     "data": {
      "application/vnd.plotly.v1+json": {
       "config": {
        "plotlyServerURL": "https://plotly.com"
       },
       "data": [
        {
         "hovertemplate": "<b>%{hovertext}</b><br><br>IncomeGroup=High income<br>2017 Population=%{x}<br>net_migration=%{y}<extra></extra>",
         "hovertext": [
          "Aruba",
          "United Arab Emirates",
          "Australia",
          "Austria",
          "Belgium",
          "Bahrain",
          "Bahamas, The",
          "Barbados",
          "Canada",
          "Switzerland",
          "Chile",
          "Curacao",
          "Cyprus",
          "Czech Republic",
          "Germany",
          "Denmark",
          "Spain",
          "Estonia",
          "Finland",
          "France",
          "United Kingdom",
          "Greece",
          "Guam",
          "Croatia",
          "Hungary",
          "Ireland",
          "Iceland",
          "Italy",
          "Japan",
          "Korea, Rep.",
          "Kuwait",
          "Lithuania",
          "Luxembourg",
          "Latvia",
          "Malta",
          "New Caledonia",
          "Netherlands",
          "Norway",
          "New Zealand",
          "Oman",
          "Poland",
          "Puerto Rico",
          "Portugal",
          "French Polynesia",
          "Qatar",
          "Saudi Arabia",
          "Singapore",
          "Slovak Republic",
          "Slovenia",
          "Sweden",
          "Seychelles",
          "Trinidad and Tobago",
          "Uruguay",
          "United States",
          "Virgin Islands (U.S.)"
         ],
         "legendgroup": "High income",
         "marker": {
          "color": "#636efa",
          "symbol": "circle"
         },
         "mode": "markers",
         "name": "High income",
         "orientation": "v",
         "showlegend": true,
         "type": "scatter",
         "x": [
          105361,
          9487206,
          24601860,
          8797566,
          11375158,
          1494077,
          381749,
          286229,
          36545295,
          8451840,
          18470435,
          160175,
          1179685,
          10594438,
          82657002,
          5764980,
          46593236,
          1317384,
          5508214,
          66918020,
          66058859,
          10754679,
          164281,
          4124531,
          9787966,
          4807388,
          343400,
          60536709,
          126785797,
          51361911,
          4056102,
          2828403,
          596336,
          1942248,
          467999,
          270000,
          17131296,
          5276968,
          4813600,
          4665926,
          37974826,
          3325286,
          10300300,
          276108,
          2724727,
          33101183,
          5612253,
          5439232,
          2066388,
          10057698,
          95843,
          1384060,
          3436645,
          325122128,
          107281
         ],
         "xaxis": "x",
         "y": [
          1004,
          200000,
          791229,
          324998,
          240000,
          239000,
          4999,
          -397,
          1210159,
          259999,
          558539,
          2573,
          25000,
          110057,
          2719112,
          75998,
          200000,
          19555,
          70000,
          182636,
          1303250,
          -80000,
          -2532,
          -40004,
          29999,
          118020,
          1900,
          744713,
          357800,
          58657,
          197600,
          -163902,
          48704,
          -74186,
          4501,
          2510,
          80000,
          140000,
          74403,
          437000,
          -146976,
          -489932,
          -30001,
          -5000,
          200000,
          674895,
          135142,
          7423,
          9999,
          200000,
          -1000,
          -3999,
          -15000,
          4774029,
          -2254
         ],
         "yaxis": "y"
        },
        {
         "hovertemplate": "<b>%{hovertext}</b><br><br>IncomeGroup=Low income<br>2017 Population=%{x}<br>net_migration=%{y}<extra></extra>",
         "hovertext": [
          "Afghanistan",
          "Burundi",
          "Burkina Faso",
          "Central African Republic",
          "Congo, Dem. Rep.",
          "Ethiopia",
          "Guinea",
          "Gambia, The",
          "Guinea-Bissau",
          "Liberia",
          "Madagascar",
          "Mali",
          "Mozambique",
          "Malawi",
          "Niger",
          "Korea, Dem. People's Rep.",
          "Rwanda",
          "Sudan",
          "Sierra Leone",
          "Somalia",
          "South Sudan",
          "Syrian Arab Republic",
          "Chad",
          "Togo",
          "Uganda",
          "Yemen, Rep."
         ],
         "legendgroup": "Low income",
         "marker": {
          "color": "#EF553B",
          "symbol": "diamond"
         },
         "mode": "markers",
         "name": "Low income",
         "orientation": "v",
         "showlegend": true,
         "type": "scatter",
         "x": [
          36296111,
          10827010,
          19193236,
          4596023,
          81398765,
          106399926,
          12067516,
          2213900,
          1828146,
          4702224,
          25570511,
          18512429,
          28649007,
          17670193,
          21602388,
          25429816,
          11980960,
          40813398,
          7488427,
          14589165,
          10910774,
          17095669,
          15016761,
          7698476,
          41166588,
          27834811
         ],
         "xaxis": "x",
         "y": [
          -314602,
          10003,
          -125000,
          -200000,
          119303,
          150002,
          -20000,
          -15436,
          -6996,
          -25000,
          -7500,
          -200000,
          -25000,
          -80263,
          20001,
          -27013,
          -44998,
          -250001,
          -21000,
          -200002,
          -870998,
          -2136954,
          10000,
          -9999,
          843469,
          -150000
         ],
         "yaxis": "y"
        },
        {
         "hovertemplate": "<b>%{hovertext}</b><br><br>IncomeGroup=Lower middle income<br>2017 Population=%{x}<br>net_migration=%{y}<extra></extra>",
         "hovertext": [
          "Angola",
          "Benin",
          "Bangladesh",
          "Belize",
          "Bolivia",
          "Bhutan",
          "Cote d'Ivoire",
          "Cameroon",
          "Congo, Rep.",
          "Comoros",
          "Cabo Verde",
          "Djibouti",
          "Algeria",
          "Egypt, Arab Rep.",
          "Micronesia, Fed. Sts.",
          "Ghana",
          "Honduras",
          "Haiti",
          "Indonesia",
          "India",
          "Iran, Islamic Rep.",
          "Kenya",
          "Kyrgyz Republic",
          "Cambodia",
          "Kiribati",
          "Lao PDR",
          "Sri Lanka",
          "Lesotho",
          "Morocco",
          "Myanmar",
          "Mongolia",
          "Mauritania",
          "Nigeria",
          "Nicaragua",
          "Nepal",
          "Pakistan",
          "Philippines",
          "Papua New Guinea",
          "Senegal",
          "Solomon Islands",
          "El Salvador",
          "Sao Tome and Principe",
          "Eswatini",
          "Tajikistan",
          "Timor-Leste",
          "Tunisia",
          "Tanzania",
          "Ukraine",
          "Uzbekistan",
          "Vietnam",
          "Vanuatu",
          "Samoa",
          "Zambia",
          "Zimbabwe"
         ],
         "legendgroup": "Lower middle income",
         "marker": {
          "color": "#00cc96",
          "symbol": "square"
         },
         "mode": "markers",
         "name": "Lower middle income",
         "orientation": "v",
         "showlegend": true,
         "type": "scatter",
         "x": [
          29816769,
          11175192,
          159685421,
          375775,
          11192853,
          745563,
          24437475,
          24566070,
          5110701,
          813890,
          537499,
          944100,
          41389174,
          96442590,
          111461,
          29121464,
          9429016,
          10982367,
          264650969,
          1338676779,
          80673888,
          50221146,
          6198200,
          16009413,
          114153,
          6953031,
          21444000,
          2091532,
          35581257,
          53382521,
          3113788,
          4282582,
          190873247,
          6384843,
          27632682,
          207906210,
          105172921,
          8438038,
          15419354,
          636030,
          6388124,
          207086,
          1124808,
          8880270,
          1243260,
          11433438,
          54660345,
          44831135,
          32388600,
          94600643,
          285499,
          195358,
          16853608,
          14236599
         ],
         "xaxis": "x",
         "y": [
          32066,
          -10000,
          -1847503,
          6000,
          -47520,
          1600,
          -40000,
          -24000,
          -20000,
          -10000,
          -6709,
          4501,
          -50002,
          -190164,
          -2999,
          -50000,
          -34000,
          -175000,
          -494777,
          -2663434,
          -274998,
          -50000,
          -20000,
          -149999,
          -3999,
          -73518,
          -489932,
          -50234,
          -257096,
          -816564,
          -4262,
          25002,
          -300000,
          -106360,
          208549,
          -1166895,
          -335758,
          -3999,
          -100001,
          -7998,
          -202694,
          -8401,
          -41764,
          -99999,
          -26924,
          -20000,
          -200381,
          50001,
          -44314,
          -399999,
          600,
          -14013,
          -40000,
          -584288
         ],
         "yaxis": "y"
        },
        {
         "hovertemplate": "<b>%{hovertext}</b><br><br>IncomeGroup=Upper middle income<br>2017 Population=%{x}<br>net_migration=%{y}<extra></extra>",
         "hovertext": [
          "Albania",
          "Argentina",
          "Armenia",
          "Azerbaijan",
          "Bulgaria",
          "Bosnia and Herzegovina",
          "Belarus",
          "Brazil",
          "Botswana",
          "China",
          "Colombia",
          "Costa Rica",
          "Cuba",
          "Dominican Republic",
          "Ecuador",
          "Fiji",
          "Gabon",
          "Georgia",
          "Equatorial Guinea",
          "Grenada",
          "Guatemala",
          "Guyana",
          "Iraq",
          "Jamaica",
          "Jordan",
          "Kazakhstan",
          "Lebanon",
          "Libya",
          "Moldova",
          "Maldives",
          "Mexico",
          "North Macedonia",
          "Montenegro",
          "Malaysia",
          "Namibia",
          "Panama",
          "Peru",
          "Paraguay",
          "Romania",
          "Russian Federation",
          "Serbia",
          "Suriname",
          "Thailand",
          "Turkmenistan",
          "Tonga",
          "Turkey",
          "St. Vincent and the Grenadines",
          "South Africa"
         ],
         "legendgroup": "Upper middle income",
         "marker": {
          "color": "#ab63fa",
          "symbol": "x"
         },
         "mode": "markers",
         "name": "Upper middle income",
         "orientation": "v",
         "showlegend": true,
         "type": "scatter",
         "x": [
          2873457,
          44044811,
          2944789,
          9854033,
          7075947,
          3351534,
          9458989,
          207833825,
          2205076,
          1396215000,
          48909844,
          4949955,
          11339255,
          10513111,
          16785356,
          877460,
          2064812,
          3728004,
          1262008,
          110874,
          16087418,
          775218,
          37552789,
          2920848,
          9785840,
          18037776,
          6819373,
          6580723,
          2755158,
          496398,
          124777326,
          2074502,
          622373,
          31104655,
          2402623,
          4106764,
          31444299,
          6867058,
          19588715,
          144496739,
          7020858,
          570501,
          69209817,
          5757667,
          102002,
          81116451,
          109826,
          57009751
         ],
         "xaxis": "x",
         "y": [
          -69998,
          24000,
          -24989,
          6002,
          -24001,
          -107926,
          43648,
          106000,
          14999,
          -1741996,
          1023981,
          21000,
          -72000,
          -150000,
          182000,
          -31008,
          16301,
          -50000,
          79998,
          -1000,
          -46073,
          -30001,
          39171,
          -56658,
          51099,
          -90000,
          -150060,
          -9997,
          -6935,
          56851,
          -300000,
          -4999,
          -2400,
          249999,
          -24030,
          56000,
          495345,
          -82780,
          -369997,
          912279,
          20000,
          -4999,
          97222,
          -25001,
          -3999,
          1419610,
          -1000,
          727026
         ],
         "yaxis": "y"
        }
       ],
       "layout": {
        "legend": {
         "title": {
          "text": "IncomeGroup"
         },
         "tracegroupgap": 0
        },
        "margin": {
         "t": 60
        },
        "template": {
         "data": {
          "bar": [
           {
            "error_x": {
             "color": "#2a3f5f"
            },
            "error_y": {
             "color": "#2a3f5f"
            },
            "marker": {
             "line": {
              "color": "#E5ECF6",
              "width": 0.5
             },
             "pattern": {
              "fillmode": "overlay",
              "size": 10,
              "solidity": 0.2
             }
            },
            "type": "bar"
           }
          ],
          "barpolar": [
           {
            "marker": {
             "line": {
              "color": "#E5ECF6",
              "width": 0.5
             },
             "pattern": {
              "fillmode": "overlay",
              "size": 10,
              "solidity": 0.2
             }
            },
            "type": "barpolar"
           }
          ],
          "carpet": [
           {
            "aaxis": {
             "endlinecolor": "#2a3f5f",
             "gridcolor": "white",
             "linecolor": "white",
             "minorgridcolor": "white",
             "startlinecolor": "#2a3f5f"
            },
            "baxis": {
             "endlinecolor": "#2a3f5f",
             "gridcolor": "white",
             "linecolor": "white",
             "minorgridcolor": "white",
             "startlinecolor": "#2a3f5f"
            },
            "type": "carpet"
           }
          ],
          "choropleth": [
           {
            "colorbar": {
             "outlinewidth": 0,
             "ticks": ""
            },
            "type": "choropleth"
           }
          ],
          "contour": [
           {
            "colorbar": {
             "outlinewidth": 0,
             "ticks": ""
            },
            "colorscale": [
             [
              0,
              "#0d0887"
             ],
             [
              0.1111111111111111,
              "#46039f"
             ],
             [
              0.2222222222222222,
              "#7201a8"
             ],
             [
              0.3333333333333333,
              "#9c179e"
             ],
             [
              0.4444444444444444,
              "#bd3786"
             ],
             [
              0.5555555555555556,
              "#d8576b"
             ],
             [
              0.6666666666666666,
              "#ed7953"
             ],
             [
              0.7777777777777778,
              "#fb9f3a"
             ],
             [
              0.8888888888888888,
              "#fdca26"
             ],
             [
              1,
              "#f0f921"
             ]
            ],
            "type": "contour"
           }
          ],
          "contourcarpet": [
           {
            "colorbar": {
             "outlinewidth": 0,
             "ticks": ""
            },
            "type": "contourcarpet"
           }
          ],
          "heatmap": [
           {
            "colorbar": {
             "outlinewidth": 0,
             "ticks": ""
            },
            "colorscale": [
             [
              0,
              "#0d0887"
             ],
             [
              0.1111111111111111,
              "#46039f"
             ],
             [
              0.2222222222222222,
              "#7201a8"
             ],
             [
              0.3333333333333333,
              "#9c179e"
             ],
             [
              0.4444444444444444,
              "#bd3786"
             ],
             [
              0.5555555555555556,
              "#d8576b"
             ],
             [
              0.6666666666666666,
              "#ed7953"
             ],
             [
              0.7777777777777778,
              "#fb9f3a"
             ],
             [
              0.8888888888888888,
              "#fdca26"
             ],
             [
              1,
              "#f0f921"
             ]
            ],
            "type": "heatmap"
           }
          ],
          "heatmapgl": [
           {
            "colorbar": {
             "outlinewidth": 0,
             "ticks": ""
            },
            "colorscale": [
             [
              0,
              "#0d0887"
             ],
             [
              0.1111111111111111,
              "#46039f"
             ],
             [
              0.2222222222222222,
              "#7201a8"
             ],
             [
              0.3333333333333333,
              "#9c179e"
             ],
             [
              0.4444444444444444,
              "#bd3786"
             ],
             [
              0.5555555555555556,
              "#d8576b"
             ],
             [
              0.6666666666666666,
              "#ed7953"
             ],
             [
              0.7777777777777778,
              "#fb9f3a"
             ],
             [
              0.8888888888888888,
              "#fdca26"
             ],
             [
              1,
              "#f0f921"
             ]
            ],
            "type": "heatmapgl"
           }
          ],
          "histogram": [
           {
            "marker": {
             "pattern": {
              "fillmode": "overlay",
              "size": 10,
              "solidity": 0.2
             }
            },
            "type": "histogram"
           }
          ],
          "histogram2d": [
           {
            "colorbar": {
             "outlinewidth": 0,
             "ticks": ""
            },
            "colorscale": [
             [
              0,
              "#0d0887"
             ],
             [
              0.1111111111111111,
              "#46039f"
             ],
             [
              0.2222222222222222,
              "#7201a8"
             ],
             [
              0.3333333333333333,
              "#9c179e"
             ],
             [
              0.4444444444444444,
              "#bd3786"
             ],
             [
              0.5555555555555556,
              "#d8576b"
             ],
             [
              0.6666666666666666,
              "#ed7953"
             ],
             [
              0.7777777777777778,
              "#fb9f3a"
             ],
             [
              0.8888888888888888,
              "#fdca26"
             ],
             [
              1,
              "#f0f921"
             ]
            ],
            "type": "histogram2d"
           }
          ],
          "histogram2dcontour": [
           {
            "colorbar": {
             "outlinewidth": 0,
             "ticks": ""
            },
            "colorscale": [
             [
              0,
              "#0d0887"
             ],
             [
              0.1111111111111111,
              "#46039f"
             ],
             [
              0.2222222222222222,
              "#7201a8"
             ],
             [
              0.3333333333333333,
              "#9c179e"
             ],
             [
              0.4444444444444444,
              "#bd3786"
             ],
             [
              0.5555555555555556,
              "#d8576b"
             ],
             [
              0.6666666666666666,
              "#ed7953"
             ],
             [
              0.7777777777777778,
              "#fb9f3a"
             ],
             [
              0.8888888888888888,
              "#fdca26"
             ],
             [
              1,
              "#f0f921"
             ]
            ],
            "type": "histogram2dcontour"
           }
          ],
          "mesh3d": [
           {
            "colorbar": {
             "outlinewidth": 0,
             "ticks": ""
            },
            "type": "mesh3d"
           }
          ],
          "parcoords": [
           {
            "line": {
             "colorbar": {
              "outlinewidth": 0,
              "ticks": ""
             }
            },
            "type": "parcoords"
           }
          ],
          "pie": [
           {
            "automargin": true,
            "type": "pie"
           }
          ],
          "scatter": [
           {
            "marker": {
             "colorbar": {
              "outlinewidth": 0,
              "ticks": ""
             }
            },
            "type": "scatter"
           }
          ],
          "scatter3d": [
           {
            "line": {
             "colorbar": {
              "outlinewidth": 0,
              "ticks": ""
             }
            },
            "marker": {
             "colorbar": {
              "outlinewidth": 0,
              "ticks": ""
             }
            },
            "type": "scatter3d"
           }
          ],
          "scattercarpet": [
           {
            "marker": {
             "colorbar": {
              "outlinewidth": 0,
              "ticks": ""
             }
            },
            "type": "scattercarpet"
           }
          ],
          "scattergeo": [
           {
            "marker": {
             "colorbar": {
              "outlinewidth": 0,
              "ticks": ""
             }
            },
            "type": "scattergeo"
           }
          ],
          "scattergl": [
           {
            "marker": {
             "colorbar": {
              "outlinewidth": 0,
              "ticks": ""
             }
            },
            "type": "scattergl"
           }
          ],
          "scattermapbox": [
           {
            "marker": {
             "colorbar": {
              "outlinewidth": 0,
              "ticks": ""
             }
            },
            "type": "scattermapbox"
           }
          ],
          "scatterpolar": [
           {
            "marker": {
             "colorbar": {
              "outlinewidth": 0,
              "ticks": ""
             }
            },
            "type": "scatterpolar"
           }
          ],
          "scatterpolargl": [
           {
            "marker": {
             "colorbar": {
              "outlinewidth": 0,
              "ticks": ""
             }
            },
            "type": "scatterpolargl"
           }
          ],
          "scatterternary": [
           {
            "marker": {
             "colorbar": {
              "outlinewidth": 0,
              "ticks": ""
             }
            },
            "type": "scatterternary"
           }
          ],
          "surface": [
           {
            "colorbar": {
             "outlinewidth": 0,
             "ticks": ""
            },
            "colorscale": [
             [
              0,
              "#0d0887"
             ],
             [
              0.1111111111111111,
              "#46039f"
             ],
             [
              0.2222222222222222,
              "#7201a8"
             ],
             [
              0.3333333333333333,
              "#9c179e"
             ],
             [
              0.4444444444444444,
              "#bd3786"
             ],
             [
              0.5555555555555556,
              "#d8576b"
             ],
             [
              0.6666666666666666,
              "#ed7953"
             ],
             [
              0.7777777777777778,
              "#fb9f3a"
             ],
             [
              0.8888888888888888,
              "#fdca26"
             ],
             [
              1,
              "#f0f921"
             ]
            ],
            "type": "surface"
           }
          ],
          "table": [
           {
            "cells": {
             "fill": {
              "color": "#EBF0F8"
             },
             "line": {
              "color": "white"
             }
            },
            "header": {
             "fill": {
              "color": "#C8D4E3"
             },
             "line": {
              "color": "white"
             }
            },
            "type": "table"
           }
          ]
         },
         "layout": {
          "annotationdefaults": {
           "arrowcolor": "#2a3f5f",
           "arrowhead": 0,
           "arrowwidth": 1
          },
          "autotypenumbers": "strict",
          "coloraxis": {
           "colorbar": {
            "outlinewidth": 0,
            "ticks": ""
           }
          },
          "colorscale": {
           "diverging": [
            [
             0,
             "#8e0152"
            ],
            [
             0.1,
             "#c51b7d"
            ],
            [
             0.2,
             "#de77ae"
            ],
            [
             0.3,
             "#f1b6da"
            ],
            [
             0.4,
             "#fde0ef"
            ],
            [
             0.5,
             "#f7f7f7"
            ],
            [
             0.6,
             "#e6f5d0"
            ],
            [
             0.7,
             "#b8e186"
            ],
            [
             0.8,
             "#7fbc41"
            ],
            [
             0.9,
             "#4d9221"
            ],
            [
             1,
             "#276419"
            ]
           ],
           "sequential": [
            [
             0,
             "#0d0887"
            ],
            [
             0.1111111111111111,
             "#46039f"
            ],
            [
             0.2222222222222222,
             "#7201a8"
            ],
            [
             0.3333333333333333,
             "#9c179e"
            ],
            [
             0.4444444444444444,
             "#bd3786"
            ],
            [
             0.5555555555555556,
             "#d8576b"
            ],
            [
             0.6666666666666666,
             "#ed7953"
            ],
            [
             0.7777777777777778,
             "#fb9f3a"
            ],
            [
             0.8888888888888888,
             "#fdca26"
            ],
            [
             1,
             "#f0f921"
            ]
           ],
           "sequentialminus": [
            [
             0,
             "#0d0887"
            ],
            [
             0.1111111111111111,
             "#46039f"
            ],
            [
             0.2222222222222222,
             "#7201a8"
            ],
            [
             0.3333333333333333,
             "#9c179e"
            ],
            [
             0.4444444444444444,
             "#bd3786"
            ],
            [
             0.5555555555555556,
             "#d8576b"
            ],
            [
             0.6666666666666666,
             "#ed7953"
            ],
            [
             0.7777777777777778,
             "#fb9f3a"
            ],
            [
             0.8888888888888888,
             "#fdca26"
            ],
            [
             1,
             "#f0f921"
            ]
           ]
          },
          "colorway": [
           "#636efa",
           "#EF553B",
           "#00cc96",
           "#ab63fa",
           "#FFA15A",
           "#19d3f3",
           "#FF6692",
           "#B6E880",
           "#FF97FF",
           "#FECB52"
          ],
          "font": {
           "color": "#2a3f5f"
          },
          "geo": {
           "bgcolor": "white",
           "lakecolor": "white",
           "landcolor": "#E5ECF6",
           "showlakes": true,
           "showland": true,
           "subunitcolor": "white"
          },
          "hoverlabel": {
           "align": "left"
          },
          "hovermode": "closest",
          "mapbox": {
           "style": "light"
          },
          "paper_bgcolor": "white",
          "plot_bgcolor": "#E5ECF6",
          "polar": {
           "angularaxis": {
            "gridcolor": "white",
            "linecolor": "white",
            "ticks": ""
           },
           "bgcolor": "#E5ECF6",
           "radialaxis": {
            "gridcolor": "white",
            "linecolor": "white",
            "ticks": ""
           }
          },
          "scene": {
           "xaxis": {
            "backgroundcolor": "#E5ECF6",
            "gridcolor": "white",
            "gridwidth": 2,
            "linecolor": "white",
            "showbackground": true,
            "ticks": "",
            "zerolinecolor": "white"
           },
           "yaxis": {
            "backgroundcolor": "#E5ECF6",
            "gridcolor": "white",
            "gridwidth": 2,
            "linecolor": "white",
            "showbackground": true,
            "ticks": "",
            "zerolinecolor": "white"
           },
           "zaxis": {
            "backgroundcolor": "#E5ECF6",
            "gridcolor": "white",
            "gridwidth": 2,
            "linecolor": "white",
            "showbackground": true,
            "ticks": "",
            "zerolinecolor": "white"
           }
          },
          "shapedefaults": {
           "line": {
            "color": "#2a3f5f"
           }
          },
          "ternary": {
           "aaxis": {
            "gridcolor": "white",
            "linecolor": "white",
            "ticks": ""
           },
           "baxis": {
            "gridcolor": "white",
            "linecolor": "white",
            "ticks": ""
           },
           "bgcolor": "#E5ECF6",
           "caxis": {
            "gridcolor": "white",
            "linecolor": "white",
            "ticks": ""
           }
          },
          "title": {
           "x": 0.05
          },
          "xaxis": {
           "automargin": true,
           "gridcolor": "white",
           "linecolor": "white",
           "ticks": "",
           "title": {
            "standoff": 15
           },
           "zerolinecolor": "white",
           "zerolinewidth": 2
          },
          "yaxis": {
           "automargin": true,
           "gridcolor": "white",
           "linecolor": "white",
           "ticks": "",
           "title": {
            "standoff": 15
           },
           "zerolinecolor": "white",
           "zerolinewidth": 2
          }
         }
        },
        "title": {
         "text": "Population Vs Migration 2017"
        },
        "xaxis": {
         "anchor": "y",
         "domain": [
          0,
          1
         ],
         "title": {
          "text": "2017 Population"
         }
        },
        "yaxis": {
         "anchor": "x",
         "domain": [
          0,
          1
         ],
         "tickfont": {
          "size": 15
         },
         "title": {
          "text": "net_migration"
         }
        }
       }
      },
      "text/html": [
       "<div>                            <div id=\"ef5015e4-e35a-45fb-a31b-c9a163daddc7\" class=\"plotly-graph-div\" style=\"height:525px; width:100%;\"></div>            <script type=\"text/javascript\">                require([\"plotly\"], function(Plotly) {                    window.PLOTLYENV=window.PLOTLYENV || {};                                    if (document.getElementById(\"ef5015e4-e35a-45fb-a31b-c9a163daddc7\")) {                    Plotly.newPlot(                        \"ef5015e4-e35a-45fb-a31b-c9a163daddc7\",                        [{\"hovertemplate\":\"<b>%{hovertext}</b><br><br>IncomeGroup=High income<br>2017 Population=%{x}<br>net_migration=%{y}<extra></extra>\",\"hovertext\":[\"Aruba\",\"United Arab Emirates\",\"Australia\",\"Austria\",\"Belgium\",\"Bahrain\",\"Bahamas, The\",\"Barbados\",\"Canada\",\"Switzerland\",\"Chile\",\"Curacao\",\"Cyprus\",\"Czech Republic\",\"Germany\",\"Denmark\",\"Spain\",\"Estonia\",\"Finland\",\"France\",\"United Kingdom\",\"Greece\",\"Guam\",\"Croatia\",\"Hungary\",\"Ireland\",\"Iceland\",\"Italy\",\"Japan\",\"Korea, Rep.\",\"Kuwait\",\"Lithuania\",\"Luxembourg\",\"Latvia\",\"Malta\",\"New Caledonia\",\"Netherlands\",\"Norway\",\"New Zealand\",\"Oman\",\"Poland\",\"Puerto Rico\",\"Portugal\",\"French Polynesia\",\"Qatar\",\"Saudi Arabia\",\"Singapore\",\"Slovak Republic\",\"Slovenia\",\"Sweden\",\"Seychelles\",\"Trinidad and Tobago\",\"Uruguay\",\"United States\",\"Virgin Islands (U.S.)\"],\"legendgroup\":\"High income\",\"marker\":{\"color\":\"#636efa\",\"symbol\":\"circle\"},\"mode\":\"markers\",\"name\":\"High income\",\"orientation\":\"v\",\"showlegend\":true,\"x\":[105361.0,9487206.0,24601860.0,8797566.0,11375158.0,1494077.0,381749.0,286229.0,36545295.0,8451840.0,18470435.0,160175.0,1179685.0,10594438.0,82657002.0,5764980.0,46593236.0,1317384.0,5508214.0,66918020.0,66058859.0,10754679.0,164281.0,4124531.0,9787966.0,4807388.0,343400.0,60536709.0,126785797.0,51361911.0,4056102.0,2828403.0,596336.0,1942248.0,467999.0,270000.0,17131296.0,5276968.0,4813600.0,4665926.0,37974826.0,3325286.0,10300300.0,276108.0,2724727.0,33101183.0,5612253.0,5439232.0,2066388.0,10057698.0,95843.0,1384060.0,3436645.0,325122128.0,107281.0],\"xaxis\":\"x\",\"y\":[1004.0,200000.0,791229.0,324998.0,240000.0,239000.0,4999.0,-397.0,1210159.0,259999.0,558539.0,2573.0,25000.0,110057.0,2719112.0,75998.0,200000.0,19555.0,70000.0,182636.0,1303250.0,-80000.0,-2532.0,-40004.0,29999.0,118020.0,1900.0,744713.0,357800.0,58657.0,197600.0,-163902.0,48704.0,-74186.0,4501.0,2510.0,80000.0,140000.0,74403.0,437000.0,-146976.0,-489932.0,-30001.0,-5000.0,200000.0,674895.0,135142.0,7423.0,9999.0,200000.0,-1000.0,-3999.0,-15000.0,4774029.0,-2254.0],\"yaxis\":\"y\",\"type\":\"scatter\"},{\"hovertemplate\":\"<b>%{hovertext}</b><br><br>IncomeGroup=Low income<br>2017 Population=%{x}<br>net_migration=%{y}<extra></extra>\",\"hovertext\":[\"Afghanistan\",\"Burundi\",\"Burkina Faso\",\"Central African Republic\",\"Congo, Dem. Rep.\",\"Ethiopia\",\"Guinea\",\"Gambia, The\",\"Guinea-Bissau\",\"Liberia\",\"Madagascar\",\"Mali\",\"Mozambique\",\"Malawi\",\"Niger\",\"Korea, Dem. People's Rep.\",\"Rwanda\",\"Sudan\",\"Sierra Leone\",\"Somalia\",\"South Sudan\",\"Syrian Arab Republic\",\"Chad\",\"Togo\",\"Uganda\",\"Yemen, Rep.\"],\"legendgroup\":\"Low income\",\"marker\":{\"color\":\"#EF553B\",\"symbol\":\"diamond\"},\"mode\":\"markers\",\"name\":\"Low income\",\"orientation\":\"v\",\"showlegend\":true,\"x\":[36296111.0,10827010.0,19193236.0,4596023.0,81398765.0,106399926.0,12067516.0,2213900.0,1828146.0,4702224.0,25570511.0,18512429.0,28649007.0,17670193.0,21602388.0,25429816.0,11980960.0,40813398.0,7488427.0,14589165.0,10910774.0,17095669.0,15016761.0,7698476.0,41166588.0,27834811.0],\"xaxis\":\"x\",\"y\":[-314602.0,10003.0,-125000.0,-200000.0,119303.0,150002.0,-20000.0,-15436.0,-6996.0,-25000.0,-7500.0,-200000.0,-25000.0,-80263.0,20001.0,-27013.0,-44998.0,-250001.0,-21000.0,-200002.0,-870998.0,-2136954.0,10000.0,-9999.0,843469.0,-150000.0],\"yaxis\":\"y\",\"type\":\"scatter\"},{\"hovertemplate\":\"<b>%{hovertext}</b><br><br>IncomeGroup=Lower middle income<br>2017 Population=%{x}<br>net_migration=%{y}<extra></extra>\",\"hovertext\":[\"Angola\",\"Benin\",\"Bangladesh\",\"Belize\",\"Bolivia\",\"Bhutan\",\"Cote d'Ivoire\",\"Cameroon\",\"Congo, Rep.\",\"Comoros\",\"Cabo Verde\",\"Djibouti\",\"Algeria\",\"Egypt, Arab Rep.\",\"Micronesia, Fed. Sts.\",\"Ghana\",\"Honduras\",\"Haiti\",\"Indonesia\",\"India\",\"Iran, Islamic Rep.\",\"Kenya\",\"Kyrgyz Republic\",\"Cambodia\",\"Kiribati\",\"Lao PDR\",\"Sri Lanka\",\"Lesotho\",\"Morocco\",\"Myanmar\",\"Mongolia\",\"Mauritania\",\"Nigeria\",\"Nicaragua\",\"Nepal\",\"Pakistan\",\"Philippines\",\"Papua New Guinea\",\"Senegal\",\"Solomon Islands\",\"El Salvador\",\"Sao Tome and Principe\",\"Eswatini\",\"Tajikistan\",\"Timor-Leste\",\"Tunisia\",\"Tanzania\",\"Ukraine\",\"Uzbekistan\",\"Vietnam\",\"Vanuatu\",\"Samoa\",\"Zambia\",\"Zimbabwe\"],\"legendgroup\":\"Lower middle income\",\"marker\":{\"color\":\"#00cc96\",\"symbol\":\"square\"},\"mode\":\"markers\",\"name\":\"Lower middle income\",\"orientation\":\"v\",\"showlegend\":true,\"x\":[29816769.0,11175192.0,159685421.0,375775.0,11192853.0,745563.0,24437475.0,24566070.0,5110701.0,813890.0,537499.0,944100.0,41389174.0,96442590.0,111461.0,29121464.0,9429016.0,10982367.0,264650969.0,1338676779.0,80673888.0,50221146.0,6198200.0,16009413.0,114153.0,6953031.0,21444000.0,2091532.0,35581257.0,53382521.0,3113788.0,4282582.0,190873247.0,6384843.0,27632682.0,207906210.0,105172921.0,8438038.0,15419354.0,636030.0,6388124.0,207086.0,1124808.0,8880270.0,1243260.0,11433438.0,54660345.0,44831135.0,32388600.0,94600643.0,285499.0,195358.0,16853608.0,14236599.0],\"xaxis\":\"x\",\"y\":[32066.0,-10000.0,-1847503.0,6000.0,-47520.0,1600.0,-40000.0,-24000.0,-20000.0,-10000.0,-6709.0,4501.0,-50002.0,-190164.0,-2999.0,-50000.0,-34000.0,-175000.0,-494777.0,-2663434.0,-274998.0,-50000.0,-20000.0,-149999.0,-3999.0,-73518.0,-489932.0,-50234.0,-257096.0,-816564.0,-4262.0,25002.0,-300000.0,-106360.0,208549.0,-1166895.0,-335758.0,-3999.0,-100001.0,-7998.0,-202694.0,-8401.0,-41764.0,-99999.0,-26924.0,-20000.0,-200381.0,50001.0,-44314.0,-399999.0,600.0,-14013.0,-40000.0,-584288.0],\"yaxis\":\"y\",\"type\":\"scatter\"},{\"hovertemplate\":\"<b>%{hovertext}</b><br><br>IncomeGroup=Upper middle income<br>2017 Population=%{x}<br>net_migration=%{y}<extra></extra>\",\"hovertext\":[\"Albania\",\"Argentina\",\"Armenia\",\"Azerbaijan\",\"Bulgaria\",\"Bosnia and Herzegovina\",\"Belarus\",\"Brazil\",\"Botswana\",\"China\",\"Colombia\",\"Costa Rica\",\"Cuba\",\"Dominican Republic\",\"Ecuador\",\"Fiji\",\"Gabon\",\"Georgia\",\"Equatorial Guinea\",\"Grenada\",\"Guatemala\",\"Guyana\",\"Iraq\",\"Jamaica\",\"Jordan\",\"Kazakhstan\",\"Lebanon\",\"Libya\",\"Moldova\",\"Maldives\",\"Mexico\",\"North Macedonia\",\"Montenegro\",\"Malaysia\",\"Namibia\",\"Panama\",\"Peru\",\"Paraguay\",\"Romania\",\"Russian Federation\",\"Serbia\",\"Suriname\",\"Thailand\",\"Turkmenistan\",\"Tonga\",\"Turkey\",\"St. Vincent and the Grenadines\",\"South Africa\"],\"legendgroup\":\"Upper middle income\",\"marker\":{\"color\":\"#ab63fa\",\"symbol\":\"x\"},\"mode\":\"markers\",\"name\":\"Upper middle income\",\"orientation\":\"v\",\"showlegend\":true,\"x\":[2873457.0,44044811.0,2944789.0,9854033.0,7075947.0,3351534.0,9458989.0,207833825.0,2205076.0,1396215000.0,48909844.0,4949955.0,11339255.0,10513111.0,16785356.0,877460.0,2064812.0,3728004.0,1262008.0,110874.0,16087418.0,775218.0,37552789.0,2920848.0,9785840.0,18037776.0,6819373.0,6580723.0,2755158.0,496398.0,124777326.0,2074502.0,622373.0,31104655.0,2402623.0,4106764.0,31444299.0,6867058.0,19588715.0,144496739.0,7020858.0,570501.0,69209817.0,5757667.0,102002.0,81116451.0,109826.0,57009751.0],\"xaxis\":\"x\",\"y\":[-69998.0,24000.0,-24989.0,6002.0,-24001.0,-107926.0,43648.0,106000.0,14999.0,-1741996.0,1023981.0,21000.0,-72000.0,-150000.0,182000.0,-31008.0,16301.0,-50000.0,79998.0,-1000.0,-46073.0,-30001.0,39171.0,-56658.0,51099.0,-90000.0,-150060.0,-9997.0,-6935.0,56851.0,-300000.0,-4999.0,-2400.0,249999.0,-24030.0,56000.0,495345.0,-82780.0,-369997.0,912279.0,20000.0,-4999.0,97222.0,-25001.0,-3999.0,1419610.0,-1000.0,727026.0],\"yaxis\":\"y\",\"type\":\"scatter\"}],                        {\"template\":{\"data\":{\"bar\":[{\"error_x\":{\"color\":\"#2a3f5f\"},\"error_y\":{\"color\":\"#2a3f5f\"},\"marker\":{\"line\":{\"color\":\"#E5ECF6\",\"width\":0.5},\"pattern\":{\"fillmode\":\"overlay\",\"size\":10,\"solidity\":0.2}},\"type\":\"bar\"}],\"barpolar\":[{\"marker\":{\"line\":{\"color\":\"#E5ECF6\",\"width\":0.5},\"pattern\":{\"fillmode\":\"overlay\",\"size\":10,\"solidity\":0.2}},\"type\":\"barpolar\"}],\"carpet\":[{\"aaxis\":{\"endlinecolor\":\"#2a3f5f\",\"gridcolor\":\"white\",\"linecolor\":\"white\",\"minorgridcolor\":\"white\",\"startlinecolor\":\"#2a3f5f\"},\"baxis\":{\"endlinecolor\":\"#2a3f5f\",\"gridcolor\":\"white\",\"linecolor\":\"white\",\"minorgridcolor\":\"white\",\"startlinecolor\":\"#2a3f5f\"},\"type\":\"carpet\"}],\"choropleth\":[{\"colorbar\":{\"outlinewidth\":0,\"ticks\":\"\"},\"type\":\"choropleth\"}],\"contour\":[{\"colorbar\":{\"outlinewidth\":0,\"ticks\":\"\"},\"colorscale\":[[0.0,\"#0d0887\"],[0.1111111111111111,\"#46039f\"],[0.2222222222222222,\"#7201a8\"],[0.3333333333333333,\"#9c179e\"],[0.4444444444444444,\"#bd3786\"],[0.5555555555555556,\"#d8576b\"],[0.6666666666666666,\"#ed7953\"],[0.7777777777777778,\"#fb9f3a\"],[0.8888888888888888,\"#fdca26\"],[1.0,\"#f0f921\"]],\"type\":\"contour\"}],\"contourcarpet\":[{\"colorbar\":{\"outlinewidth\":0,\"ticks\":\"\"},\"type\":\"contourcarpet\"}],\"heatmap\":[{\"colorbar\":{\"outlinewidth\":0,\"ticks\":\"\"},\"colorscale\":[[0.0,\"#0d0887\"],[0.1111111111111111,\"#46039f\"],[0.2222222222222222,\"#7201a8\"],[0.3333333333333333,\"#9c179e\"],[0.4444444444444444,\"#bd3786\"],[0.5555555555555556,\"#d8576b\"],[0.6666666666666666,\"#ed7953\"],[0.7777777777777778,\"#fb9f3a\"],[0.8888888888888888,\"#fdca26\"],[1.0,\"#f0f921\"]],\"type\":\"heatmap\"}],\"heatmapgl\":[{\"colorbar\":{\"outlinewidth\":0,\"ticks\":\"\"},\"colorscale\":[[0.0,\"#0d0887\"],[0.1111111111111111,\"#46039f\"],[0.2222222222222222,\"#7201a8\"],[0.3333333333333333,\"#9c179e\"],[0.4444444444444444,\"#bd3786\"],[0.5555555555555556,\"#d8576b\"],[0.6666666666666666,\"#ed7953\"],[0.7777777777777778,\"#fb9f3a\"],[0.8888888888888888,\"#fdca26\"],[1.0,\"#f0f921\"]],\"type\":\"heatmapgl\"}],\"histogram\":[{\"marker\":{\"pattern\":{\"fillmode\":\"overlay\",\"size\":10,\"solidity\":0.2}},\"type\":\"histogram\"}],\"histogram2d\":[{\"colorbar\":{\"outlinewidth\":0,\"ticks\":\"\"},\"colorscale\":[[0.0,\"#0d0887\"],[0.1111111111111111,\"#46039f\"],[0.2222222222222222,\"#7201a8\"],[0.3333333333333333,\"#9c179e\"],[0.4444444444444444,\"#bd3786\"],[0.5555555555555556,\"#d8576b\"],[0.6666666666666666,\"#ed7953\"],[0.7777777777777778,\"#fb9f3a\"],[0.8888888888888888,\"#fdca26\"],[1.0,\"#f0f921\"]],\"type\":\"histogram2d\"}],\"histogram2dcontour\":[{\"colorbar\":{\"outlinewidth\":0,\"ticks\":\"\"},\"colorscale\":[[0.0,\"#0d0887\"],[0.1111111111111111,\"#46039f\"],[0.2222222222222222,\"#7201a8\"],[0.3333333333333333,\"#9c179e\"],[0.4444444444444444,\"#bd3786\"],[0.5555555555555556,\"#d8576b\"],[0.6666666666666666,\"#ed7953\"],[0.7777777777777778,\"#fb9f3a\"],[0.8888888888888888,\"#fdca26\"],[1.0,\"#f0f921\"]],\"type\":\"histogram2dcontour\"}],\"mesh3d\":[{\"colorbar\":{\"outlinewidth\":0,\"ticks\":\"\"},\"type\":\"mesh3d\"}],\"parcoords\":[{\"line\":{\"colorbar\":{\"outlinewidth\":0,\"ticks\":\"\"}},\"type\":\"parcoords\"}],\"pie\":[{\"automargin\":true,\"type\":\"pie\"}],\"scatter\":[{\"marker\":{\"colorbar\":{\"outlinewidth\":0,\"ticks\":\"\"}},\"type\":\"scatter\"}],\"scatter3d\":[{\"line\":{\"colorbar\":{\"outlinewidth\":0,\"ticks\":\"\"}},\"marker\":{\"colorbar\":{\"outlinewidth\":0,\"ticks\":\"\"}},\"type\":\"scatter3d\"}],\"scattercarpet\":[{\"marker\":{\"colorbar\":{\"outlinewidth\":0,\"ticks\":\"\"}},\"type\":\"scattercarpet\"}],\"scattergeo\":[{\"marker\":{\"colorbar\":{\"outlinewidth\":0,\"ticks\":\"\"}},\"type\":\"scattergeo\"}],\"scattergl\":[{\"marker\":{\"colorbar\":{\"outlinewidth\":0,\"ticks\":\"\"}},\"type\":\"scattergl\"}],\"scattermapbox\":[{\"marker\":{\"colorbar\":{\"outlinewidth\":0,\"ticks\":\"\"}},\"type\":\"scattermapbox\"}],\"scatterpolar\":[{\"marker\":{\"colorbar\":{\"outlinewidth\":0,\"ticks\":\"\"}},\"type\":\"scatterpolar\"}],\"scatterpolargl\":[{\"marker\":{\"colorbar\":{\"outlinewidth\":0,\"ticks\":\"\"}},\"type\":\"scatterpolargl\"}],\"scatterternary\":[{\"marker\":{\"colorbar\":{\"outlinewidth\":0,\"ticks\":\"\"}},\"type\":\"scatterternary\"}],\"surface\":[{\"colorbar\":{\"outlinewidth\":0,\"ticks\":\"\"},\"colorscale\":[[0.0,\"#0d0887\"],[0.1111111111111111,\"#46039f\"],[0.2222222222222222,\"#7201a8\"],[0.3333333333333333,\"#9c179e\"],[0.4444444444444444,\"#bd3786\"],[0.5555555555555556,\"#d8576b\"],[0.6666666666666666,\"#ed7953\"],[0.7777777777777778,\"#fb9f3a\"],[0.8888888888888888,\"#fdca26\"],[1.0,\"#f0f921\"]],\"type\":\"surface\"}],\"table\":[{\"cells\":{\"fill\":{\"color\":\"#EBF0F8\"},\"line\":{\"color\":\"white\"}},\"header\":{\"fill\":{\"color\":\"#C8D4E3\"},\"line\":{\"color\":\"white\"}},\"type\":\"table\"}]},\"layout\":{\"annotationdefaults\":{\"arrowcolor\":\"#2a3f5f\",\"arrowhead\":0,\"arrowwidth\":1},\"autotypenumbers\":\"strict\",\"coloraxis\":{\"colorbar\":{\"outlinewidth\":0,\"ticks\":\"\"}},\"colorscale\":{\"diverging\":[[0,\"#8e0152\"],[0.1,\"#c51b7d\"],[0.2,\"#de77ae\"],[0.3,\"#f1b6da\"],[0.4,\"#fde0ef\"],[0.5,\"#f7f7f7\"],[0.6,\"#e6f5d0\"],[0.7,\"#b8e186\"],[0.8,\"#7fbc41\"],[0.9,\"#4d9221\"],[1,\"#276419\"]],\"sequential\":[[0.0,\"#0d0887\"],[0.1111111111111111,\"#46039f\"],[0.2222222222222222,\"#7201a8\"],[0.3333333333333333,\"#9c179e\"],[0.4444444444444444,\"#bd3786\"],[0.5555555555555556,\"#d8576b\"],[0.6666666666666666,\"#ed7953\"],[0.7777777777777778,\"#fb9f3a\"],[0.8888888888888888,\"#fdca26\"],[1.0,\"#f0f921\"]],\"sequentialminus\":[[0.0,\"#0d0887\"],[0.1111111111111111,\"#46039f\"],[0.2222222222222222,\"#7201a8\"],[0.3333333333333333,\"#9c179e\"],[0.4444444444444444,\"#bd3786\"],[0.5555555555555556,\"#d8576b\"],[0.6666666666666666,\"#ed7953\"],[0.7777777777777778,\"#fb9f3a\"],[0.8888888888888888,\"#fdca26\"],[1.0,\"#f0f921\"]]},\"colorway\":[\"#636efa\",\"#EF553B\",\"#00cc96\",\"#ab63fa\",\"#FFA15A\",\"#19d3f3\",\"#FF6692\",\"#B6E880\",\"#FF97FF\",\"#FECB52\"],\"font\":{\"color\":\"#2a3f5f\"},\"geo\":{\"bgcolor\":\"white\",\"lakecolor\":\"white\",\"landcolor\":\"#E5ECF6\",\"showlakes\":true,\"showland\":true,\"subunitcolor\":\"white\"},\"hoverlabel\":{\"align\":\"left\"},\"hovermode\":\"closest\",\"mapbox\":{\"style\":\"light\"},\"paper_bgcolor\":\"white\",\"plot_bgcolor\":\"#E5ECF6\",\"polar\":{\"angularaxis\":{\"gridcolor\":\"white\",\"linecolor\":\"white\",\"ticks\":\"\"},\"bgcolor\":\"#E5ECF6\",\"radialaxis\":{\"gridcolor\":\"white\",\"linecolor\":\"white\",\"ticks\":\"\"}},\"scene\":{\"xaxis\":{\"backgroundcolor\":\"#E5ECF6\",\"gridcolor\":\"white\",\"gridwidth\":2,\"linecolor\":\"white\",\"showbackground\":true,\"ticks\":\"\",\"zerolinecolor\":\"white\"},\"yaxis\":{\"backgroundcolor\":\"#E5ECF6\",\"gridcolor\":\"white\",\"gridwidth\":2,\"linecolor\":\"white\",\"showbackground\":true,\"ticks\":\"\",\"zerolinecolor\":\"white\"},\"zaxis\":{\"backgroundcolor\":\"#E5ECF6\",\"gridcolor\":\"white\",\"gridwidth\":2,\"linecolor\":\"white\",\"showbackground\":true,\"ticks\":\"\",\"zerolinecolor\":\"white\"}},\"shapedefaults\":{\"line\":{\"color\":\"#2a3f5f\"}},\"ternary\":{\"aaxis\":{\"gridcolor\":\"white\",\"linecolor\":\"white\",\"ticks\":\"\"},\"baxis\":{\"gridcolor\":\"white\",\"linecolor\":\"white\",\"ticks\":\"\"},\"bgcolor\":\"#E5ECF6\",\"caxis\":{\"gridcolor\":\"white\",\"linecolor\":\"white\",\"ticks\":\"\"}},\"title\":{\"x\":0.05},\"xaxis\":{\"automargin\":true,\"gridcolor\":\"white\",\"linecolor\":\"white\",\"ticks\":\"\",\"title\":{\"standoff\":15},\"zerolinecolor\":\"white\",\"zerolinewidth\":2},\"yaxis\":{\"automargin\":true,\"gridcolor\":\"white\",\"linecolor\":\"white\",\"ticks\":\"\",\"title\":{\"standoff\":15},\"zerolinecolor\":\"white\",\"zerolinewidth\":2}}},\"xaxis\":{\"anchor\":\"y\",\"domain\":[0.0,1.0],\"title\":{\"text\":\"2017 Population\"}},\"yaxis\":{\"anchor\":\"x\",\"domain\":[0.0,1.0],\"title\":{\"text\":\"net_migration\"},\"tickfont\":{\"size\":15}},\"legend\":{\"title\":{\"text\":\"IncomeGroup\"},\"tracegroupgap\":0},\"margin\":{\"t\":60},\"title\":{\"text\":\"Population Vs Migration 2017\"}},                        {\"responsive\": true}                    ).then(function(){\n",
       "                            \n",
       "var gd = document.getElementById('ef5015e4-e35a-45fb-a31b-c9a163daddc7');\n",
       "var x = new MutationObserver(function (mutations, observer) {{\n",
       "        var display = window.getComputedStyle(gd).display;\n",
       "        if (!display || display === 'none') {{\n",
       "            console.log([gd, 'removed!']);\n",
       "            Plotly.purge(gd);\n",
       "            observer.disconnect();\n",
       "        }}\n",
       "}});\n",
       "\n",
       "// Listen for the removal of the full notebook cells\n",
       "var notebookContainer = gd.closest('#notebook-container');\n",
       "if (notebookContainer) {{\n",
       "    x.observe(notebookContainer, {childList: true});\n",
       "}}\n",
       "\n",
       "// Listen for the clearing of the current output cell\n",
       "var outputEl = gd.closest('.output');\n",
       "if (outputEl) {{\n",
       "    x.observe(outputEl, {childList: true});\n",
       "}}\n",
       "\n",
       "                        })                };                });            </script>        </div>"
      ]
     },
     "metadata": {},
     "output_type": "display_data"
    }
   ],
   "source": [
    "fig1 = ploting_scatter(df_overall_2017,'2017 Population','net_migration','IncomeGroup','IncomeGroup',\n",
    "                        'Country Name','Population Vs Migration 2017')"
   ]
  },
  {
   "cell_type": "code",
   "execution_count": 237,
   "id": "bcb517e2",
   "metadata": {},
   "outputs": [
    {
     "data": {
      "application/vnd.plotly.v1+json": {
       "config": {
        "plotlyServerURL": "https://plotly.com"
       },
       "data": [
        {
         "hovertemplate": "<b>%{hovertext}</b><br><br>IncomeGroup=High income<br>net_migration=%{x}<br>BirthRate 2017=%{y}<extra></extra>",
         "hovertext": [
          "Aruba",
          "United Arab Emirates",
          "Australia",
          "Austria",
          "Belgium",
          "Bahrain",
          "Bahamas, The",
          "Barbados",
          "Canada",
          "Switzerland",
          "Chile",
          "Curacao",
          "Cyprus",
          "Czech Republic",
          "Germany",
          "Denmark",
          "Spain",
          "Estonia",
          "Finland",
          "France",
          "United Kingdom",
          "Greece",
          "Guam",
          "Croatia",
          "Hungary",
          "Ireland",
          "Iceland",
          "Italy",
          "Japan",
          "Korea, Rep.",
          "Kuwait",
          "Lithuania",
          "Luxembourg",
          "Latvia",
          "Malta",
          "New Caledonia",
          "Netherlands",
          "Norway",
          "New Zealand",
          "Oman",
          "Poland",
          "Puerto Rico",
          "Portugal",
          "French Polynesia",
          "Qatar",
          "Saudi Arabia",
          "Singapore",
          "Slovak Republic",
          "Slovenia",
          "Sweden",
          "Seychelles",
          "Trinidad and Tobago",
          "Uruguay",
          "United States",
          "Virgin Islands (U.S.)"
         ],
         "legendgroup": "High income",
         "marker": {
          "color": "#636efa",
          "symbol": "circle"
         },
         "mode": "markers",
         "name": "High income",
         "orientation": "v",
         "showlegend": true,
         "type": "scatter",
         "x": [
          1004,
          200000,
          791229,
          324998,
          240000,
          239000,
          4999,
          -397,
          1210159,
          259999,
          558539,
          2573,
          25000,
          110057,
          2719112,
          75998,
          200000,
          19555,
          70000,
          182636,
          1303250,
          -80000,
          -2532,
          -40004,
          29999,
          118020,
          1900,
          744713,
          357800,
          58657,
          197600,
          -163902,
          48704,
          -74186,
          4501,
          2510,
          80000,
          140000,
          74403,
          437000,
          -146976,
          -489932,
          -30001,
          -5000,
          200000,
          674895,
          135142,
          7423,
          9999,
          200000,
          -1000,
          -3999,
          -15000,
          4774029,
          -2254
         ],
         "xaxis": "x",
         "y": [
          1.886,
          1.448,
          1.741,
          1.52,
          1.65,
          2.01,
          1.762,
          1.615,
          1.4961,
          1.52,
          1.678,
          1.5,
          1.337,
          1.69,
          1.57,
          1.75,
          1.31,
          1.59,
          1.49,
          1.9,
          1.74,
          1.35,
          2.334,
          1.42,
          1.54,
          1.77,
          1.71,
          1.32,
          1.43,
          1.052,
          2.083,
          1.63,
          1.39,
          1.69,
          1.26,
          1.97,
          1.62,
          1.62,
          1.81,
          2.92,
          1.48,
          1.101,
          1.38,
          1.956,
          1.886,
          2.373,
          1.16,
          1.52,
          1.62,
          1.78,
          2.41,
          1.739,
          1.983,
          1.7655,
          2.08
         ],
         "yaxis": "y"
        },
        {
         "hovertemplate": "<b>%{hovertext}</b><br><br>IncomeGroup=Low income<br>net_migration=%{x}<br>BirthRate 2017=%{y}<extra></extra>",
         "hovertext": [
          "Afghanistan",
          "Burundi",
          "Burkina Faso",
          "Central African Republic",
          "Congo, Dem. Rep.",
          "Ethiopia",
          "Guinea",
          "Gambia, The",
          "Guinea-Bissau",
          "Liberia",
          "Madagascar",
          "Mali",
          "Mozambique",
          "Malawi",
          "Niger",
          "Korea, Dem. People's Rep.",
          "Rwanda",
          "Sudan",
          "Sierra Leone",
          "Somalia",
          "South Sudan",
          "Syrian Arab Republic",
          "Chad",
          "Togo",
          "Uganda",
          "Yemen, Rep."
         ],
         "legendgroup": "Low income",
         "marker": {
          "color": "#EF553B",
          "symbol": "diamond"
         },
         "mode": "markers",
         "name": "Low income",
         "orientation": "v",
         "showlegend": true,
         "type": "scatter",
         "x": [
          -314602,
          10003,
          -125000,
          -200000,
          119303,
          150002,
          -20000,
          -15436,
          -6996,
          -25000,
          -7500,
          -200000,
          -25000,
          -80263,
          20001,
          -27013,
          -44998,
          -250001,
          -21000,
          -200002,
          -870998,
          -2136954,
          10000,
          -9999,
          843469,
          -150000
         ],
         "xaxis": "x",
         "y": [
          4.633,
          5.502,
          5.271,
          4.796,
          6.017,
          4.35,
          4.777,
          5.281,
          4.553,
          4.387,
          4.13,
          5.968,
          4.922,
          4.302,
          7.001,
          1.911,
          4.088,
          4.469,
          4.359,
          6.168,
          4.775,
          2.847,
          5.846,
          4.384,
          5.095,
          3.89
         ],
         "yaxis": "y"
        },
        {
         "hovertemplate": "<b>%{hovertext}</b><br><br>IncomeGroup=Lower middle income<br>net_migration=%{x}<br>BirthRate 2017=%{y}<extra></extra>",
         "hovertext": [
          "Angola",
          "Benin",
          "Bangladesh",
          "Belize",
          "Bolivia",
          "Bhutan",
          "Cote d'Ivoire",
          "Cameroon",
          "Congo, Rep.",
          "Comoros",
          "Cabo Verde",
          "Djibouti",
          "Algeria",
          "Egypt, Arab Rep.",
          "Micronesia, Fed. Sts.",
          "Ghana",
          "Honduras",
          "Haiti",
          "Indonesia",
          "India",
          "Iran, Islamic Rep.",
          "Kenya",
          "Kyrgyz Republic",
          "Cambodia",
          "Kiribati",
          "Lao PDR",
          "Sri Lanka",
          "Lesotho",
          "Morocco",
          "Myanmar",
          "Mongolia",
          "Mauritania",
          "Nigeria",
          "Nicaragua",
          "Nepal",
          "Pakistan",
          "Philippines",
          "Papua New Guinea",
          "Senegal",
          "Solomon Islands",
          "El Salvador",
          "Sao Tome and Principe",
          "Eswatini",
          "Tajikistan",
          "Timor-Leste",
          "Tunisia",
          "Tanzania",
          "Ukraine",
          "Uzbekistan",
          "Vietnam",
          "Vanuatu",
          "Samoa",
          "Zambia",
          "Zimbabwe"
         ],
         "legendgroup": "Lower middle income",
         "marker": {
          "color": "#00cc96",
          "symbol": "square"
         },
         "mode": "markers",
         "name": "Lower middle income",
         "orientation": "v",
         "showlegend": true,
         "type": "scatter",
         "x": [
          32066,
          -10000,
          -1847503,
          6000,
          -47520,
          1600,
          -40000,
          -24000,
          -20000,
          -10000,
          -6709,
          4501,
          -50002,
          -190164,
          -2999,
          -50000,
          -34000,
          -175000,
          -494777,
          -2663434,
          -274998,
          -50000,
          -20000,
          -149999,
          -3999,
          -73518,
          -489932,
          -50234,
          -257096,
          -816564,
          -4262,
          25002,
          -300000,
          -106360,
          208549,
          -1166895,
          -335758,
          -3999,
          -100001,
          -7998,
          -202694,
          -8401,
          -41764,
          -99999,
          -26924,
          -20000,
          -200381,
          50001,
          -44314,
          -399999,
          600,
          -14013,
          -40000,
          -584288
         ],
         "xaxis": "x",
         "y": [
          5.6,
          4.906,
          2.062,
          2.346,
          2.777,
          1.994,
          4.704,
          4.639,
          4.482,
          4.275,
          2.309,
          2.785,
          3.045,
          3.37,
          3.098,
          3.926,
          2.496,
          2.986,
          2.336,
          2.243,
          2.116,
          3.572,
          3,
          2.53,
          3.61,
          2.709,
          2.206,
          3.171,
          2.451,
          2.168,
          2.914,
          4.619,
          5.457,
          2.43,
          1.967,
          3.562,
          2.64,
          3.61,
          4.697,
          4.434,
          2.059,
          4.374,
          3.018,
          3.606,
          4.093,
          2.219,
          4.953,
          1.374,
          2.419,
          2.042,
          3.82,
          3.926,
          4.718,
          3.707
         ],
         "yaxis": "y"
        },
        {
         "hovertemplate": "<b>%{hovertext}</b><br><br>IncomeGroup=Upper middle income<br>net_migration=%{x}<br>BirthRate 2017=%{y}<extra></extra>",
         "hovertext": [
          "Albania",
          "Argentina",
          "Armenia",
          "Azerbaijan",
          "Bulgaria",
          "Bosnia and Herzegovina",
          "Belarus",
          "Brazil",
          "Botswana",
          "China",
          "Colombia",
          "Costa Rica",
          "Cuba",
          "Dominican Republic",
          "Ecuador",
          "Fiji",
          "Gabon",
          "Georgia",
          "Equatorial Guinea",
          "Grenada",
          "Guatemala",
          "Guyana",
          "Iraq",
          "Jamaica",
          "Jordan",
          "Kazakhstan",
          "Lebanon",
          "Libya",
          "Moldova",
          "Maldives",
          "Mexico",
          "North Macedonia",
          "Montenegro",
          "Malaysia",
          "Namibia",
          "Panama",
          "Peru",
          "Paraguay",
          "Romania",
          "Russian Federation",
          "Serbia",
          "Suriname",
          "Thailand",
          "Turkmenistan",
          "Tonga",
          "Turkey",
          "St. Vincent and the Grenadines",
          "South Africa"
         ],
         "legendgroup": "Upper middle income",
         "marker": {
          "color": "#ab63fa",
          "symbol": "x"
         },
         "mode": "markers",
         "name": "Upper middle income",
         "orientation": "v",
         "showlegend": true,
         "type": "scatter",
         "x": [
          -69998,
          24000,
          -24989,
          6002,
          -24001,
          -107926,
          43648,
          106000,
          14999,
          -1741996,
          1023981,
          21000,
          -72000,
          -150000,
          182000,
          -31008,
          16301,
          -50000,
          79998,
          -1000,
          -46073,
          -30001,
          39171,
          -56658,
          51099,
          -90000,
          -150060,
          -9997,
          -6935,
          56851,
          -300000,
          -4999,
          -2400,
          249999,
          -24030,
          56000,
          495345,
          -82780,
          -369997,
          912279,
          20000,
          -4999,
          97222,
          -25001,
          -3999,
          1419610,
          -1000,
          727026
         ],
         "xaxis": "x",
         "y": [
          1.638,
          2.275,
          1.75,
          1.75,
          1.56,
          1.276,
          1.541,
          1.739,
          2.91,
          1.683,
          1.825,
          1.772,
          1.637,
          2.367,
          2.451,
          2.788,
          4.008,
          2.062,
          4.599,
          2.083,
          2.92,
          2.485,
          3.762,
          1.993,
          2.849,
          2.75,
          2.097,
          2.277,
          1.259,
          1.906,
          2.157,
          1.501,
          1.738,
          2.019,
          3.447,
          2.487,
          2.275,
          2.453,
          1.71,
          1.621,
          1.49,
          2.443,
          1.532,
          2.836,
          3.595,
          2.081,
          1.911,
          2.43
         ],
         "yaxis": "y"
        }
       ],
       "layout": {
        "legend": {
         "title": {
          "text": "IncomeGroup"
         },
         "tracegroupgap": 0
        },
        "margin": {
         "t": 60
        },
        "template": {
         "data": {
          "bar": [
           {
            "error_x": {
             "color": "#2a3f5f"
            },
            "error_y": {
             "color": "#2a3f5f"
            },
            "marker": {
             "line": {
              "color": "#E5ECF6",
              "width": 0.5
             },
             "pattern": {
              "fillmode": "overlay",
              "size": 10,
              "solidity": 0.2
             }
            },
            "type": "bar"
           }
          ],
          "barpolar": [
           {
            "marker": {
             "line": {
              "color": "#E5ECF6",
              "width": 0.5
             },
             "pattern": {
              "fillmode": "overlay",
              "size": 10,
              "solidity": 0.2
             }
            },
            "type": "barpolar"
           }
          ],
          "carpet": [
           {
            "aaxis": {
             "endlinecolor": "#2a3f5f",
             "gridcolor": "white",
             "linecolor": "white",
             "minorgridcolor": "white",
             "startlinecolor": "#2a3f5f"
            },
            "baxis": {
             "endlinecolor": "#2a3f5f",
             "gridcolor": "white",
             "linecolor": "white",
             "minorgridcolor": "white",
             "startlinecolor": "#2a3f5f"
            },
            "type": "carpet"
           }
          ],
          "choropleth": [
           {
            "colorbar": {
             "outlinewidth": 0,
             "ticks": ""
            },
            "type": "choropleth"
           }
          ],
          "contour": [
           {
            "colorbar": {
             "outlinewidth": 0,
             "ticks": ""
            },
            "colorscale": [
             [
              0,
              "#0d0887"
             ],
             [
              0.1111111111111111,
              "#46039f"
             ],
             [
              0.2222222222222222,
              "#7201a8"
             ],
             [
              0.3333333333333333,
              "#9c179e"
             ],
             [
              0.4444444444444444,
              "#bd3786"
             ],
             [
              0.5555555555555556,
              "#d8576b"
             ],
             [
              0.6666666666666666,
              "#ed7953"
             ],
             [
              0.7777777777777778,
              "#fb9f3a"
             ],
             [
              0.8888888888888888,
              "#fdca26"
             ],
             [
              1,
              "#f0f921"
             ]
            ],
            "type": "contour"
           }
          ],
          "contourcarpet": [
           {
            "colorbar": {
             "outlinewidth": 0,
             "ticks": ""
            },
            "type": "contourcarpet"
           }
          ],
          "heatmap": [
           {
            "colorbar": {
             "outlinewidth": 0,
             "ticks": ""
            },
            "colorscale": [
             [
              0,
              "#0d0887"
             ],
             [
              0.1111111111111111,
              "#46039f"
             ],
             [
              0.2222222222222222,
              "#7201a8"
             ],
             [
              0.3333333333333333,
              "#9c179e"
             ],
             [
              0.4444444444444444,
              "#bd3786"
             ],
             [
              0.5555555555555556,
              "#d8576b"
             ],
             [
              0.6666666666666666,
              "#ed7953"
             ],
             [
              0.7777777777777778,
              "#fb9f3a"
             ],
             [
              0.8888888888888888,
              "#fdca26"
             ],
             [
              1,
              "#f0f921"
             ]
            ],
            "type": "heatmap"
           }
          ],
          "heatmapgl": [
           {
            "colorbar": {
             "outlinewidth": 0,
             "ticks": ""
            },
            "colorscale": [
             [
              0,
              "#0d0887"
             ],
             [
              0.1111111111111111,
              "#46039f"
             ],
             [
              0.2222222222222222,
              "#7201a8"
             ],
             [
              0.3333333333333333,
              "#9c179e"
             ],
             [
              0.4444444444444444,
              "#bd3786"
             ],
             [
              0.5555555555555556,
              "#d8576b"
             ],
             [
              0.6666666666666666,
              "#ed7953"
             ],
             [
              0.7777777777777778,
              "#fb9f3a"
             ],
             [
              0.8888888888888888,
              "#fdca26"
             ],
             [
              1,
              "#f0f921"
             ]
            ],
            "type": "heatmapgl"
           }
          ],
          "histogram": [
           {
            "marker": {
             "pattern": {
              "fillmode": "overlay",
              "size": 10,
              "solidity": 0.2
             }
            },
            "type": "histogram"
           }
          ],
          "histogram2d": [
           {
            "colorbar": {
             "outlinewidth": 0,
             "ticks": ""
            },
            "colorscale": [
             [
              0,
              "#0d0887"
             ],
             [
              0.1111111111111111,
              "#46039f"
             ],
             [
              0.2222222222222222,
              "#7201a8"
             ],
             [
              0.3333333333333333,
              "#9c179e"
             ],
             [
              0.4444444444444444,
              "#bd3786"
             ],
             [
              0.5555555555555556,
              "#d8576b"
             ],
             [
              0.6666666666666666,
              "#ed7953"
             ],
             [
              0.7777777777777778,
              "#fb9f3a"
             ],
             [
              0.8888888888888888,
              "#fdca26"
             ],
             [
              1,
              "#f0f921"
             ]
            ],
            "type": "histogram2d"
           }
          ],
          "histogram2dcontour": [
           {
            "colorbar": {
             "outlinewidth": 0,
             "ticks": ""
            },
            "colorscale": [
             [
              0,
              "#0d0887"
             ],
             [
              0.1111111111111111,
              "#46039f"
             ],
             [
              0.2222222222222222,
              "#7201a8"
             ],
             [
              0.3333333333333333,
              "#9c179e"
             ],
             [
              0.4444444444444444,
              "#bd3786"
             ],
             [
              0.5555555555555556,
              "#d8576b"
             ],
             [
              0.6666666666666666,
              "#ed7953"
             ],
             [
              0.7777777777777778,
              "#fb9f3a"
             ],
             [
              0.8888888888888888,
              "#fdca26"
             ],
             [
              1,
              "#f0f921"
             ]
            ],
            "type": "histogram2dcontour"
           }
          ],
          "mesh3d": [
           {
            "colorbar": {
             "outlinewidth": 0,
             "ticks": ""
            },
            "type": "mesh3d"
           }
          ],
          "parcoords": [
           {
            "line": {
             "colorbar": {
              "outlinewidth": 0,
              "ticks": ""
             }
            },
            "type": "parcoords"
           }
          ],
          "pie": [
           {
            "automargin": true,
            "type": "pie"
           }
          ],
          "scatter": [
           {
            "marker": {
             "colorbar": {
              "outlinewidth": 0,
              "ticks": ""
             }
            },
            "type": "scatter"
           }
          ],
          "scatter3d": [
           {
            "line": {
             "colorbar": {
              "outlinewidth": 0,
              "ticks": ""
             }
            },
            "marker": {
             "colorbar": {
              "outlinewidth": 0,
              "ticks": ""
             }
            },
            "type": "scatter3d"
           }
          ],
          "scattercarpet": [
           {
            "marker": {
             "colorbar": {
              "outlinewidth": 0,
              "ticks": ""
             }
            },
            "type": "scattercarpet"
           }
          ],
          "scattergeo": [
           {
            "marker": {
             "colorbar": {
              "outlinewidth": 0,
              "ticks": ""
             }
            },
            "type": "scattergeo"
           }
          ],
          "scattergl": [
           {
            "marker": {
             "colorbar": {
              "outlinewidth": 0,
              "ticks": ""
             }
            },
            "type": "scattergl"
           }
          ],
          "scattermapbox": [
           {
            "marker": {
             "colorbar": {
              "outlinewidth": 0,
              "ticks": ""
             }
            },
            "type": "scattermapbox"
           }
          ],
          "scatterpolar": [
           {
            "marker": {
             "colorbar": {
              "outlinewidth": 0,
              "ticks": ""
             }
            },
            "type": "scatterpolar"
           }
          ],
          "scatterpolargl": [
           {
            "marker": {
             "colorbar": {
              "outlinewidth": 0,
              "ticks": ""
             }
            },
            "type": "scatterpolargl"
           }
          ],
          "scatterternary": [
           {
            "marker": {
             "colorbar": {
              "outlinewidth": 0,
              "ticks": ""
             }
            },
            "type": "scatterternary"
           }
          ],
          "surface": [
           {
            "colorbar": {
             "outlinewidth": 0,
             "ticks": ""
            },
            "colorscale": [
             [
              0,
              "#0d0887"
             ],
             [
              0.1111111111111111,
              "#46039f"
             ],
             [
              0.2222222222222222,
              "#7201a8"
             ],
             [
              0.3333333333333333,
              "#9c179e"
             ],
             [
              0.4444444444444444,
              "#bd3786"
             ],
             [
              0.5555555555555556,
              "#d8576b"
             ],
             [
              0.6666666666666666,
              "#ed7953"
             ],
             [
              0.7777777777777778,
              "#fb9f3a"
             ],
             [
              0.8888888888888888,
              "#fdca26"
             ],
             [
              1,
              "#f0f921"
             ]
            ],
            "type": "surface"
           }
          ],
          "table": [
           {
            "cells": {
             "fill": {
              "color": "#EBF0F8"
             },
             "line": {
              "color": "white"
             }
            },
            "header": {
             "fill": {
              "color": "#C8D4E3"
             },
             "line": {
              "color": "white"
             }
            },
            "type": "table"
           }
          ]
         },
         "layout": {
          "annotationdefaults": {
           "arrowcolor": "#2a3f5f",
           "arrowhead": 0,
           "arrowwidth": 1
          },
          "autotypenumbers": "strict",
          "coloraxis": {
           "colorbar": {
            "outlinewidth": 0,
            "ticks": ""
           }
          },
          "colorscale": {
           "diverging": [
            [
             0,
             "#8e0152"
            ],
            [
             0.1,
             "#c51b7d"
            ],
            [
             0.2,
             "#de77ae"
            ],
            [
             0.3,
             "#f1b6da"
            ],
            [
             0.4,
             "#fde0ef"
            ],
            [
             0.5,
             "#f7f7f7"
            ],
            [
             0.6,
             "#e6f5d0"
            ],
            [
             0.7,
             "#b8e186"
            ],
            [
             0.8,
             "#7fbc41"
            ],
            [
             0.9,
             "#4d9221"
            ],
            [
             1,
             "#276419"
            ]
           ],
           "sequential": [
            [
             0,
             "#0d0887"
            ],
            [
             0.1111111111111111,
             "#46039f"
            ],
            [
             0.2222222222222222,
             "#7201a8"
            ],
            [
             0.3333333333333333,
             "#9c179e"
            ],
            [
             0.4444444444444444,
             "#bd3786"
            ],
            [
             0.5555555555555556,
             "#d8576b"
            ],
            [
             0.6666666666666666,
             "#ed7953"
            ],
            [
             0.7777777777777778,
             "#fb9f3a"
            ],
            [
             0.8888888888888888,
             "#fdca26"
            ],
            [
             1,
             "#f0f921"
            ]
           ],
           "sequentialminus": [
            [
             0,
             "#0d0887"
            ],
            [
             0.1111111111111111,
             "#46039f"
            ],
            [
             0.2222222222222222,
             "#7201a8"
            ],
            [
             0.3333333333333333,
             "#9c179e"
            ],
            [
             0.4444444444444444,
             "#bd3786"
            ],
            [
             0.5555555555555556,
             "#d8576b"
            ],
            [
             0.6666666666666666,
             "#ed7953"
            ],
            [
             0.7777777777777778,
             "#fb9f3a"
            ],
            [
             0.8888888888888888,
             "#fdca26"
            ],
            [
             1,
             "#f0f921"
            ]
           ]
          },
          "colorway": [
           "#636efa",
           "#EF553B",
           "#00cc96",
           "#ab63fa",
           "#FFA15A",
           "#19d3f3",
           "#FF6692",
           "#B6E880",
           "#FF97FF",
           "#FECB52"
          ],
          "font": {
           "color": "#2a3f5f"
          },
          "geo": {
           "bgcolor": "white",
           "lakecolor": "white",
           "landcolor": "#E5ECF6",
           "showlakes": true,
           "showland": true,
           "subunitcolor": "white"
          },
          "hoverlabel": {
           "align": "left"
          },
          "hovermode": "closest",
          "mapbox": {
           "style": "light"
          },
          "paper_bgcolor": "white",
          "plot_bgcolor": "#E5ECF6",
          "polar": {
           "angularaxis": {
            "gridcolor": "white",
            "linecolor": "white",
            "ticks": ""
           },
           "bgcolor": "#E5ECF6",
           "radialaxis": {
            "gridcolor": "white",
            "linecolor": "white",
            "ticks": ""
           }
          },
          "scene": {
           "xaxis": {
            "backgroundcolor": "#E5ECF6",
            "gridcolor": "white",
            "gridwidth": 2,
            "linecolor": "white",
            "showbackground": true,
            "ticks": "",
            "zerolinecolor": "white"
           },
           "yaxis": {
            "backgroundcolor": "#E5ECF6",
            "gridcolor": "white",
            "gridwidth": 2,
            "linecolor": "white",
            "showbackground": true,
            "ticks": "",
            "zerolinecolor": "white"
           },
           "zaxis": {
            "backgroundcolor": "#E5ECF6",
            "gridcolor": "white",
            "gridwidth": 2,
            "linecolor": "white",
            "showbackground": true,
            "ticks": "",
            "zerolinecolor": "white"
           }
          },
          "shapedefaults": {
           "line": {
            "color": "#2a3f5f"
           }
          },
          "ternary": {
           "aaxis": {
            "gridcolor": "white",
            "linecolor": "white",
            "ticks": ""
           },
           "baxis": {
            "gridcolor": "white",
            "linecolor": "white",
            "ticks": ""
           },
           "bgcolor": "#E5ECF6",
           "caxis": {
            "gridcolor": "white",
            "linecolor": "white",
            "ticks": ""
           }
          },
          "title": {
           "x": 0.05
          },
          "xaxis": {
           "automargin": true,
           "gridcolor": "white",
           "linecolor": "white",
           "ticks": "",
           "title": {
            "standoff": 15
           },
           "zerolinecolor": "white",
           "zerolinewidth": 2
          },
          "yaxis": {
           "automargin": true,
           "gridcolor": "white",
           "linecolor": "white",
           "ticks": "",
           "title": {
            "standoff": 15
           },
           "zerolinecolor": "white",
           "zerolinewidth": 2
          }
         }
        },
        "title": {
         "text": "Migration Vs Birth Rate 2017"
        },
        "xaxis": {
         "anchor": "y",
         "domain": [
          0,
          1
         ],
         "title": {
          "text": "net_migration"
         }
        },
        "yaxis": {
         "anchor": "x",
         "domain": [
          0,
          1
         ],
         "tickfont": {
          "size": 15
         },
         "title": {
          "text": "BirthRate 2017"
         }
        }
       }
      },
      "text/html": [
       "<div>                            <div id=\"de13f6ec-59e1-4e33-bf27-32d92e5844dd\" class=\"plotly-graph-div\" style=\"height:525px; width:100%;\"></div>            <script type=\"text/javascript\">                require([\"plotly\"], function(Plotly) {                    window.PLOTLYENV=window.PLOTLYENV || {};                                    if (document.getElementById(\"de13f6ec-59e1-4e33-bf27-32d92e5844dd\")) {                    Plotly.newPlot(                        \"de13f6ec-59e1-4e33-bf27-32d92e5844dd\",                        [{\"hovertemplate\":\"<b>%{hovertext}</b><br><br>IncomeGroup=High income<br>net_migration=%{x}<br>BirthRate 2017=%{y}<extra></extra>\",\"hovertext\":[\"Aruba\",\"United Arab Emirates\",\"Australia\",\"Austria\",\"Belgium\",\"Bahrain\",\"Bahamas, The\",\"Barbados\",\"Canada\",\"Switzerland\",\"Chile\",\"Curacao\",\"Cyprus\",\"Czech Republic\",\"Germany\",\"Denmark\",\"Spain\",\"Estonia\",\"Finland\",\"France\",\"United Kingdom\",\"Greece\",\"Guam\",\"Croatia\",\"Hungary\",\"Ireland\",\"Iceland\",\"Italy\",\"Japan\",\"Korea, Rep.\",\"Kuwait\",\"Lithuania\",\"Luxembourg\",\"Latvia\",\"Malta\",\"New Caledonia\",\"Netherlands\",\"Norway\",\"New Zealand\",\"Oman\",\"Poland\",\"Puerto Rico\",\"Portugal\",\"French Polynesia\",\"Qatar\",\"Saudi Arabia\",\"Singapore\",\"Slovak Republic\",\"Slovenia\",\"Sweden\",\"Seychelles\",\"Trinidad and Tobago\",\"Uruguay\",\"United States\",\"Virgin Islands (U.S.)\"],\"legendgroup\":\"High income\",\"marker\":{\"color\":\"#636efa\",\"symbol\":\"circle\"},\"mode\":\"markers\",\"name\":\"High income\",\"orientation\":\"v\",\"showlegend\":true,\"x\":[1004.0,200000.0,791229.0,324998.0,240000.0,239000.0,4999.0,-397.0,1210159.0,259999.0,558539.0,2573.0,25000.0,110057.0,2719112.0,75998.0,200000.0,19555.0,70000.0,182636.0,1303250.0,-80000.0,-2532.0,-40004.0,29999.0,118020.0,1900.0,744713.0,357800.0,58657.0,197600.0,-163902.0,48704.0,-74186.0,4501.0,2510.0,80000.0,140000.0,74403.0,437000.0,-146976.0,-489932.0,-30001.0,-5000.0,200000.0,674895.0,135142.0,7423.0,9999.0,200000.0,-1000.0,-3999.0,-15000.0,4774029.0,-2254.0],\"xaxis\":\"x\",\"y\":[1.886,1.448,1.741,1.52,1.65,2.01,1.762,1.615,1.4961,1.52,1.678,1.5,1.337,1.69,1.57,1.75,1.31,1.59,1.49,1.9,1.74,1.35,2.334,1.42,1.54,1.77,1.71,1.32,1.43,1.052,2.083,1.63,1.39,1.69,1.26,1.97,1.62,1.62,1.81,2.92,1.48,1.101,1.38,1.956,1.886,2.373,1.16,1.52,1.62,1.78,2.41,1.739,1.983,1.7655,2.08],\"yaxis\":\"y\",\"type\":\"scatter\"},{\"hovertemplate\":\"<b>%{hovertext}</b><br><br>IncomeGroup=Low income<br>net_migration=%{x}<br>BirthRate 2017=%{y}<extra></extra>\",\"hovertext\":[\"Afghanistan\",\"Burundi\",\"Burkina Faso\",\"Central African Republic\",\"Congo, Dem. Rep.\",\"Ethiopia\",\"Guinea\",\"Gambia, The\",\"Guinea-Bissau\",\"Liberia\",\"Madagascar\",\"Mali\",\"Mozambique\",\"Malawi\",\"Niger\",\"Korea, Dem. People's Rep.\",\"Rwanda\",\"Sudan\",\"Sierra Leone\",\"Somalia\",\"South Sudan\",\"Syrian Arab Republic\",\"Chad\",\"Togo\",\"Uganda\",\"Yemen, Rep.\"],\"legendgroup\":\"Low income\",\"marker\":{\"color\":\"#EF553B\",\"symbol\":\"diamond\"},\"mode\":\"markers\",\"name\":\"Low income\",\"orientation\":\"v\",\"showlegend\":true,\"x\":[-314602.0,10003.0,-125000.0,-200000.0,119303.0,150002.0,-20000.0,-15436.0,-6996.0,-25000.0,-7500.0,-200000.0,-25000.0,-80263.0,20001.0,-27013.0,-44998.0,-250001.0,-21000.0,-200002.0,-870998.0,-2136954.0,10000.0,-9999.0,843469.0,-150000.0],\"xaxis\":\"x\",\"y\":[4.633,5.502,5.271,4.796,6.017,4.35,4.777,5.281,4.553,4.387,4.13,5.968,4.922,4.302,7.001,1.911,4.088,4.469,4.359,6.168,4.775,2.847,5.846,4.384,5.095,3.89],\"yaxis\":\"y\",\"type\":\"scatter\"},{\"hovertemplate\":\"<b>%{hovertext}</b><br><br>IncomeGroup=Lower middle income<br>net_migration=%{x}<br>BirthRate 2017=%{y}<extra></extra>\",\"hovertext\":[\"Angola\",\"Benin\",\"Bangladesh\",\"Belize\",\"Bolivia\",\"Bhutan\",\"Cote d'Ivoire\",\"Cameroon\",\"Congo, Rep.\",\"Comoros\",\"Cabo Verde\",\"Djibouti\",\"Algeria\",\"Egypt, Arab Rep.\",\"Micronesia, Fed. Sts.\",\"Ghana\",\"Honduras\",\"Haiti\",\"Indonesia\",\"India\",\"Iran, Islamic Rep.\",\"Kenya\",\"Kyrgyz Republic\",\"Cambodia\",\"Kiribati\",\"Lao PDR\",\"Sri Lanka\",\"Lesotho\",\"Morocco\",\"Myanmar\",\"Mongolia\",\"Mauritania\",\"Nigeria\",\"Nicaragua\",\"Nepal\",\"Pakistan\",\"Philippines\",\"Papua New Guinea\",\"Senegal\",\"Solomon Islands\",\"El Salvador\",\"Sao Tome and Principe\",\"Eswatini\",\"Tajikistan\",\"Timor-Leste\",\"Tunisia\",\"Tanzania\",\"Ukraine\",\"Uzbekistan\",\"Vietnam\",\"Vanuatu\",\"Samoa\",\"Zambia\",\"Zimbabwe\"],\"legendgroup\":\"Lower middle income\",\"marker\":{\"color\":\"#00cc96\",\"symbol\":\"square\"},\"mode\":\"markers\",\"name\":\"Lower middle income\",\"orientation\":\"v\",\"showlegend\":true,\"x\":[32066.0,-10000.0,-1847503.0,6000.0,-47520.0,1600.0,-40000.0,-24000.0,-20000.0,-10000.0,-6709.0,4501.0,-50002.0,-190164.0,-2999.0,-50000.0,-34000.0,-175000.0,-494777.0,-2663434.0,-274998.0,-50000.0,-20000.0,-149999.0,-3999.0,-73518.0,-489932.0,-50234.0,-257096.0,-816564.0,-4262.0,25002.0,-300000.0,-106360.0,208549.0,-1166895.0,-335758.0,-3999.0,-100001.0,-7998.0,-202694.0,-8401.0,-41764.0,-99999.0,-26924.0,-20000.0,-200381.0,50001.0,-44314.0,-399999.0,600.0,-14013.0,-40000.0,-584288.0],\"xaxis\":\"x\",\"y\":[5.6,4.906,2.062,2.346,2.777,1.994,4.704,4.639,4.482,4.275,2.309,2.785,3.045,3.37,3.098,3.926,2.496,2.986,2.336,2.243,2.116,3.572,3.0,2.53,3.61,2.709,2.206,3.171,2.451,2.168,2.914,4.619,5.457,2.43,1.967,3.562,2.64,3.61,4.697,4.434,2.059,4.374,3.018,3.606,4.093,2.219,4.953,1.374,2.419,2.042,3.82,3.926,4.718,3.707],\"yaxis\":\"y\",\"type\":\"scatter\"},{\"hovertemplate\":\"<b>%{hovertext}</b><br><br>IncomeGroup=Upper middle income<br>net_migration=%{x}<br>BirthRate 2017=%{y}<extra></extra>\",\"hovertext\":[\"Albania\",\"Argentina\",\"Armenia\",\"Azerbaijan\",\"Bulgaria\",\"Bosnia and Herzegovina\",\"Belarus\",\"Brazil\",\"Botswana\",\"China\",\"Colombia\",\"Costa Rica\",\"Cuba\",\"Dominican Republic\",\"Ecuador\",\"Fiji\",\"Gabon\",\"Georgia\",\"Equatorial Guinea\",\"Grenada\",\"Guatemala\",\"Guyana\",\"Iraq\",\"Jamaica\",\"Jordan\",\"Kazakhstan\",\"Lebanon\",\"Libya\",\"Moldova\",\"Maldives\",\"Mexico\",\"North Macedonia\",\"Montenegro\",\"Malaysia\",\"Namibia\",\"Panama\",\"Peru\",\"Paraguay\",\"Romania\",\"Russian Federation\",\"Serbia\",\"Suriname\",\"Thailand\",\"Turkmenistan\",\"Tonga\",\"Turkey\",\"St. Vincent and the Grenadines\",\"South Africa\"],\"legendgroup\":\"Upper middle income\",\"marker\":{\"color\":\"#ab63fa\",\"symbol\":\"x\"},\"mode\":\"markers\",\"name\":\"Upper middle income\",\"orientation\":\"v\",\"showlegend\":true,\"x\":[-69998.0,24000.0,-24989.0,6002.0,-24001.0,-107926.0,43648.0,106000.0,14999.0,-1741996.0,1023981.0,21000.0,-72000.0,-150000.0,182000.0,-31008.0,16301.0,-50000.0,79998.0,-1000.0,-46073.0,-30001.0,39171.0,-56658.0,51099.0,-90000.0,-150060.0,-9997.0,-6935.0,56851.0,-300000.0,-4999.0,-2400.0,249999.0,-24030.0,56000.0,495345.0,-82780.0,-369997.0,912279.0,20000.0,-4999.0,97222.0,-25001.0,-3999.0,1419610.0,-1000.0,727026.0],\"xaxis\":\"x\",\"y\":[1.638,2.275,1.75,1.75,1.56,1.276,1.541,1.739,2.91,1.683,1.825,1.772,1.637,2.367,2.451,2.788,4.008,2.062,4.599,2.083,2.92,2.485,3.762,1.993,2.849,2.75,2.097,2.277,1.259,1.906,2.157,1.501,1.738,2.019,3.447,2.487,2.275,2.453,1.71,1.621,1.49,2.443,1.532,2.836,3.595,2.081,1.911,2.43],\"yaxis\":\"y\",\"type\":\"scatter\"}],                        {\"template\":{\"data\":{\"bar\":[{\"error_x\":{\"color\":\"#2a3f5f\"},\"error_y\":{\"color\":\"#2a3f5f\"},\"marker\":{\"line\":{\"color\":\"#E5ECF6\",\"width\":0.5},\"pattern\":{\"fillmode\":\"overlay\",\"size\":10,\"solidity\":0.2}},\"type\":\"bar\"}],\"barpolar\":[{\"marker\":{\"line\":{\"color\":\"#E5ECF6\",\"width\":0.5},\"pattern\":{\"fillmode\":\"overlay\",\"size\":10,\"solidity\":0.2}},\"type\":\"barpolar\"}],\"carpet\":[{\"aaxis\":{\"endlinecolor\":\"#2a3f5f\",\"gridcolor\":\"white\",\"linecolor\":\"white\",\"minorgridcolor\":\"white\",\"startlinecolor\":\"#2a3f5f\"},\"baxis\":{\"endlinecolor\":\"#2a3f5f\",\"gridcolor\":\"white\",\"linecolor\":\"white\",\"minorgridcolor\":\"white\",\"startlinecolor\":\"#2a3f5f\"},\"type\":\"carpet\"}],\"choropleth\":[{\"colorbar\":{\"outlinewidth\":0,\"ticks\":\"\"},\"type\":\"choropleth\"}],\"contour\":[{\"colorbar\":{\"outlinewidth\":0,\"ticks\":\"\"},\"colorscale\":[[0.0,\"#0d0887\"],[0.1111111111111111,\"#46039f\"],[0.2222222222222222,\"#7201a8\"],[0.3333333333333333,\"#9c179e\"],[0.4444444444444444,\"#bd3786\"],[0.5555555555555556,\"#d8576b\"],[0.6666666666666666,\"#ed7953\"],[0.7777777777777778,\"#fb9f3a\"],[0.8888888888888888,\"#fdca26\"],[1.0,\"#f0f921\"]],\"type\":\"contour\"}],\"contourcarpet\":[{\"colorbar\":{\"outlinewidth\":0,\"ticks\":\"\"},\"type\":\"contourcarpet\"}],\"heatmap\":[{\"colorbar\":{\"outlinewidth\":0,\"ticks\":\"\"},\"colorscale\":[[0.0,\"#0d0887\"],[0.1111111111111111,\"#46039f\"],[0.2222222222222222,\"#7201a8\"],[0.3333333333333333,\"#9c179e\"],[0.4444444444444444,\"#bd3786\"],[0.5555555555555556,\"#d8576b\"],[0.6666666666666666,\"#ed7953\"],[0.7777777777777778,\"#fb9f3a\"],[0.8888888888888888,\"#fdca26\"],[1.0,\"#f0f921\"]],\"type\":\"heatmap\"}],\"heatmapgl\":[{\"colorbar\":{\"outlinewidth\":0,\"ticks\":\"\"},\"colorscale\":[[0.0,\"#0d0887\"],[0.1111111111111111,\"#46039f\"],[0.2222222222222222,\"#7201a8\"],[0.3333333333333333,\"#9c179e\"],[0.4444444444444444,\"#bd3786\"],[0.5555555555555556,\"#d8576b\"],[0.6666666666666666,\"#ed7953\"],[0.7777777777777778,\"#fb9f3a\"],[0.8888888888888888,\"#fdca26\"],[1.0,\"#f0f921\"]],\"type\":\"heatmapgl\"}],\"histogram\":[{\"marker\":{\"pattern\":{\"fillmode\":\"overlay\",\"size\":10,\"solidity\":0.2}},\"type\":\"histogram\"}],\"histogram2d\":[{\"colorbar\":{\"outlinewidth\":0,\"ticks\":\"\"},\"colorscale\":[[0.0,\"#0d0887\"],[0.1111111111111111,\"#46039f\"],[0.2222222222222222,\"#7201a8\"],[0.3333333333333333,\"#9c179e\"],[0.4444444444444444,\"#bd3786\"],[0.5555555555555556,\"#d8576b\"],[0.6666666666666666,\"#ed7953\"],[0.7777777777777778,\"#fb9f3a\"],[0.8888888888888888,\"#fdca26\"],[1.0,\"#f0f921\"]],\"type\":\"histogram2d\"}],\"histogram2dcontour\":[{\"colorbar\":{\"outlinewidth\":0,\"ticks\":\"\"},\"colorscale\":[[0.0,\"#0d0887\"],[0.1111111111111111,\"#46039f\"],[0.2222222222222222,\"#7201a8\"],[0.3333333333333333,\"#9c179e\"],[0.4444444444444444,\"#bd3786\"],[0.5555555555555556,\"#d8576b\"],[0.6666666666666666,\"#ed7953\"],[0.7777777777777778,\"#fb9f3a\"],[0.8888888888888888,\"#fdca26\"],[1.0,\"#f0f921\"]],\"type\":\"histogram2dcontour\"}],\"mesh3d\":[{\"colorbar\":{\"outlinewidth\":0,\"ticks\":\"\"},\"type\":\"mesh3d\"}],\"parcoords\":[{\"line\":{\"colorbar\":{\"outlinewidth\":0,\"ticks\":\"\"}},\"type\":\"parcoords\"}],\"pie\":[{\"automargin\":true,\"type\":\"pie\"}],\"scatter\":[{\"marker\":{\"colorbar\":{\"outlinewidth\":0,\"ticks\":\"\"}},\"type\":\"scatter\"}],\"scatter3d\":[{\"line\":{\"colorbar\":{\"outlinewidth\":0,\"ticks\":\"\"}},\"marker\":{\"colorbar\":{\"outlinewidth\":0,\"ticks\":\"\"}},\"type\":\"scatter3d\"}],\"scattercarpet\":[{\"marker\":{\"colorbar\":{\"outlinewidth\":0,\"ticks\":\"\"}},\"type\":\"scattercarpet\"}],\"scattergeo\":[{\"marker\":{\"colorbar\":{\"outlinewidth\":0,\"ticks\":\"\"}},\"type\":\"scattergeo\"}],\"scattergl\":[{\"marker\":{\"colorbar\":{\"outlinewidth\":0,\"ticks\":\"\"}},\"type\":\"scattergl\"}],\"scattermapbox\":[{\"marker\":{\"colorbar\":{\"outlinewidth\":0,\"ticks\":\"\"}},\"type\":\"scattermapbox\"}],\"scatterpolar\":[{\"marker\":{\"colorbar\":{\"outlinewidth\":0,\"ticks\":\"\"}},\"type\":\"scatterpolar\"}],\"scatterpolargl\":[{\"marker\":{\"colorbar\":{\"outlinewidth\":0,\"ticks\":\"\"}},\"type\":\"scatterpolargl\"}],\"scatterternary\":[{\"marker\":{\"colorbar\":{\"outlinewidth\":0,\"ticks\":\"\"}},\"type\":\"scatterternary\"}],\"surface\":[{\"colorbar\":{\"outlinewidth\":0,\"ticks\":\"\"},\"colorscale\":[[0.0,\"#0d0887\"],[0.1111111111111111,\"#46039f\"],[0.2222222222222222,\"#7201a8\"],[0.3333333333333333,\"#9c179e\"],[0.4444444444444444,\"#bd3786\"],[0.5555555555555556,\"#d8576b\"],[0.6666666666666666,\"#ed7953\"],[0.7777777777777778,\"#fb9f3a\"],[0.8888888888888888,\"#fdca26\"],[1.0,\"#f0f921\"]],\"type\":\"surface\"}],\"table\":[{\"cells\":{\"fill\":{\"color\":\"#EBF0F8\"},\"line\":{\"color\":\"white\"}},\"header\":{\"fill\":{\"color\":\"#C8D4E3\"},\"line\":{\"color\":\"white\"}},\"type\":\"table\"}]},\"layout\":{\"annotationdefaults\":{\"arrowcolor\":\"#2a3f5f\",\"arrowhead\":0,\"arrowwidth\":1},\"autotypenumbers\":\"strict\",\"coloraxis\":{\"colorbar\":{\"outlinewidth\":0,\"ticks\":\"\"}},\"colorscale\":{\"diverging\":[[0,\"#8e0152\"],[0.1,\"#c51b7d\"],[0.2,\"#de77ae\"],[0.3,\"#f1b6da\"],[0.4,\"#fde0ef\"],[0.5,\"#f7f7f7\"],[0.6,\"#e6f5d0\"],[0.7,\"#b8e186\"],[0.8,\"#7fbc41\"],[0.9,\"#4d9221\"],[1,\"#276419\"]],\"sequential\":[[0.0,\"#0d0887\"],[0.1111111111111111,\"#46039f\"],[0.2222222222222222,\"#7201a8\"],[0.3333333333333333,\"#9c179e\"],[0.4444444444444444,\"#bd3786\"],[0.5555555555555556,\"#d8576b\"],[0.6666666666666666,\"#ed7953\"],[0.7777777777777778,\"#fb9f3a\"],[0.8888888888888888,\"#fdca26\"],[1.0,\"#f0f921\"]],\"sequentialminus\":[[0.0,\"#0d0887\"],[0.1111111111111111,\"#46039f\"],[0.2222222222222222,\"#7201a8\"],[0.3333333333333333,\"#9c179e\"],[0.4444444444444444,\"#bd3786\"],[0.5555555555555556,\"#d8576b\"],[0.6666666666666666,\"#ed7953\"],[0.7777777777777778,\"#fb9f3a\"],[0.8888888888888888,\"#fdca26\"],[1.0,\"#f0f921\"]]},\"colorway\":[\"#636efa\",\"#EF553B\",\"#00cc96\",\"#ab63fa\",\"#FFA15A\",\"#19d3f3\",\"#FF6692\",\"#B6E880\",\"#FF97FF\",\"#FECB52\"],\"font\":{\"color\":\"#2a3f5f\"},\"geo\":{\"bgcolor\":\"white\",\"lakecolor\":\"white\",\"landcolor\":\"#E5ECF6\",\"showlakes\":true,\"showland\":true,\"subunitcolor\":\"white\"},\"hoverlabel\":{\"align\":\"left\"},\"hovermode\":\"closest\",\"mapbox\":{\"style\":\"light\"},\"paper_bgcolor\":\"white\",\"plot_bgcolor\":\"#E5ECF6\",\"polar\":{\"angularaxis\":{\"gridcolor\":\"white\",\"linecolor\":\"white\",\"ticks\":\"\"},\"bgcolor\":\"#E5ECF6\",\"radialaxis\":{\"gridcolor\":\"white\",\"linecolor\":\"white\",\"ticks\":\"\"}},\"scene\":{\"xaxis\":{\"backgroundcolor\":\"#E5ECF6\",\"gridcolor\":\"white\",\"gridwidth\":2,\"linecolor\":\"white\",\"showbackground\":true,\"ticks\":\"\",\"zerolinecolor\":\"white\"},\"yaxis\":{\"backgroundcolor\":\"#E5ECF6\",\"gridcolor\":\"white\",\"gridwidth\":2,\"linecolor\":\"white\",\"showbackground\":true,\"ticks\":\"\",\"zerolinecolor\":\"white\"},\"zaxis\":{\"backgroundcolor\":\"#E5ECF6\",\"gridcolor\":\"white\",\"gridwidth\":2,\"linecolor\":\"white\",\"showbackground\":true,\"ticks\":\"\",\"zerolinecolor\":\"white\"}},\"shapedefaults\":{\"line\":{\"color\":\"#2a3f5f\"}},\"ternary\":{\"aaxis\":{\"gridcolor\":\"white\",\"linecolor\":\"white\",\"ticks\":\"\"},\"baxis\":{\"gridcolor\":\"white\",\"linecolor\":\"white\",\"ticks\":\"\"},\"bgcolor\":\"#E5ECF6\",\"caxis\":{\"gridcolor\":\"white\",\"linecolor\":\"white\",\"ticks\":\"\"}},\"title\":{\"x\":0.05},\"xaxis\":{\"automargin\":true,\"gridcolor\":\"white\",\"linecolor\":\"white\",\"ticks\":\"\",\"title\":{\"standoff\":15},\"zerolinecolor\":\"white\",\"zerolinewidth\":2},\"yaxis\":{\"automargin\":true,\"gridcolor\":\"white\",\"linecolor\":\"white\",\"ticks\":\"\",\"title\":{\"standoff\":15},\"zerolinecolor\":\"white\",\"zerolinewidth\":2}}},\"xaxis\":{\"anchor\":\"y\",\"domain\":[0.0,1.0],\"title\":{\"text\":\"net_migration\"}},\"yaxis\":{\"anchor\":\"x\",\"domain\":[0.0,1.0],\"title\":{\"text\":\"BirthRate 2017\"},\"tickfont\":{\"size\":15}},\"legend\":{\"title\":{\"text\":\"IncomeGroup\"},\"tracegroupgap\":0},\"margin\":{\"t\":60},\"title\":{\"text\":\"Migration Vs Birth Rate 2017\"}},                        {\"responsive\": true}                    ).then(function(){\n",
       "                            \n",
       "var gd = document.getElementById('de13f6ec-59e1-4e33-bf27-32d92e5844dd');\n",
       "var x = new MutationObserver(function (mutations, observer) {{\n",
       "        var display = window.getComputedStyle(gd).display;\n",
       "        if (!display || display === 'none') {{\n",
       "            console.log([gd, 'removed!']);\n",
       "            Plotly.purge(gd);\n",
       "            observer.disconnect();\n",
       "        }}\n",
       "}});\n",
       "\n",
       "// Listen for the removal of the full notebook cells\n",
       "var notebookContainer = gd.closest('#notebook-container');\n",
       "if (notebookContainer) {{\n",
       "    x.observe(notebookContainer, {childList: true});\n",
       "}}\n",
       "\n",
       "// Listen for the clearing of the current output cell\n",
       "var outputEl = gd.closest('.output');\n",
       "if (outputEl) {{\n",
       "    x.observe(outputEl, {childList: true});\n",
       "}}\n",
       "\n",
       "                        })                };                });            </script>        </div>"
      ]
     },
     "metadata": {},
     "output_type": "display_data"
    }
   ],
   "source": [
    "fig2 = ploting_scatter(df_overall_2017,'net_migration','BirthRate 2017','IncomeGroup','IncomeGroup',\n",
    "                        'Country Name','Migration Vs Birth Rate 2017')"
   ]
  },
  {
   "cell_type": "code",
   "execution_count": 238,
   "id": "263b5261",
   "metadata": {},
   "outputs": [
    {
     "data": {
      "application/vnd.plotly.v1+json": {
       "config": {
        "plotlyServerURL": "https://plotly.com"
       },
       "data": [
        {
         "hovertemplate": "<b>%{hovertext}</b><br><br>IncomeGroup=High income<br>net_migration=%{x}<br>2017 Aging %=%{y}<extra></extra>",
         "hovertext": [
          "Aruba",
          "United Arab Emirates",
          "Australia",
          "Austria",
          "Belgium",
          "Bahrain",
          "Bahamas, The",
          "Barbados",
          "Canada",
          "Switzerland",
          "Chile",
          "Curacao",
          "Cyprus",
          "Czech Republic",
          "Germany",
          "Denmark",
          "Spain",
          "Estonia",
          "Finland",
          "France",
          "United Kingdom",
          "Greece",
          "Guam",
          "Croatia",
          "Hungary",
          "Ireland",
          "Iceland",
          "Italy",
          "Japan",
          "Korea, Rep.",
          "Kuwait",
          "Lithuania",
          "Luxembourg",
          "Latvia",
          "Malta",
          "New Caledonia",
          "Netherlands",
          "Norway",
          "New Zealand",
          "Oman",
          "Poland",
          "Puerto Rico",
          "Portugal",
          "French Polynesia",
          "Qatar",
          "Saudi Arabia",
          "Singapore",
          "Slovak Republic",
          "Slovenia",
          "Sweden",
          "Seychelles",
          "Trinidad and Tobago",
          "Uruguay",
          "United States",
          "Virgin Islands (U.S.)"
         ],
         "legendgroup": "High income",
         "marker": {
          "color": "#636efa",
          "symbol": "circle"
         },
         "mode": "markers",
         "name": "High income",
         "orientation": "v",
         "showlegend": true,
         "type": "scatter",
         "x": [
          1004,
          200000,
          791229,
          324998,
          240000,
          239000,
          4999,
          -397,
          1210159,
          259999,
          558539,
          2573,
          25000,
          110057,
          2719112,
          75998,
          200000,
          19555,
          70000,
          182636,
          1303250,
          -80000,
          -2532,
          -40004,
          29999,
          118020,
          1900,
          744713,
          357800,
          58657,
          197600,
          -163902,
          48704,
          -74186,
          4501,
          2510,
          80000,
          140000,
          74403,
          437000,
          -146976,
          -489932,
          -30001,
          -5000,
          200000,
          674895,
          135142,
          7423,
          9999,
          200000,
          -1000,
          -3999,
          -15000,
          4774029,
          -2254
         ],
         "xaxis": "x",
         "y": [
          13.0734772127631,
          1.03467797621702,
          15.4040208878559,
          18.9565733220815,
          18.5840790882601,
          2.37230234606539,
          7.06054930518264,
          15.4109254031695,
          16.8424915594931,
          18.4308671298436,
          11.1918942478844,
          16.214497799342,
          13.4153557157123,
          18.9967065230691,
          21.3714880478767,
          19.6594928993276,
          19.1458487271796,
          19.3131674485937,
          21.2787526007594,
          19.6689967687709,
          18.2911350395904,
          21.3993537979744,
          9.51296863301295,
          20.0223913942074,
          18.5778610772262,
          13.5066550900967,
          14.4255412045109,
          22.4996889509015,
          27.1094794248515,
          13.8522477555421,
          2.38246157206715,
          19.3009523394487,
          14.1067054112956,
          19.833304033577,
          19.887288694846,
          8.93162547357027,
          18.7921320210439,
          16.8349720164506,
          15.3294510418257,
          2.34472113585979,
          16.9312953486375,
          17.7453252823385,
          21.5577020889385,
          7.90939580300034,
          1.23212298622101,
          3.20753529655243,
          10.5798994786478,
          15.0810220451917,
          19.0233163840774,
          19.9914163662092,
          7.42911074695596,
          10.3645870587887,
          14.7002261801567,
          15.4193658960742,
          18.7224942959972
         ],
         "yaxis": "y"
        },
        {
         "hovertemplate": "<b>%{hovertext}</b><br><br>IncomeGroup=Low income<br>net_migration=%{x}<br>2017 Aging %=%{y}<extra></extra>",
         "hovertext": [
          "Afghanistan",
          "Burundi",
          "Burkina Faso",
          "Central African Republic",
          "Congo, Dem. Rep.",
          "Ethiopia",
          "Guinea",
          "Gambia, The",
          "Guinea-Bissau",
          "Liberia",
          "Madagascar",
          "Mali",
          "Mozambique",
          "Malawi",
          "Niger",
          "Korea, Dem. People's Rep.",
          "Rwanda",
          "Sudan",
          "Sierra Leone",
          "Somalia",
          "South Sudan",
          "Syrian Arab Republic",
          "Chad",
          "Togo",
          "Uganda",
          "Yemen, Rep."
         ],
         "legendgroup": "Low income",
         "marker": {
          "color": "#EF553B",
          "symbol": "diamond"
         },
         "mode": "markers",
         "name": "Low income",
         "orientation": "v",
         "showlegend": true,
         "type": "scatter",
         "x": [
          -314602,
          10003,
          -125000,
          -200000,
          119303,
          150002,
          -20000,
          -15436,
          -6996,
          -25000,
          -7500,
          -200000,
          -25000,
          -80263,
          20001,
          -27013,
          -44998,
          -250001,
          -21000,
          -200002,
          -870998,
          -2136954,
          10000,
          -9999,
          843469,
          -150000
         ],
         "xaxis": "x",
         "y": [
          2.5542514703985,
          2.18676073257099,
          2.40863004119056,
          2.83160027702211,
          3.01976452615423,
          3.4878304988263,
          2.90681953763653,
          2.61688819990524,
          2.77155258472386,
          3.22270771332556,
          2.93018379921372,
          2.51491565396871,
          2.89833319941368,
          2.64901419316458,
          2.59076059297535,
          9.51172884595156,
          2.84976305323087,
          3.53520683416771,
          2.98184277250364,
          2.85368354175379,
          3.41576478198637,
          4.31835461571047,
          2.46671833784574,
          2.85022720087124,
          1.92030488414537,
          2.85163700902815
         ],
         "yaxis": "y"
        },
        {
         "hovertemplate": "<b>%{hovertext}</b><br><br>IncomeGroup=Lower middle income<br>net_migration=%{x}<br>2017 Aging %=%{y}<extra></extra>",
         "hovertext": [
          "Angola",
          "Benin",
          "Bangladesh",
          "Belize",
          "Bolivia",
          "Bhutan",
          "Cote d'Ivoire",
          "Cameroon",
          "Congo, Rep.",
          "Comoros",
          "Cabo Verde",
          "Djibouti",
          "Algeria",
          "Egypt, Arab Rep.",
          "Micronesia, Fed. Sts.",
          "Ghana",
          "Honduras",
          "Haiti",
          "Indonesia",
          "India",
          "Iran, Islamic Rep.",
          "Kenya",
          "Kyrgyz Republic",
          "Cambodia",
          "Kiribati",
          "Lao PDR",
          "Sri Lanka",
          "Lesotho",
          "Morocco",
          "Myanmar",
          "Mongolia",
          "Mauritania",
          "Nigeria",
          "Nicaragua",
          "Nepal",
          "Pakistan",
          "Philippines",
          "Papua New Guinea",
          "Senegal",
          "Solomon Islands",
          "El Salvador",
          "Sao Tome and Principe",
          "Eswatini",
          "Tajikistan",
          "Timor-Leste",
          "Tunisia",
          "Tanzania",
          "Ukraine",
          "Uzbekistan",
          "Vietnam",
          "Vanuatu",
          "Samoa",
          "Zambia",
          "Zimbabwe"
         ],
         "legendgroup": "Lower middle income",
         "marker": {
          "color": "#00cc96",
          "symbol": "square"
         },
         "mode": "markers",
         "name": "Lower middle income",
         "orientation": "v",
         "showlegend": true,
         "type": "scatter",
         "x": [
          32066,
          -10000,
          -1847503,
          6000,
          -47520,
          1600,
          -40000,
          -24000,
          -20000,
          -10000,
          -6709,
          4501,
          -50002,
          -190164,
          -2999,
          -50000,
          -34000,
          -175000,
          -494777,
          -2663434,
          -274998,
          -50000,
          -20000,
          -149999,
          -3999,
          -73518,
          -489932,
          -50234,
          -257096,
          -816564,
          -4262,
          25002,
          -300000,
          -106360,
          208549,
          -1166895,
          -335758,
          -3999,
          -100001,
          -7998,
          -202694,
          -8401,
          -41764,
          -99999,
          -26924,
          -20000,
          -200381,
          50001,
          -44314,
          -399999,
          600,
          -14013,
          -40000,
          -584288
         ],
         "xaxis": "x",
         "y": [
          2.23919656477835,
          3.2439514718218,
          5.14947500781286,
          4.61586772724733,
          7.04587882180194,
          5.9249184844205,
          2.84055591679499,
          2.73139707758745,
          2.64316301403234,
          2.96292382773144,
          4.5324819813283,
          4.45652415689456,
          6.17720487347554,
          5.18793195840207,
          3.80678096878673,
          3.04980535834993,
          4.56082731034521,
          4.83543345759921,
          5.68194834038824,
          5.98311331737929,
          6.03870523995975,
          2.25610560588208,
          4.41280746681642,
          4.41083740193033,
          3.82452390546436,
          3.99155189064919,
          10.1235931486662,
          4.87264371509141,
          6.7533480761148,
          5.56105787656383,
          3.99381974226874,
          3.13071356685355,
          2.74913596585596,
          5.05229100279004,
          5.6646874040199,
          4.31383605287132,
          4.93709669099723,
          3.37922236880715,
          3.07451900549666,
          3.57242244579342,
          8.10470864225283,
          2.90744559102608,
          4.0078947017483,
          2.98271403520705,
          4.35959390568973,
          8.05233384204566,
          2.58366125391209,
          16.1552261547116,
          4.26475960335778,
          7.03102794813837,
          3.67377675037652,
          4.68845980588886,
          2.08480693055531,
          2.8961911187331
         ],
         "yaxis": "y"
        },
        {
         "hovertemplate": "<b>%{hovertext}</b><br><br>IncomeGroup=Upper middle income<br>net_migration=%{x}<br>2017 Aging %=%{y}<extra></extra>",
         "hovertext": [
          "Albania",
          "Argentina",
          "Armenia",
          "Azerbaijan",
          "Bulgaria",
          "Bosnia and Herzegovina",
          "Belarus",
          "Brazil",
          "Botswana",
          "China",
          "Colombia",
          "Costa Rica",
          "Cuba",
          "Dominican Republic",
          "Ecuador",
          "Fiji",
          "Gabon",
          "Georgia",
          "Equatorial Guinea",
          "Grenada",
          "Guatemala",
          "Guyana",
          "Iraq",
          "Jamaica",
          "Jordan",
          "Kazakhstan",
          "Lebanon",
          "Libya",
          "Moldova",
          "Maldives",
          "Mexico",
          "North Macedonia",
          "Montenegro",
          "Malaysia",
          "Namibia",
          "Panama",
          "Peru",
          "Paraguay",
          "Romania",
          "Russian Federation",
          "Serbia",
          "Suriname",
          "Thailand",
          "Turkmenistan",
          "Tonga",
          "Turkey",
          "St. Vincent and the Grenadines",
          "South Africa"
         ],
         "legendgroup": "Upper middle income",
         "marker": {
          "color": "#ab63fa",
          "symbol": "x"
         },
         "mode": "markers",
         "name": "Upper middle income",
         "orientation": "v",
         "showlegend": true,
         "type": "scatter",
         "x": [
          -69998,
          24000,
          -24989,
          6002,
          -24001,
          -107926,
          43648,
          106000,
          14999,
          -1741996,
          1023981,
          21000,
          -72000,
          -150000,
          182000,
          -31008,
          16301,
          -50000,
          79998,
          -1000,
          -46073,
          -30001,
          39171,
          -56658,
          51099,
          -90000,
          -150060,
          -9997,
          -6935,
          56851,
          -300000,
          -4999,
          -2400,
          249999,
          -24030,
          56000,
          495345,
          -82780,
          -369997,
          912279,
          20000,
          -4999,
          97222,
          -25001,
          -3999,
          1419610,
          -1000,
          727026
         ],
         "xaxis": "x",
         "y": [
          13.329073296329,
          10.9897071133897,
          11.0966448892298,
          5.98968850174499,
          20.7576011862959,
          15.7497557082224,
          14.5751252006432,
          8.60549199443827,
          4.08683585176048,
          10.3451204570585,
          8.19908853104178,
          9.25051020676152,
          14.778079757275,
          6.87998520703305,
          6.9511403418729,
          5.29209911802147,
          3.58461718026194,
          14.6735263860049,
          2.48375200673216,
          9.60369428360121,
          4.69631929586632,
          6.20712518478578,
          3.23133991061807,
          8.69333152563913,
          3.81025937162491,
          7.1368232522322,
          6.74623605425308,
          4.32917411518854,
          10.909198844048,
          3.77838928932599,
          7.04077048486791,
          13.2498333330131,
          14.547702780438,
          6.4339520211868,
          3.66889158685492,
          7.90991653048905,
          7.81080245454995,
          6.24101052837597,
          17.8817265866248,
          14.2633149894054,
          17.8947516248703,
          6.8049556876823,
          11.4369639217331,
          4.27749642346457,
          5.96482283966352,
          8.25571138776413,
          9.45213836306191,
          5.21917862619865
         ],
         "yaxis": "y"
        }
       ],
       "layout": {
        "legend": {
         "title": {
          "text": "IncomeGroup"
         },
         "tracegroupgap": 0
        },
        "margin": {
         "t": 60
        },
        "template": {
         "data": {
          "bar": [
           {
            "error_x": {
             "color": "#2a3f5f"
            },
            "error_y": {
             "color": "#2a3f5f"
            },
            "marker": {
             "line": {
              "color": "#E5ECF6",
              "width": 0.5
             },
             "pattern": {
              "fillmode": "overlay",
              "size": 10,
              "solidity": 0.2
             }
            },
            "type": "bar"
           }
          ],
          "barpolar": [
           {
            "marker": {
             "line": {
              "color": "#E5ECF6",
              "width": 0.5
             },
             "pattern": {
              "fillmode": "overlay",
              "size": 10,
              "solidity": 0.2
             }
            },
            "type": "barpolar"
           }
          ],
          "carpet": [
           {
            "aaxis": {
             "endlinecolor": "#2a3f5f",
             "gridcolor": "white",
             "linecolor": "white",
             "minorgridcolor": "white",
             "startlinecolor": "#2a3f5f"
            },
            "baxis": {
             "endlinecolor": "#2a3f5f",
             "gridcolor": "white",
             "linecolor": "white",
             "minorgridcolor": "white",
             "startlinecolor": "#2a3f5f"
            },
            "type": "carpet"
           }
          ],
          "choropleth": [
           {
            "colorbar": {
             "outlinewidth": 0,
             "ticks": ""
            },
            "type": "choropleth"
           }
          ],
          "contour": [
           {
            "colorbar": {
             "outlinewidth": 0,
             "ticks": ""
            },
            "colorscale": [
             [
              0,
              "#0d0887"
             ],
             [
              0.1111111111111111,
              "#46039f"
             ],
             [
              0.2222222222222222,
              "#7201a8"
             ],
             [
              0.3333333333333333,
              "#9c179e"
             ],
             [
              0.4444444444444444,
              "#bd3786"
             ],
             [
              0.5555555555555556,
              "#d8576b"
             ],
             [
              0.6666666666666666,
              "#ed7953"
             ],
             [
              0.7777777777777778,
              "#fb9f3a"
             ],
             [
              0.8888888888888888,
              "#fdca26"
             ],
             [
              1,
              "#f0f921"
             ]
            ],
            "type": "contour"
           }
          ],
          "contourcarpet": [
           {
            "colorbar": {
             "outlinewidth": 0,
             "ticks": ""
            },
            "type": "contourcarpet"
           }
          ],
          "heatmap": [
           {
            "colorbar": {
             "outlinewidth": 0,
             "ticks": ""
            },
            "colorscale": [
             [
              0,
              "#0d0887"
             ],
             [
              0.1111111111111111,
              "#46039f"
             ],
             [
              0.2222222222222222,
              "#7201a8"
             ],
             [
              0.3333333333333333,
              "#9c179e"
             ],
             [
              0.4444444444444444,
              "#bd3786"
             ],
             [
              0.5555555555555556,
              "#d8576b"
             ],
             [
              0.6666666666666666,
              "#ed7953"
             ],
             [
              0.7777777777777778,
              "#fb9f3a"
             ],
             [
              0.8888888888888888,
              "#fdca26"
             ],
             [
              1,
              "#f0f921"
             ]
            ],
            "type": "heatmap"
           }
          ],
          "heatmapgl": [
           {
            "colorbar": {
             "outlinewidth": 0,
             "ticks": ""
            },
            "colorscale": [
             [
              0,
              "#0d0887"
             ],
             [
              0.1111111111111111,
              "#46039f"
             ],
             [
              0.2222222222222222,
              "#7201a8"
             ],
             [
              0.3333333333333333,
              "#9c179e"
             ],
             [
              0.4444444444444444,
              "#bd3786"
             ],
             [
              0.5555555555555556,
              "#d8576b"
             ],
             [
              0.6666666666666666,
              "#ed7953"
             ],
             [
              0.7777777777777778,
              "#fb9f3a"
             ],
             [
              0.8888888888888888,
              "#fdca26"
             ],
             [
              1,
              "#f0f921"
             ]
            ],
            "type": "heatmapgl"
           }
          ],
          "histogram": [
           {
            "marker": {
             "pattern": {
              "fillmode": "overlay",
              "size": 10,
              "solidity": 0.2
             }
            },
            "type": "histogram"
           }
          ],
          "histogram2d": [
           {
            "colorbar": {
             "outlinewidth": 0,
             "ticks": ""
            },
            "colorscale": [
             [
              0,
              "#0d0887"
             ],
             [
              0.1111111111111111,
              "#46039f"
             ],
             [
              0.2222222222222222,
              "#7201a8"
             ],
             [
              0.3333333333333333,
              "#9c179e"
             ],
             [
              0.4444444444444444,
              "#bd3786"
             ],
             [
              0.5555555555555556,
              "#d8576b"
             ],
             [
              0.6666666666666666,
              "#ed7953"
             ],
             [
              0.7777777777777778,
              "#fb9f3a"
             ],
             [
              0.8888888888888888,
              "#fdca26"
             ],
             [
              1,
              "#f0f921"
             ]
            ],
            "type": "histogram2d"
           }
          ],
          "histogram2dcontour": [
           {
            "colorbar": {
             "outlinewidth": 0,
             "ticks": ""
            },
            "colorscale": [
             [
              0,
              "#0d0887"
             ],
             [
              0.1111111111111111,
              "#46039f"
             ],
             [
              0.2222222222222222,
              "#7201a8"
             ],
             [
              0.3333333333333333,
              "#9c179e"
             ],
             [
              0.4444444444444444,
              "#bd3786"
             ],
             [
              0.5555555555555556,
              "#d8576b"
             ],
             [
              0.6666666666666666,
              "#ed7953"
             ],
             [
              0.7777777777777778,
              "#fb9f3a"
             ],
             [
              0.8888888888888888,
              "#fdca26"
             ],
             [
              1,
              "#f0f921"
             ]
            ],
            "type": "histogram2dcontour"
           }
          ],
          "mesh3d": [
           {
            "colorbar": {
             "outlinewidth": 0,
             "ticks": ""
            },
            "type": "mesh3d"
           }
          ],
          "parcoords": [
           {
            "line": {
             "colorbar": {
              "outlinewidth": 0,
              "ticks": ""
             }
            },
            "type": "parcoords"
           }
          ],
          "pie": [
           {
            "automargin": true,
            "type": "pie"
           }
          ],
          "scatter": [
           {
            "marker": {
             "colorbar": {
              "outlinewidth": 0,
              "ticks": ""
             }
            },
            "type": "scatter"
           }
          ],
          "scatter3d": [
           {
            "line": {
             "colorbar": {
              "outlinewidth": 0,
              "ticks": ""
             }
            },
            "marker": {
             "colorbar": {
              "outlinewidth": 0,
              "ticks": ""
             }
            },
            "type": "scatter3d"
           }
          ],
          "scattercarpet": [
           {
            "marker": {
             "colorbar": {
              "outlinewidth": 0,
              "ticks": ""
             }
            },
            "type": "scattercarpet"
           }
          ],
          "scattergeo": [
           {
            "marker": {
             "colorbar": {
              "outlinewidth": 0,
              "ticks": ""
             }
            },
            "type": "scattergeo"
           }
          ],
          "scattergl": [
           {
            "marker": {
             "colorbar": {
              "outlinewidth": 0,
              "ticks": ""
             }
            },
            "type": "scattergl"
           }
          ],
          "scattermapbox": [
           {
            "marker": {
             "colorbar": {
              "outlinewidth": 0,
              "ticks": ""
             }
            },
            "type": "scattermapbox"
           }
          ],
          "scatterpolar": [
           {
            "marker": {
             "colorbar": {
              "outlinewidth": 0,
              "ticks": ""
             }
            },
            "type": "scatterpolar"
           }
          ],
          "scatterpolargl": [
           {
            "marker": {
             "colorbar": {
              "outlinewidth": 0,
              "ticks": ""
             }
            },
            "type": "scatterpolargl"
           }
          ],
          "scatterternary": [
           {
            "marker": {
             "colorbar": {
              "outlinewidth": 0,
              "ticks": ""
             }
            },
            "type": "scatterternary"
           }
          ],
          "surface": [
           {
            "colorbar": {
             "outlinewidth": 0,
             "ticks": ""
            },
            "colorscale": [
             [
              0,
              "#0d0887"
             ],
             [
              0.1111111111111111,
              "#46039f"
             ],
             [
              0.2222222222222222,
              "#7201a8"
             ],
             [
              0.3333333333333333,
              "#9c179e"
             ],
             [
              0.4444444444444444,
              "#bd3786"
             ],
             [
              0.5555555555555556,
              "#d8576b"
             ],
             [
              0.6666666666666666,
              "#ed7953"
             ],
             [
              0.7777777777777778,
              "#fb9f3a"
             ],
             [
              0.8888888888888888,
              "#fdca26"
             ],
             [
              1,
              "#f0f921"
             ]
            ],
            "type": "surface"
           }
          ],
          "table": [
           {
            "cells": {
             "fill": {
              "color": "#EBF0F8"
             },
             "line": {
              "color": "white"
             }
            },
            "header": {
             "fill": {
              "color": "#C8D4E3"
             },
             "line": {
              "color": "white"
             }
            },
            "type": "table"
           }
          ]
         },
         "layout": {
          "annotationdefaults": {
           "arrowcolor": "#2a3f5f",
           "arrowhead": 0,
           "arrowwidth": 1
          },
          "autotypenumbers": "strict",
          "coloraxis": {
           "colorbar": {
            "outlinewidth": 0,
            "ticks": ""
           }
          },
          "colorscale": {
           "diverging": [
            [
             0,
             "#8e0152"
            ],
            [
             0.1,
             "#c51b7d"
            ],
            [
             0.2,
             "#de77ae"
            ],
            [
             0.3,
             "#f1b6da"
            ],
            [
             0.4,
             "#fde0ef"
            ],
            [
             0.5,
             "#f7f7f7"
            ],
            [
             0.6,
             "#e6f5d0"
            ],
            [
             0.7,
             "#b8e186"
            ],
            [
             0.8,
             "#7fbc41"
            ],
            [
             0.9,
             "#4d9221"
            ],
            [
             1,
             "#276419"
            ]
           ],
           "sequential": [
            [
             0,
             "#0d0887"
            ],
            [
             0.1111111111111111,
             "#46039f"
            ],
            [
             0.2222222222222222,
             "#7201a8"
            ],
            [
             0.3333333333333333,
             "#9c179e"
            ],
            [
             0.4444444444444444,
             "#bd3786"
            ],
            [
             0.5555555555555556,
             "#d8576b"
            ],
            [
             0.6666666666666666,
             "#ed7953"
            ],
            [
             0.7777777777777778,
             "#fb9f3a"
            ],
            [
             0.8888888888888888,
             "#fdca26"
            ],
            [
             1,
             "#f0f921"
            ]
           ],
           "sequentialminus": [
            [
             0,
             "#0d0887"
            ],
            [
             0.1111111111111111,
             "#46039f"
            ],
            [
             0.2222222222222222,
             "#7201a8"
            ],
            [
             0.3333333333333333,
             "#9c179e"
            ],
            [
             0.4444444444444444,
             "#bd3786"
            ],
            [
             0.5555555555555556,
             "#d8576b"
            ],
            [
             0.6666666666666666,
             "#ed7953"
            ],
            [
             0.7777777777777778,
             "#fb9f3a"
            ],
            [
             0.8888888888888888,
             "#fdca26"
            ],
            [
             1,
             "#f0f921"
            ]
           ]
          },
          "colorway": [
           "#636efa",
           "#EF553B",
           "#00cc96",
           "#ab63fa",
           "#FFA15A",
           "#19d3f3",
           "#FF6692",
           "#B6E880",
           "#FF97FF",
           "#FECB52"
          ],
          "font": {
           "color": "#2a3f5f"
          },
          "geo": {
           "bgcolor": "white",
           "lakecolor": "white",
           "landcolor": "#E5ECF6",
           "showlakes": true,
           "showland": true,
           "subunitcolor": "white"
          },
          "hoverlabel": {
           "align": "left"
          },
          "hovermode": "closest",
          "mapbox": {
           "style": "light"
          },
          "paper_bgcolor": "white",
          "plot_bgcolor": "#E5ECF6",
          "polar": {
           "angularaxis": {
            "gridcolor": "white",
            "linecolor": "white",
            "ticks": ""
           },
           "bgcolor": "#E5ECF6",
           "radialaxis": {
            "gridcolor": "white",
            "linecolor": "white",
            "ticks": ""
           }
          },
          "scene": {
           "xaxis": {
            "backgroundcolor": "#E5ECF6",
            "gridcolor": "white",
            "gridwidth": 2,
            "linecolor": "white",
            "showbackground": true,
            "ticks": "",
            "zerolinecolor": "white"
           },
           "yaxis": {
            "backgroundcolor": "#E5ECF6",
            "gridcolor": "white",
            "gridwidth": 2,
            "linecolor": "white",
            "showbackground": true,
            "ticks": "",
            "zerolinecolor": "white"
           },
           "zaxis": {
            "backgroundcolor": "#E5ECF6",
            "gridcolor": "white",
            "gridwidth": 2,
            "linecolor": "white",
            "showbackground": true,
            "ticks": "",
            "zerolinecolor": "white"
           }
          },
          "shapedefaults": {
           "line": {
            "color": "#2a3f5f"
           }
          },
          "ternary": {
           "aaxis": {
            "gridcolor": "white",
            "linecolor": "white",
            "ticks": ""
           },
           "baxis": {
            "gridcolor": "white",
            "linecolor": "white",
            "ticks": ""
           },
           "bgcolor": "#E5ECF6",
           "caxis": {
            "gridcolor": "white",
            "linecolor": "white",
            "ticks": ""
           }
          },
          "title": {
           "x": 0.05
          },
          "xaxis": {
           "automargin": true,
           "gridcolor": "white",
           "linecolor": "white",
           "ticks": "",
           "title": {
            "standoff": 15
           },
           "zerolinecolor": "white",
           "zerolinewidth": 2
          },
          "yaxis": {
           "automargin": true,
           "gridcolor": "white",
           "linecolor": "white",
           "ticks": "",
           "title": {
            "standoff": 15
           },
           "zerolinecolor": "white",
           "zerolinewidth": 2
          }
         }
        },
        "title": {
         "text": "Migration Vs Aging 2017"
        },
        "xaxis": {
         "anchor": "y",
         "domain": [
          0,
          1
         ],
         "title": {
          "text": "net_migration"
         }
        },
        "yaxis": {
         "anchor": "x",
         "domain": [
          0,
          1
         ],
         "tickfont": {
          "size": 15
         },
         "title": {
          "text": "2017 Aging %"
         }
        }
       }
      },
      "text/html": [
       "<div>                            <div id=\"7ad61c1b-4773-48db-871f-270a6364cfa5\" class=\"plotly-graph-div\" style=\"height:525px; width:100%;\"></div>            <script type=\"text/javascript\">                require([\"plotly\"], function(Plotly) {                    window.PLOTLYENV=window.PLOTLYENV || {};                                    if (document.getElementById(\"7ad61c1b-4773-48db-871f-270a6364cfa5\")) {                    Plotly.newPlot(                        \"7ad61c1b-4773-48db-871f-270a6364cfa5\",                        [{\"hovertemplate\":\"<b>%{hovertext}</b><br><br>IncomeGroup=High income<br>net_migration=%{x}<br>2017 Aging %=%{y}<extra></extra>\",\"hovertext\":[\"Aruba\",\"United Arab Emirates\",\"Australia\",\"Austria\",\"Belgium\",\"Bahrain\",\"Bahamas, The\",\"Barbados\",\"Canada\",\"Switzerland\",\"Chile\",\"Curacao\",\"Cyprus\",\"Czech Republic\",\"Germany\",\"Denmark\",\"Spain\",\"Estonia\",\"Finland\",\"France\",\"United Kingdom\",\"Greece\",\"Guam\",\"Croatia\",\"Hungary\",\"Ireland\",\"Iceland\",\"Italy\",\"Japan\",\"Korea, Rep.\",\"Kuwait\",\"Lithuania\",\"Luxembourg\",\"Latvia\",\"Malta\",\"New Caledonia\",\"Netherlands\",\"Norway\",\"New Zealand\",\"Oman\",\"Poland\",\"Puerto Rico\",\"Portugal\",\"French Polynesia\",\"Qatar\",\"Saudi Arabia\",\"Singapore\",\"Slovak Republic\",\"Slovenia\",\"Sweden\",\"Seychelles\",\"Trinidad and Tobago\",\"Uruguay\",\"United States\",\"Virgin Islands (U.S.)\"],\"legendgroup\":\"High income\",\"marker\":{\"color\":\"#636efa\",\"symbol\":\"circle\"},\"mode\":\"markers\",\"name\":\"High income\",\"orientation\":\"v\",\"showlegend\":true,\"x\":[1004.0,200000.0,791229.0,324998.0,240000.0,239000.0,4999.0,-397.0,1210159.0,259999.0,558539.0,2573.0,25000.0,110057.0,2719112.0,75998.0,200000.0,19555.0,70000.0,182636.0,1303250.0,-80000.0,-2532.0,-40004.0,29999.0,118020.0,1900.0,744713.0,357800.0,58657.0,197600.0,-163902.0,48704.0,-74186.0,4501.0,2510.0,80000.0,140000.0,74403.0,437000.0,-146976.0,-489932.0,-30001.0,-5000.0,200000.0,674895.0,135142.0,7423.0,9999.0,200000.0,-1000.0,-3999.0,-15000.0,4774029.0,-2254.0],\"xaxis\":\"x\",\"y\":[13.0734772127631,1.03467797621702,15.4040208878559,18.9565733220815,18.5840790882601,2.37230234606539,7.06054930518264,15.4109254031695,16.8424915594931,18.4308671298436,11.1918942478844,16.214497799342,13.4153557157123,18.9967065230691,21.3714880478767,19.6594928993276,19.1458487271796,19.3131674485937,21.2787526007594,19.6689967687709,18.2911350395904,21.3993537979744,9.51296863301295,20.0223913942074,18.5778610772262,13.5066550900967,14.4255412045109,22.4996889509015,27.1094794248515,13.8522477555421,2.38246157206715,19.3009523394487,14.1067054112956,19.833304033577,19.887288694846,8.93162547357027,18.7921320210439,16.8349720164506,15.3294510418257,2.34472113585979,16.9312953486375,17.7453252823385,21.5577020889385,7.90939580300034,1.23212298622101,3.20753529655243,10.5798994786478,15.0810220451917,19.0233163840774,19.9914163662092,7.42911074695596,10.3645870587887,14.7002261801567,15.4193658960742,18.7224942959972],\"yaxis\":\"y\",\"type\":\"scatter\"},{\"hovertemplate\":\"<b>%{hovertext}</b><br><br>IncomeGroup=Low income<br>net_migration=%{x}<br>2017 Aging %=%{y}<extra></extra>\",\"hovertext\":[\"Afghanistan\",\"Burundi\",\"Burkina Faso\",\"Central African Republic\",\"Congo, Dem. Rep.\",\"Ethiopia\",\"Guinea\",\"Gambia, The\",\"Guinea-Bissau\",\"Liberia\",\"Madagascar\",\"Mali\",\"Mozambique\",\"Malawi\",\"Niger\",\"Korea, Dem. People's Rep.\",\"Rwanda\",\"Sudan\",\"Sierra Leone\",\"Somalia\",\"South Sudan\",\"Syrian Arab Republic\",\"Chad\",\"Togo\",\"Uganda\",\"Yemen, Rep.\"],\"legendgroup\":\"Low income\",\"marker\":{\"color\":\"#EF553B\",\"symbol\":\"diamond\"},\"mode\":\"markers\",\"name\":\"Low income\",\"orientation\":\"v\",\"showlegend\":true,\"x\":[-314602.0,10003.0,-125000.0,-200000.0,119303.0,150002.0,-20000.0,-15436.0,-6996.0,-25000.0,-7500.0,-200000.0,-25000.0,-80263.0,20001.0,-27013.0,-44998.0,-250001.0,-21000.0,-200002.0,-870998.0,-2136954.0,10000.0,-9999.0,843469.0,-150000.0],\"xaxis\":\"x\",\"y\":[2.5542514703985,2.18676073257099,2.40863004119056,2.83160027702211,3.01976452615423,3.4878304988263,2.90681953763653,2.61688819990524,2.77155258472386,3.22270771332556,2.93018379921372,2.51491565396871,2.89833319941368,2.64901419316458,2.59076059297535,9.51172884595156,2.84976305323087,3.53520683416771,2.98184277250364,2.85368354175379,3.41576478198637,4.31835461571047,2.46671833784574,2.85022720087124,1.92030488414537,2.85163700902815],\"yaxis\":\"y\",\"type\":\"scatter\"},{\"hovertemplate\":\"<b>%{hovertext}</b><br><br>IncomeGroup=Lower middle income<br>net_migration=%{x}<br>2017 Aging %=%{y}<extra></extra>\",\"hovertext\":[\"Angola\",\"Benin\",\"Bangladesh\",\"Belize\",\"Bolivia\",\"Bhutan\",\"Cote d'Ivoire\",\"Cameroon\",\"Congo, Rep.\",\"Comoros\",\"Cabo Verde\",\"Djibouti\",\"Algeria\",\"Egypt, Arab Rep.\",\"Micronesia, Fed. Sts.\",\"Ghana\",\"Honduras\",\"Haiti\",\"Indonesia\",\"India\",\"Iran, Islamic Rep.\",\"Kenya\",\"Kyrgyz Republic\",\"Cambodia\",\"Kiribati\",\"Lao PDR\",\"Sri Lanka\",\"Lesotho\",\"Morocco\",\"Myanmar\",\"Mongolia\",\"Mauritania\",\"Nigeria\",\"Nicaragua\",\"Nepal\",\"Pakistan\",\"Philippines\",\"Papua New Guinea\",\"Senegal\",\"Solomon Islands\",\"El Salvador\",\"Sao Tome and Principe\",\"Eswatini\",\"Tajikistan\",\"Timor-Leste\",\"Tunisia\",\"Tanzania\",\"Ukraine\",\"Uzbekistan\",\"Vietnam\",\"Vanuatu\",\"Samoa\",\"Zambia\",\"Zimbabwe\"],\"legendgroup\":\"Lower middle income\",\"marker\":{\"color\":\"#00cc96\",\"symbol\":\"square\"},\"mode\":\"markers\",\"name\":\"Lower middle income\",\"orientation\":\"v\",\"showlegend\":true,\"x\":[32066.0,-10000.0,-1847503.0,6000.0,-47520.0,1600.0,-40000.0,-24000.0,-20000.0,-10000.0,-6709.0,4501.0,-50002.0,-190164.0,-2999.0,-50000.0,-34000.0,-175000.0,-494777.0,-2663434.0,-274998.0,-50000.0,-20000.0,-149999.0,-3999.0,-73518.0,-489932.0,-50234.0,-257096.0,-816564.0,-4262.0,25002.0,-300000.0,-106360.0,208549.0,-1166895.0,-335758.0,-3999.0,-100001.0,-7998.0,-202694.0,-8401.0,-41764.0,-99999.0,-26924.0,-20000.0,-200381.0,50001.0,-44314.0,-399999.0,600.0,-14013.0,-40000.0,-584288.0],\"xaxis\":\"x\",\"y\":[2.23919656477835,3.2439514718218,5.14947500781286,4.61586772724733,7.04587882180194,5.9249184844205,2.84055591679499,2.73139707758745,2.64316301403234,2.96292382773144,4.5324819813283,4.45652415689456,6.17720487347554,5.18793195840207,3.80678096878673,3.04980535834993,4.56082731034521,4.83543345759921,5.68194834038824,5.98311331737929,6.03870523995975,2.25610560588208,4.41280746681642,4.41083740193033,3.82452390546436,3.99155189064919,10.1235931486662,4.87264371509141,6.7533480761148,5.56105787656383,3.99381974226874,3.13071356685355,2.74913596585596,5.05229100279004,5.6646874040199,4.31383605287132,4.93709669099723,3.37922236880715,3.07451900549666,3.57242244579342,8.10470864225283,2.90744559102608,4.0078947017483,2.98271403520705,4.35959390568973,8.05233384204566,2.58366125391209,16.1552261547116,4.26475960335778,7.03102794813837,3.67377675037652,4.68845980588886,2.08480693055531,2.8961911187331],\"yaxis\":\"y\",\"type\":\"scatter\"},{\"hovertemplate\":\"<b>%{hovertext}</b><br><br>IncomeGroup=Upper middle income<br>net_migration=%{x}<br>2017 Aging %=%{y}<extra></extra>\",\"hovertext\":[\"Albania\",\"Argentina\",\"Armenia\",\"Azerbaijan\",\"Bulgaria\",\"Bosnia and Herzegovina\",\"Belarus\",\"Brazil\",\"Botswana\",\"China\",\"Colombia\",\"Costa Rica\",\"Cuba\",\"Dominican Republic\",\"Ecuador\",\"Fiji\",\"Gabon\",\"Georgia\",\"Equatorial Guinea\",\"Grenada\",\"Guatemala\",\"Guyana\",\"Iraq\",\"Jamaica\",\"Jordan\",\"Kazakhstan\",\"Lebanon\",\"Libya\",\"Moldova\",\"Maldives\",\"Mexico\",\"North Macedonia\",\"Montenegro\",\"Malaysia\",\"Namibia\",\"Panama\",\"Peru\",\"Paraguay\",\"Romania\",\"Russian Federation\",\"Serbia\",\"Suriname\",\"Thailand\",\"Turkmenistan\",\"Tonga\",\"Turkey\",\"St. Vincent and the Grenadines\",\"South Africa\"],\"legendgroup\":\"Upper middle income\",\"marker\":{\"color\":\"#ab63fa\",\"symbol\":\"x\"},\"mode\":\"markers\",\"name\":\"Upper middle income\",\"orientation\":\"v\",\"showlegend\":true,\"x\":[-69998.0,24000.0,-24989.0,6002.0,-24001.0,-107926.0,43648.0,106000.0,14999.0,-1741996.0,1023981.0,21000.0,-72000.0,-150000.0,182000.0,-31008.0,16301.0,-50000.0,79998.0,-1000.0,-46073.0,-30001.0,39171.0,-56658.0,51099.0,-90000.0,-150060.0,-9997.0,-6935.0,56851.0,-300000.0,-4999.0,-2400.0,249999.0,-24030.0,56000.0,495345.0,-82780.0,-369997.0,912279.0,20000.0,-4999.0,97222.0,-25001.0,-3999.0,1419610.0,-1000.0,727026.0],\"xaxis\":\"x\",\"y\":[13.329073296329,10.9897071133897,11.0966448892298,5.98968850174499,20.7576011862959,15.7497557082224,14.5751252006432,8.60549199443827,4.08683585176048,10.3451204570585,8.19908853104178,9.25051020676152,14.778079757275,6.87998520703305,6.9511403418729,5.29209911802147,3.58461718026194,14.6735263860049,2.48375200673216,9.60369428360121,4.69631929586632,6.20712518478578,3.23133991061807,8.69333152563913,3.81025937162491,7.1368232522322,6.74623605425308,4.32917411518854,10.909198844048,3.77838928932599,7.04077048486791,13.2498333330131,14.547702780438,6.4339520211868,3.66889158685492,7.90991653048905,7.81080245454995,6.24101052837597,17.8817265866248,14.2633149894054,17.8947516248703,6.8049556876823,11.4369639217331,4.27749642346457,5.96482283966352,8.25571138776413,9.45213836306191,5.21917862619865],\"yaxis\":\"y\",\"type\":\"scatter\"}],                        {\"template\":{\"data\":{\"bar\":[{\"error_x\":{\"color\":\"#2a3f5f\"},\"error_y\":{\"color\":\"#2a3f5f\"},\"marker\":{\"line\":{\"color\":\"#E5ECF6\",\"width\":0.5},\"pattern\":{\"fillmode\":\"overlay\",\"size\":10,\"solidity\":0.2}},\"type\":\"bar\"}],\"barpolar\":[{\"marker\":{\"line\":{\"color\":\"#E5ECF6\",\"width\":0.5},\"pattern\":{\"fillmode\":\"overlay\",\"size\":10,\"solidity\":0.2}},\"type\":\"barpolar\"}],\"carpet\":[{\"aaxis\":{\"endlinecolor\":\"#2a3f5f\",\"gridcolor\":\"white\",\"linecolor\":\"white\",\"minorgridcolor\":\"white\",\"startlinecolor\":\"#2a3f5f\"},\"baxis\":{\"endlinecolor\":\"#2a3f5f\",\"gridcolor\":\"white\",\"linecolor\":\"white\",\"minorgridcolor\":\"white\",\"startlinecolor\":\"#2a3f5f\"},\"type\":\"carpet\"}],\"choropleth\":[{\"colorbar\":{\"outlinewidth\":0,\"ticks\":\"\"},\"type\":\"choropleth\"}],\"contour\":[{\"colorbar\":{\"outlinewidth\":0,\"ticks\":\"\"},\"colorscale\":[[0.0,\"#0d0887\"],[0.1111111111111111,\"#46039f\"],[0.2222222222222222,\"#7201a8\"],[0.3333333333333333,\"#9c179e\"],[0.4444444444444444,\"#bd3786\"],[0.5555555555555556,\"#d8576b\"],[0.6666666666666666,\"#ed7953\"],[0.7777777777777778,\"#fb9f3a\"],[0.8888888888888888,\"#fdca26\"],[1.0,\"#f0f921\"]],\"type\":\"contour\"}],\"contourcarpet\":[{\"colorbar\":{\"outlinewidth\":0,\"ticks\":\"\"},\"type\":\"contourcarpet\"}],\"heatmap\":[{\"colorbar\":{\"outlinewidth\":0,\"ticks\":\"\"},\"colorscale\":[[0.0,\"#0d0887\"],[0.1111111111111111,\"#46039f\"],[0.2222222222222222,\"#7201a8\"],[0.3333333333333333,\"#9c179e\"],[0.4444444444444444,\"#bd3786\"],[0.5555555555555556,\"#d8576b\"],[0.6666666666666666,\"#ed7953\"],[0.7777777777777778,\"#fb9f3a\"],[0.8888888888888888,\"#fdca26\"],[1.0,\"#f0f921\"]],\"type\":\"heatmap\"}],\"heatmapgl\":[{\"colorbar\":{\"outlinewidth\":0,\"ticks\":\"\"},\"colorscale\":[[0.0,\"#0d0887\"],[0.1111111111111111,\"#46039f\"],[0.2222222222222222,\"#7201a8\"],[0.3333333333333333,\"#9c179e\"],[0.4444444444444444,\"#bd3786\"],[0.5555555555555556,\"#d8576b\"],[0.6666666666666666,\"#ed7953\"],[0.7777777777777778,\"#fb9f3a\"],[0.8888888888888888,\"#fdca26\"],[1.0,\"#f0f921\"]],\"type\":\"heatmapgl\"}],\"histogram\":[{\"marker\":{\"pattern\":{\"fillmode\":\"overlay\",\"size\":10,\"solidity\":0.2}},\"type\":\"histogram\"}],\"histogram2d\":[{\"colorbar\":{\"outlinewidth\":0,\"ticks\":\"\"},\"colorscale\":[[0.0,\"#0d0887\"],[0.1111111111111111,\"#46039f\"],[0.2222222222222222,\"#7201a8\"],[0.3333333333333333,\"#9c179e\"],[0.4444444444444444,\"#bd3786\"],[0.5555555555555556,\"#d8576b\"],[0.6666666666666666,\"#ed7953\"],[0.7777777777777778,\"#fb9f3a\"],[0.8888888888888888,\"#fdca26\"],[1.0,\"#f0f921\"]],\"type\":\"histogram2d\"}],\"histogram2dcontour\":[{\"colorbar\":{\"outlinewidth\":0,\"ticks\":\"\"},\"colorscale\":[[0.0,\"#0d0887\"],[0.1111111111111111,\"#46039f\"],[0.2222222222222222,\"#7201a8\"],[0.3333333333333333,\"#9c179e\"],[0.4444444444444444,\"#bd3786\"],[0.5555555555555556,\"#d8576b\"],[0.6666666666666666,\"#ed7953\"],[0.7777777777777778,\"#fb9f3a\"],[0.8888888888888888,\"#fdca26\"],[1.0,\"#f0f921\"]],\"type\":\"histogram2dcontour\"}],\"mesh3d\":[{\"colorbar\":{\"outlinewidth\":0,\"ticks\":\"\"},\"type\":\"mesh3d\"}],\"parcoords\":[{\"line\":{\"colorbar\":{\"outlinewidth\":0,\"ticks\":\"\"}},\"type\":\"parcoords\"}],\"pie\":[{\"automargin\":true,\"type\":\"pie\"}],\"scatter\":[{\"marker\":{\"colorbar\":{\"outlinewidth\":0,\"ticks\":\"\"}},\"type\":\"scatter\"}],\"scatter3d\":[{\"line\":{\"colorbar\":{\"outlinewidth\":0,\"ticks\":\"\"}},\"marker\":{\"colorbar\":{\"outlinewidth\":0,\"ticks\":\"\"}},\"type\":\"scatter3d\"}],\"scattercarpet\":[{\"marker\":{\"colorbar\":{\"outlinewidth\":0,\"ticks\":\"\"}},\"type\":\"scattercarpet\"}],\"scattergeo\":[{\"marker\":{\"colorbar\":{\"outlinewidth\":0,\"ticks\":\"\"}},\"type\":\"scattergeo\"}],\"scattergl\":[{\"marker\":{\"colorbar\":{\"outlinewidth\":0,\"ticks\":\"\"}},\"type\":\"scattergl\"}],\"scattermapbox\":[{\"marker\":{\"colorbar\":{\"outlinewidth\":0,\"ticks\":\"\"}},\"type\":\"scattermapbox\"}],\"scatterpolar\":[{\"marker\":{\"colorbar\":{\"outlinewidth\":0,\"ticks\":\"\"}},\"type\":\"scatterpolar\"}],\"scatterpolargl\":[{\"marker\":{\"colorbar\":{\"outlinewidth\":0,\"ticks\":\"\"}},\"type\":\"scatterpolargl\"}],\"scatterternary\":[{\"marker\":{\"colorbar\":{\"outlinewidth\":0,\"ticks\":\"\"}},\"type\":\"scatterternary\"}],\"surface\":[{\"colorbar\":{\"outlinewidth\":0,\"ticks\":\"\"},\"colorscale\":[[0.0,\"#0d0887\"],[0.1111111111111111,\"#46039f\"],[0.2222222222222222,\"#7201a8\"],[0.3333333333333333,\"#9c179e\"],[0.4444444444444444,\"#bd3786\"],[0.5555555555555556,\"#d8576b\"],[0.6666666666666666,\"#ed7953\"],[0.7777777777777778,\"#fb9f3a\"],[0.8888888888888888,\"#fdca26\"],[1.0,\"#f0f921\"]],\"type\":\"surface\"}],\"table\":[{\"cells\":{\"fill\":{\"color\":\"#EBF0F8\"},\"line\":{\"color\":\"white\"}},\"header\":{\"fill\":{\"color\":\"#C8D4E3\"},\"line\":{\"color\":\"white\"}},\"type\":\"table\"}]},\"layout\":{\"annotationdefaults\":{\"arrowcolor\":\"#2a3f5f\",\"arrowhead\":0,\"arrowwidth\":1},\"autotypenumbers\":\"strict\",\"coloraxis\":{\"colorbar\":{\"outlinewidth\":0,\"ticks\":\"\"}},\"colorscale\":{\"diverging\":[[0,\"#8e0152\"],[0.1,\"#c51b7d\"],[0.2,\"#de77ae\"],[0.3,\"#f1b6da\"],[0.4,\"#fde0ef\"],[0.5,\"#f7f7f7\"],[0.6,\"#e6f5d0\"],[0.7,\"#b8e186\"],[0.8,\"#7fbc41\"],[0.9,\"#4d9221\"],[1,\"#276419\"]],\"sequential\":[[0.0,\"#0d0887\"],[0.1111111111111111,\"#46039f\"],[0.2222222222222222,\"#7201a8\"],[0.3333333333333333,\"#9c179e\"],[0.4444444444444444,\"#bd3786\"],[0.5555555555555556,\"#d8576b\"],[0.6666666666666666,\"#ed7953\"],[0.7777777777777778,\"#fb9f3a\"],[0.8888888888888888,\"#fdca26\"],[1.0,\"#f0f921\"]],\"sequentialminus\":[[0.0,\"#0d0887\"],[0.1111111111111111,\"#46039f\"],[0.2222222222222222,\"#7201a8\"],[0.3333333333333333,\"#9c179e\"],[0.4444444444444444,\"#bd3786\"],[0.5555555555555556,\"#d8576b\"],[0.6666666666666666,\"#ed7953\"],[0.7777777777777778,\"#fb9f3a\"],[0.8888888888888888,\"#fdca26\"],[1.0,\"#f0f921\"]]},\"colorway\":[\"#636efa\",\"#EF553B\",\"#00cc96\",\"#ab63fa\",\"#FFA15A\",\"#19d3f3\",\"#FF6692\",\"#B6E880\",\"#FF97FF\",\"#FECB52\"],\"font\":{\"color\":\"#2a3f5f\"},\"geo\":{\"bgcolor\":\"white\",\"lakecolor\":\"white\",\"landcolor\":\"#E5ECF6\",\"showlakes\":true,\"showland\":true,\"subunitcolor\":\"white\"},\"hoverlabel\":{\"align\":\"left\"},\"hovermode\":\"closest\",\"mapbox\":{\"style\":\"light\"},\"paper_bgcolor\":\"white\",\"plot_bgcolor\":\"#E5ECF6\",\"polar\":{\"angularaxis\":{\"gridcolor\":\"white\",\"linecolor\":\"white\",\"ticks\":\"\"},\"bgcolor\":\"#E5ECF6\",\"radialaxis\":{\"gridcolor\":\"white\",\"linecolor\":\"white\",\"ticks\":\"\"}},\"scene\":{\"xaxis\":{\"backgroundcolor\":\"#E5ECF6\",\"gridcolor\":\"white\",\"gridwidth\":2,\"linecolor\":\"white\",\"showbackground\":true,\"ticks\":\"\",\"zerolinecolor\":\"white\"},\"yaxis\":{\"backgroundcolor\":\"#E5ECF6\",\"gridcolor\":\"white\",\"gridwidth\":2,\"linecolor\":\"white\",\"showbackground\":true,\"ticks\":\"\",\"zerolinecolor\":\"white\"},\"zaxis\":{\"backgroundcolor\":\"#E5ECF6\",\"gridcolor\":\"white\",\"gridwidth\":2,\"linecolor\":\"white\",\"showbackground\":true,\"ticks\":\"\",\"zerolinecolor\":\"white\"}},\"shapedefaults\":{\"line\":{\"color\":\"#2a3f5f\"}},\"ternary\":{\"aaxis\":{\"gridcolor\":\"white\",\"linecolor\":\"white\",\"ticks\":\"\"},\"baxis\":{\"gridcolor\":\"white\",\"linecolor\":\"white\",\"ticks\":\"\"},\"bgcolor\":\"#E5ECF6\",\"caxis\":{\"gridcolor\":\"white\",\"linecolor\":\"white\",\"ticks\":\"\"}},\"title\":{\"x\":0.05},\"xaxis\":{\"automargin\":true,\"gridcolor\":\"white\",\"linecolor\":\"white\",\"ticks\":\"\",\"title\":{\"standoff\":15},\"zerolinecolor\":\"white\",\"zerolinewidth\":2},\"yaxis\":{\"automargin\":true,\"gridcolor\":\"white\",\"linecolor\":\"white\",\"ticks\":\"\",\"title\":{\"standoff\":15},\"zerolinecolor\":\"white\",\"zerolinewidth\":2}}},\"xaxis\":{\"anchor\":\"y\",\"domain\":[0.0,1.0],\"title\":{\"text\":\"net_migration\"}},\"yaxis\":{\"anchor\":\"x\",\"domain\":[0.0,1.0],\"title\":{\"text\":\"2017 Aging %\"},\"tickfont\":{\"size\":15}},\"legend\":{\"title\":{\"text\":\"IncomeGroup\"},\"tracegroupgap\":0},\"margin\":{\"t\":60},\"title\":{\"text\":\"Migration Vs Aging 2017\"}},                        {\"responsive\": true}                    ).then(function(){\n",
       "                            \n",
       "var gd = document.getElementById('7ad61c1b-4773-48db-871f-270a6364cfa5');\n",
       "var x = new MutationObserver(function (mutations, observer) {{\n",
       "        var display = window.getComputedStyle(gd).display;\n",
       "        if (!display || display === 'none') {{\n",
       "            console.log([gd, 'removed!']);\n",
       "            Plotly.purge(gd);\n",
       "            observer.disconnect();\n",
       "        }}\n",
       "}});\n",
       "\n",
       "// Listen for the removal of the full notebook cells\n",
       "var notebookContainer = gd.closest('#notebook-container');\n",
       "if (notebookContainer) {{\n",
       "    x.observe(notebookContainer, {childList: true});\n",
       "}}\n",
       "\n",
       "// Listen for the clearing of the current output cell\n",
       "var outputEl = gd.closest('.output');\n",
       "if (outputEl) {{\n",
       "    x.observe(outputEl, {childList: true});\n",
       "}}\n",
       "\n",
       "                        })                };                });            </script>        </div>"
      ]
     },
     "metadata": {},
     "output_type": "display_data"
    }
   ],
   "source": [
    "fig3 = ploting_scatter(df_overall_2017,'net_migration','2017 Aging %','IncomeGroup','IncomeGroup',\n",
    "                        'Country Name','Migration Vs Aging 2017')"
   ]
  },
  {
   "cell_type": "markdown",
   "id": "53e55a58",
   "metadata": {},
   "source": [
    "## Find Singapore rating"
   ]
  },
  {
   "cell_type": "code",
   "execution_count": 239,
   "id": "bfab9dbd",
   "metadata": {},
   "outputs": [],
   "source": [
    "# sorting function based on dateset\n",
    "def sorting(dateframe,columnname,countryname,sortmethod):\n",
    "    dateframe = dateframe.sort_values(sortmethod, ascending= False)\n",
    "    dateframe = dateframe.reset_index()\n",
    "    dateframe = dateframe.loc[dateframe[columnname] == countryname]\n",
    "    print(dateframe)"
   ]
  },
  {
   "cell_type": "code",
   "execution_count": 240,
   "id": "c2df66dc",
   "metadata": {},
   "outputs": [
    {
     "name": "stdout",
     "output_type": "stream",
     "text": [
      "     index Country Name  2017 Population  2017 Aging %  BirthRate 2017  \\\n",
      "110    152    Singapore        5612253.0     10.579899            1.16   \n",
      "\n",
      "    Country Code  IncomeGroup  net_migration  migration_perc  \n",
      "110          SGP  High income       135142.0         0.02408  \n"
     ]
    }
   ],
   "source": [
    "# Find singapore population rating\n",
    "sorting(df_overall_2017,'Country Name', 'Singapore', '2017 Population')"
   ]
  },
  {
   "cell_type": "code",
   "execution_count": 241,
   "id": "69339075",
   "metadata": {},
   "outputs": [
    {
     "name": "stdout",
     "output_type": "stream",
     "text": [
      "     index Country Name  2017 Population  2017 Aging %  BirthRate 2017  \\\n",
      "180    152    Singapore        5612253.0     10.579899            1.16   \n",
      "\n",
      "    Country Code  IncomeGroup  net_migration  migration_perc  \n",
      "180          SGP  High income       135142.0         0.02408  \n"
     ]
    }
   ],
   "source": [
    "# Find singapore birth-rate rating\n",
    "sorting(df_overall_2017,'Country Name', 'Singapore', 'BirthRate 2017')"
   ]
  },
  {
   "cell_type": "code",
   "execution_count": 242,
   "id": "b7d9bd4c",
   "metadata": {},
   "outputs": [
    {
     "name": "stdout",
     "output_type": "stream",
     "text": [
      "    index Country Name  2017 Population  2017 Aging %  BirthRate 2017  \\\n",
      "31    152    Singapore        5612253.0     10.579899            1.16   \n",
      "\n",
      "   Country Code  IncomeGroup  net_migration  migration_perc  \n",
      "31          SGP  High income       135142.0         0.02408  \n"
     ]
    }
   ],
   "source": [
    "# Find singapore migration rating\n",
    "sorting(df_overall_2017,'Country Name', 'Singapore', 'net_migration')"
   ]
  },
  {
   "cell_type": "code",
   "execution_count": 243,
   "id": "8bf24a34",
   "metadata": {},
   "outputs": [
    {
     "name": "stdout",
     "output_type": "stream",
     "text": [
      "    index Country Name  2017 Population  2017 Aging %  BirthRate 2017  \\\n",
      "58    152    Singapore        5612253.0     10.579899            1.16   \n",
      "\n",
      "   Country Code  IncomeGroup  net_migration  migration_perc  \n",
      "58          SGP  High income       135142.0         0.02408  \n"
     ]
    }
   ],
   "source": [
    "# Find singapore aging rating\n",
    "sorting(df_overall_2017,'Country Name', 'Singapore', '2017 Aging %')"
   ]
  },
  {
   "cell_type": "markdown",
   "id": "35d71704",
   "metadata": {},
   "source": [
    "## Other factor that affect migration\n",
    "## Focus on freedom status"
   ]
  },
  {
   "cell_type": "code",
   "execution_count": 244,
   "id": "1842d33e",
   "metadata": {},
   "outputs": [],
   "source": [
    "df_otherfactor = pd.read_csv('otherfactor.csv')\n",
    "df_withotherfactor = pd.merge(df_otherfactor,df_overall_2017, on='Country Name', how='left')"
   ]
  },
  {
   "cell_type": "code",
   "execution_count": 245,
   "id": "e40dceb3",
   "metadata": {},
   "outputs": [],
   "source": [
    "# Clean up dataset and pull out data based on column 'freedom status'\n",
    "\n",
    "df_freedom_2017 = df_withotherfactor.loc[:,['Country Name','Subindicator Type','2017','2017 Population','2017 Aging %','BirthRate 2017','IncomeGroup','net_migration','migration_perc']]\n",
    "df_freedom_2017 = df_freedom_2017.loc[df_otherfactor['Indicator'] == 'Freedom Status']\n",
    "df_freedom_2017 = df_freedom_2017.dropna()\n",
    "df_freedom_2017 = df_freedom_2017.rename(columns={'2017':'Freedom Status'})"
   ]
  },
  {
   "cell_type": "code",
   "execution_count": 246,
   "id": "2dbd2907",
   "metadata": {},
   "outputs": [],
   "source": [
    "# Find the sum of migration based on incomegroup and freedom status\n",
    "# Make it a double index \n",
    "\n",
    "df_byfreedom = df_freedom_2017.groupby(by=['IncomeGroup','Freedom Status']).agg({'net_migration':['sum']})\n",
    "df_byfreedom = df_byfreedom.sort_values(by = 'IncomeGroup', ascending= True )"
   ]
  },
  {
   "cell_type": "code",
   "execution_count": 247,
   "id": "7d28b43d",
   "metadata": {},
   "outputs": [
    {
     "data": {
      "text/plain": [
       "<AxesSubplot:xlabel='IncomeGroup'>"
      ]
     },
     "execution_count": 247,
     "metadata": {},
     "output_type": "execute_result"
    },
    {
     "data": {
      "image/png": "[encoded data removed]",
      "text/plain": [
       "<Figure size 1080x720 with 1 Axes>"
      ]
     },
     "metadata": {},
     "output_type": "display_data"
    }
   ],
   "source": [
    "# plot fig 6\n",
    "\n",
    "fig6 = df_byfreedom.unstack().plot(kind='bar', stacked=False, figsize=(15,10))\n",
    "fig6"
   ]
  },
  {
   "cell_type": "markdown",
   "id": "05a05725",
   "metadata": {},
   "source": [
    "## Plot for Singapore population overview 2017"
   ]
  },
  {
   "cell_type": "code",
   "execution_count": 248,
   "id": "74c56916",
   "metadata": {},
   "outputs": [],
   "source": [
    "# Pull singapore data for plotting\n",
    "\n",
    "Singapore_p = df_world_data.loc['Singapore',:'2017'] # pull data of 1960 - 2017\n",
    "Singapore_p.to_frame()\n",
    "Singapore_p = Singapore_p.drop(Singapore_p.index[:3]) # Remove unwanted rows\n",
    "Singapore_p = Singapore_p.reset_index()\n",
    "Singapore_p.columns = ['year', 'total population'] # rename columns\n",
    "divide_1 = Singapore_p['total population'] / 1000000 # divdie to ploting later on\n",
    "Singapore_p['divide_1'] = divide_1\n",
    "\n",
    "Singapore_b = df_birthrate.loc['Singapore',:'2017'] # pull data of 1960 - 2017\n",
    "Singapore_b.to_frame()\n",
    "Singapore_b = Singapore_b.drop(Singapore_b.index[:3]) # Remove unwanted rows\n",
    "Singapore_b = Singapore_b.reset_index()\n",
    "Singapore_b.columns = ['year', 'birthrate'] # rename columns\n",
    "\n",
    "Singapore_a = df_aging.loc['World',:'2017'] # pull data of 1960 - 2017\n",
    "Singapore_a = Singapore_a.to_frame()\n",
    "Singapore_a = Singapore_a.drop(Singapore_a.index[:3]) # Remove unwanted rows\n",
    "Singapore_a = Singapore_a.reset_index()\n",
    "Singapore_a.columns = ['year', 'Aging'] # rename columns\n",
    "\n",
    "migration_sg = df_migration.reset_index()\n",
    "migration_sg = migration_sg.loc[migration_sg['country'] == 'Singapore']\n",
    "migration_sg = migration_sg.dropna()\n",
    "divide_2 = migration_sg['net_migration'] / 100000 # divdie to ploting later on\n",
    "migration_sg ['divide_2'] = divide_2"
   ]
  },
  {
   "cell_type": "code",
   "execution_count": 249,
   "id": "fab3c12f",
   "metadata": {},
   "outputs": [
    {
     "data": {
      "application/vnd.plotly.v1+json": {
       "config": {
        "linkText": "Export to plotly.com",
        "plotlyServerURL": "https://plotly.com",
        "showLink": false
       },
       "data": [
        {
         "connectgaps": true,
         "line": {
          "color": "red",
          "width": 1
         },
         "name": "Total Population(Million)",
         "type": "scatter",
         "x": [
          "1960",
          "1961",
          "1962",
          "1963",
          "1964",
          "1965",
          "1966",
          "1967",
          "1968",
          "1969",
          "1970",
          "1971",
          "1972",
          "1973",
          "1974",
          "1975",
          "1976",
          "1977",
          "1978",
          "1979",
          "1980",
          "1981",
          "1982",
          "1983",
          "1984",
          "1985",
          "1986",
          "1987",
          "1988",
          "1989",
          "1990",
          "1991",
          "1992",
          "1993",
          "1994",
          "1995",
          "1996",
          "1997",
          "1998",
          "1999",
          "2000",
          "2001",
          "2002",
          "2003",
          "2004",
          "2005",
          "2006",
          "2007",
          "2008",
          "2009",
          "2010",
          "2011",
          "2012",
          "2013",
          "2014",
          "2015",
          "2016",
          "2017"
         ],
         "y": [
          1.6464,
          1.7024,
          1.7502,
          1.795,
          1.8416,
          1.8869,
          1.9344,
          1.9776,
          2.012,
          2.0425,
          2.074507,
          2.1129,
          2.1524,
          2.193,
          2.2298,
          2.2626,
          2.2933,
          2.3253,
          2.3536,
          2.3835,
          2.413945,
          2.532835,
          2.646466,
          2.681061,
          2.732221,
          2.735957,
          2.733373,
          2.774789,
          2.846108,
          2.930901,
          3.047132,
          3.135083,
          3.230698,
          3.313471,
          3.419048,
          3.524506,
          3.670704,
          3.796038,
          3.927213,
          3.958723,
          4.027887,
          4.138012,
          4.17595,
          4.114826,
          4.166664,
          4.265762,
          4.401365,
          4.588599,
          4.839396,
          4.987573,
          5.076732,
          5.183688,
          5.312437,
          5.399162,
          5.469724,
          5.535002,
          5.607283,
          5.612253
         ]
        },
        {
         "connectgaps": true,
         "line": {
          "color": "green",
          "width": 1
         },
         "name": "Total Birth(Per Women)",
         "type": "scatter",
         "x": [
          "1960",
          "1961",
          "1962",
          "1963",
          "1964",
          "1965",
          "1966",
          "1967",
          "1968",
          "1969",
          "1970",
          "1971",
          "1972",
          "1973",
          "1974",
          "1975",
          "1976",
          "1977",
          "1978",
          "1979",
          "1980",
          "1981",
          "1982",
          "1983",
          "1984",
          "1985",
          "1986",
          "1987",
          "1988",
          "1989",
          "1990",
          "1991",
          "1992",
          "1993",
          "1994",
          "1995",
          "1996",
          "1997",
          "1998",
          "1999",
          "2000",
          "2001",
          "2002",
          "2003",
          "2004",
          "2005",
          "2006",
          "2007",
          "2008",
          "2009",
          "2010",
          "2011",
          "2012",
          "2013",
          "2014",
          "2015",
          "2016",
          "2017"
         ],
         "y": [
          5.76,
          5.41,
          5.21,
          5.16,
          4.97,
          4.66,
          4.46,
          3.91,
          3.53,
          3.22,
          3.07,
          3.02,
          3.04,
          2.79,
          2.35,
          2.07,
          2.11,
          1.82,
          1.79,
          1.79,
          1.82,
          1.78,
          1.74,
          1.61,
          1.62,
          1.61,
          1.43,
          1.62,
          1.96,
          1.75,
          1.83,
          1.73,
          1.72,
          1.74,
          1.71,
          1.67,
          1.66,
          1.61,
          1.48,
          1.47,
          1.6,
          1.41,
          1.37,
          1.27,
          1.26,
          1.26,
          1.28,
          1.29,
          1.28,
          1.22,
          1.15,
          1.2,
          1.29,
          1.19,
          1.25,
          1.24,
          1.2,
          1.16
         ]
        },
        {
         "connectgaps": true,
         "line": {
          "color": "blue",
          "width": 1
         },
         "name": "Age above 65(%)",
         "type": "scatter",
         "x": [
          "1960",
          "1961",
          "1962",
          "1963",
          "1964",
          "1965",
          "1966",
          "1967",
          "1968",
          "1969",
          "1970",
          "1971",
          "1972",
          "1973",
          "1974",
          "1975",
          "1976",
          "1977",
          "1978",
          "1979",
          "1980",
          "1981",
          "1982",
          "1983",
          "1984",
          "1985",
          "1986",
          "1987",
          "1988",
          "1989",
          "1990",
          "1991",
          "1992",
          "1993",
          "1994",
          "1995",
          "1996",
          "1997",
          "1998",
          "1999",
          "2000",
          "2001",
          "2002",
          "2003",
          "2004",
          "2005",
          "2006",
          "2007",
          "2008",
          "2009",
          "2010",
          "2011",
          "2012",
          "2013",
          "2014",
          "2015",
          "2016",
          "2017"
         ],
         "y": [
          4.97017227691351,
          5.01676965721514,
          5.04238259644718,
          5.05203320581342,
          5.05644497311415,
          5.05754736775835,
          5.11423791923572,
          5.16827259595989,
          5.21814324577902,
          5.2626248960447,
          5.30156248900248,
          5.36871670089752,
          5.4274464950562,
          5.47983835545349,
          5.52970428223649,
          5.57906974211897,
          5.65858768203791,
          5.73643560118006,
          5.80687985739999,
          5.86047796380065,
          5.89286027934988,
          5.92744388074803,
          5.9361852795685,
          5.93196788044164,
          5.93021226528731,
          5.93884483016137,
          5.97574203727576,
          6.01604026236198,
          6.06038173107217,
          6.10927502920718,
          6.1615281745756,
          6.23488657020027,
          6.31506467061598,
          6.39363287760375,
          6.46507577749995,
          6.52581094479718,
          6.61345904576829,
          6.6834278064723,
          6.74405796764097,
          6.80600039105418,
          6.87408599860318,
          6.95816084722875,
          7.04547331091156,
          7.13040910684717,
          7.20230914456665,
          7.25754768724634,
          7.32752554645265,
          7.38333689693132,
          7.43461342599437,
          7.49318889349556,
          7.5671306462621,
          7.66798603085752,
          7.78127093774876,
          7.90897867182356,
          8.05574272500899,
          8.22430812652665,
          8.42853591420842,
          8.64817370613636
         ]
        },
        {
         "connectgaps": true,
         "line": {
          "color": "blue",
          "width": 1
         },
         "name": "Migration (100k) ",
         "type": "scatter",
         "x": [
          2017,
          2012,
          2007,
          2002,
          1997,
          1992,
          1987,
          1982,
          1977,
          1972,
          1967,
          1962
         ],
         "y": [
          1.35142,
          3.17028,
          7.21338,
          0.92772,
          3.21578,
          2.97845,
          1.19802,
          1.37812,
          0.14273,
          0.05881,
          -0.00365,
          0.00428
         ]
        }
       ],
       "layout": {
        "height": 500,
        "template": {
         "data": {
          "bar": [
           {
            "error_x": {
             "color": "#2a3f5f"
            },
            "error_y": {
             "color": "#2a3f5f"
            },
            "marker": {
             "line": {
              "color": "#E5ECF6",
              "width": 0.5
             },
             "pattern": {
              "fillmode": "overlay",
              "size": 10,
              "solidity": 0.2
             }
            },
            "type": "bar"
           }
          ],
          "barpolar": [
           {
            "marker": {
             "line": {
              "color": "#E5ECF6",
              "width": 0.5
             },
             "pattern": {
              "fillmode": "overlay",
              "size": 10,
              "solidity": 0.2
             }
            },
            "type": "barpolar"
           }
          ],
          "carpet": [
           {
            "aaxis": {
             "endlinecolor": "#2a3f5f",
             "gridcolor": "white",
             "linecolor": "white",
             "minorgridcolor": "white",
             "startlinecolor": "#2a3f5f"
            },
            "baxis": {
             "endlinecolor": "#2a3f5f",
             "gridcolor": "white",
             "linecolor": "white",
             "minorgridcolor": "white",
             "startlinecolor": "#2a3f5f"
            },
            "type": "carpet"
           }
          ],
          "choropleth": [
           {
            "colorbar": {
             "outlinewidth": 0,
             "ticks": ""
            },
            "type": "choropleth"
           }
          ],
          "contour": [
           {
            "colorbar": {
             "outlinewidth": 0,
             "ticks": ""
            },
            "colorscale": [
             [
              0,
              "#0d0887"
             ],
             [
              0.1111111111111111,
              "#46039f"
             ],
             [
              0.2222222222222222,
              "#7201a8"
             ],
             [
              0.3333333333333333,
              "#9c179e"
             ],
             [
              0.4444444444444444,
              "#bd3786"
             ],
             [
              0.5555555555555556,
              "#d8576b"
             ],
             [
              0.6666666666666666,
              "#ed7953"
             ],
             [
              0.7777777777777778,
              "#fb9f3a"
             ],
             [
              0.8888888888888888,
              "#fdca26"
             ],
             [
              1,
              "#f0f921"
             ]
            ],
            "type": "contour"
           }
          ],
          "contourcarpet": [
           {
            "colorbar": {
             "outlinewidth": 0,
             "ticks": ""
            },
            "type": "contourcarpet"
           }
          ],
          "heatmap": [
           {
            "colorbar": {
             "outlinewidth": 0,
             "ticks": ""
            },
            "colorscale": [
             [
              0,
              "#0d0887"
             ],
             [
              0.1111111111111111,
              "#46039f"
             ],
             [
              0.2222222222222222,
              "#7201a8"
             ],
             [
              0.3333333333333333,
              "#9c179e"
             ],
             [
              0.4444444444444444,
              "#bd3786"
             ],
             [
              0.5555555555555556,
              "#d8576b"
             ],
             [
              0.6666666666666666,
              "#ed7953"
             ],
             [
              0.7777777777777778,
              "#fb9f3a"
             ],
             [
              0.8888888888888888,
              "#fdca26"
             ],
             [
              1,
              "#f0f921"
             ]
            ],
            "type": "heatmap"
           }
          ],
          "heatmapgl": [
           {
            "colorbar": {
             "outlinewidth": 0,
             "ticks": ""
            },
            "colorscale": [
             [
              0,
              "#0d0887"
             ],
             [
              0.1111111111111111,
              "#46039f"
             ],
             [
              0.2222222222222222,
              "#7201a8"
             ],
             [
              0.3333333333333333,
              "#9c179e"
             ],
             [
              0.4444444444444444,
              "#bd3786"
             ],
             [
              0.5555555555555556,
              "#d8576b"
             ],
             [
              0.6666666666666666,
              "#ed7953"
             ],
             [
              0.7777777777777778,
              "#fb9f3a"
             ],
             [
              0.8888888888888888,
              "#fdca26"
             ],
             [
              1,
              "#f0f921"
             ]
            ],
            "type": "heatmapgl"
           }
          ],
          "histogram": [
           {
            "marker": {
             "pattern": {
              "fillmode": "overlay",
              "size": 10,
              "solidity": 0.2
             }
            },
            "type": "histogram"
           }
          ],
          "histogram2d": [
           {
            "colorbar": {
             "outlinewidth": 0,
             "ticks": ""
            },
            "colorscale": [
             [
              0,
              "#0d0887"
             ],
             [
              0.1111111111111111,
              "#46039f"
             ],
             [
              0.2222222222222222,
              "#7201a8"
             ],
             [
              0.3333333333333333,
              "#9c179e"
             ],
             [
              0.4444444444444444,
              "#bd3786"
             ],
             [
              0.5555555555555556,
              "#d8576b"
             ],
             [
              0.6666666666666666,
              "#ed7953"
             ],
             [
              0.7777777777777778,
              "#fb9f3a"
             ],
             [
              0.8888888888888888,
              "#fdca26"
             ],
             [
              1,
              "#f0f921"
             ]
            ],
            "type": "histogram2d"
           }
          ],
          "histogram2dcontour": [
           {
            "colorbar": {
             "outlinewidth": 0,
             "ticks": ""
            },
            "colorscale": [
             [
              0,
              "#0d0887"
             ],
             [
              0.1111111111111111,
              "#46039f"
             ],
             [
              0.2222222222222222,
              "#7201a8"
             ],
             [
              0.3333333333333333,
              "#9c179e"
             ],
             [
              0.4444444444444444,
              "#bd3786"
             ],
             [
              0.5555555555555556,
              "#d8576b"
             ],
             [
              0.6666666666666666,
              "#ed7953"
             ],
             [
              0.7777777777777778,
              "#fb9f3a"
             ],
             [
              0.8888888888888888,
              "#fdca26"
             ],
             [
              1,
              "#f0f921"
             ]
            ],
            "type": "histogram2dcontour"
           }
          ],
          "mesh3d": [
           {
            "colorbar": {
             "outlinewidth": 0,
             "ticks": ""
            },
            "type": "mesh3d"
           }
          ],
          "parcoords": [
           {
            "line": {
             "colorbar": {
              "outlinewidth": 0,
              "ticks": ""
             }
            },
            "type": "parcoords"
           }
          ],
          "pie": [
           {
            "automargin": true,
            "type": "pie"
           }
          ],
          "scatter": [
           {
            "marker": {
             "colorbar": {
              "outlinewidth": 0,
              "ticks": ""
             }
            },
            "type": "scatter"
           }
          ],
          "scatter3d": [
           {
            "line": {
             "colorbar": {
              "outlinewidth": 0,
              "ticks": ""
             }
            },
            "marker": {
             "colorbar": {
              "outlinewidth": 0,
              "ticks": ""
             }
            },
            "type": "scatter3d"
           }
          ],
          "scattercarpet": [
           {
            "marker": {
             "colorbar": {
              "outlinewidth": 0,
              "ticks": ""
             }
            },
            "type": "scattercarpet"
           }
          ],
          "scattergeo": [
           {
            "marker": {
             "colorbar": {
              "outlinewidth": 0,
              "ticks": ""
             }
            },
            "type": "scattergeo"
           }
          ],
          "scattergl": [
           {
            "marker": {
             "colorbar": {
              "outlinewidth": 0,
              "ticks": ""
             }
            },
            "type": "scattergl"
           }
          ],
          "scattermapbox": [
           {
            "marker": {
             "colorbar": {
              "outlinewidth": 0,
              "ticks": ""
             }
            },
            "type": "scattermapbox"
           }
          ],
          "scatterpolar": [
           {
            "marker": {
             "colorbar": {
              "outlinewidth": 0,
              "ticks": ""
             }
            },
            "type": "scatterpolar"
           }
          ],
          "scatterpolargl": [
           {
            "marker": {
             "colorbar": {
              "outlinewidth": 0,
              "ticks": ""
             }
            },
            "type": "scatterpolargl"
           }
          ],
          "scatterternary": [
           {
            "marker": {
             "colorbar": {
              "outlinewidth": 0,
              "ticks": ""
             }
            },
            "type": "scatterternary"
           }
          ],
          "surface": [
           {
            "colorbar": {
             "outlinewidth": 0,
             "ticks": ""
            },
            "colorscale": [
             [
              0,
              "#0d0887"
             ],
             [
              0.1111111111111111,
              "#46039f"
             ],
             [
              0.2222222222222222,
              "#7201a8"
             ],
             [
              0.3333333333333333,
              "#9c179e"
             ],
             [
              0.4444444444444444,
              "#bd3786"
             ],
             [
              0.5555555555555556,
              "#d8576b"
             ],
             [
              0.6666666666666666,
              "#ed7953"
             ],
             [
              0.7777777777777778,
              "#fb9f3a"
             ],
             [
              0.8888888888888888,
              "#fdca26"
             ],
             [
              1,
              "#f0f921"
             ]
            ],
            "type": "surface"
           }
          ],
          "table": [
           {
            "cells": {
             "fill": {
              "color": "#EBF0F8"
             },
             "line": {
              "color": "white"
             }
            },
            "header": {
             "fill": {
              "color": "#C8D4E3"
             },
             "line": {
              "color": "white"
             }
            },
            "type": "table"
           }
          ]
         },
         "layout": {
          "annotationdefaults": {
           "arrowcolor": "#2a3f5f",
           "arrowhead": 0,
           "arrowwidth": 1
          },
          "autotypenumbers": "strict",
          "coloraxis": {
           "colorbar": {
            "outlinewidth": 0,
            "ticks": ""
           }
          },
          "colorscale": {
           "diverging": [
            [
             0,
             "#8e0152"
            ],
            [
             0.1,
             "#c51b7d"
            ],
            [
             0.2,
             "#de77ae"
            ],
            [
             0.3,
             "#f1b6da"
            ],
            [
             0.4,
             "#fde0ef"
            ],
            [
             0.5,
             "#f7f7f7"
            ],
            [
             0.6,
             "#e6f5d0"
            ],
            [
             0.7,
             "#b8e186"
            ],
            [
             0.8,
             "#7fbc41"
            ],
            [
             0.9,
             "#4d9221"
            ],
            [
             1,
             "#276419"
            ]
           ],
           "sequential": [
            [
             0,
             "#0d0887"
            ],
            [
             0.1111111111111111,
             "#46039f"
            ],
            [
             0.2222222222222222,
             "#7201a8"
            ],
            [
             0.3333333333333333,
             "#9c179e"
            ],
            [
             0.4444444444444444,
             "#bd3786"
            ],
            [
             0.5555555555555556,
             "#d8576b"
            ],
            [
             0.6666666666666666,
             "#ed7953"
            ],
            [
             0.7777777777777778,
             "#fb9f3a"
            ],
            [
             0.8888888888888888,
             "#fdca26"
            ],
            [
             1,
             "#f0f921"
            ]
           ],
           "sequentialminus": [
            [
             0,
             "#0d0887"
            ],
            [
             0.1111111111111111,
             "#46039f"
            ],
            [
             0.2222222222222222,
             "#7201a8"
            ],
            [
             0.3333333333333333,
             "#9c179e"
            ],
            [
             0.4444444444444444,
             "#bd3786"
            ],
            [
             0.5555555555555556,
             "#d8576b"
            ],
            [
             0.6666666666666666,
             "#ed7953"
            ],
            [
             0.7777777777777778,
             "#fb9f3a"
            ],
            [
             0.8888888888888888,
             "#fdca26"
            ],
            [
             1,
             "#f0f921"
            ]
           ]
          },
          "colorway": [
           "#636efa",
           "#EF553B",
           "#00cc96",
           "#ab63fa",
           "#FFA15A",
           "#19d3f3",
           "#FF6692",
           "#B6E880",
           "#FF97FF",
           "#FECB52"
          ],
          "font": {
           "color": "#2a3f5f"
          },
          "geo": {
           "bgcolor": "white",
           "lakecolor": "white",
           "landcolor": "#E5ECF6",
           "showlakes": true,
           "showland": true,
           "subunitcolor": "white"
          },
          "hoverlabel": {
           "align": "left"
          },
          "hovermode": "closest",
          "mapbox": {
           "style": "light"
          },
          "paper_bgcolor": "white",
          "plot_bgcolor": "#E5ECF6",
          "polar": {
           "angularaxis": {
            "gridcolor": "white",
            "linecolor": "white",
            "ticks": ""
           },
           "bgcolor": "#E5ECF6",
           "radialaxis": {
            "gridcolor": "white",
            "linecolor": "white",
            "ticks": ""
           }
          },
          "scene": {
           "xaxis": {
            "backgroundcolor": "#E5ECF6",
            "gridcolor": "white",
            "gridwidth": 2,
            "linecolor": "white",
            "showbackground": true,
            "ticks": "",
            "zerolinecolor": "white"
           },
           "yaxis": {
            "backgroundcolor": "#E5ECF6",
            "gridcolor": "white",
            "gridwidth": 2,
            "linecolor": "white",
            "showbackground": true,
            "ticks": "",
            "zerolinecolor": "white"
           },
           "zaxis": {
            "backgroundcolor": "#E5ECF6",
            "gridcolor": "white",
            "gridwidth": 2,
            "linecolor": "white",
            "showbackground": true,
            "ticks": "",
            "zerolinecolor": "white"
           }
          },
          "shapedefaults": {
           "line": {
            "color": "#2a3f5f"
           }
          },
          "ternary": {
           "aaxis": {
            "gridcolor": "white",
            "linecolor": "white",
            "ticks": ""
           },
           "baxis": {
            "gridcolor": "white",
            "linecolor": "white",
            "ticks": ""
           },
           "bgcolor": "#E5ECF6",
           "caxis": {
            "gridcolor": "white",
            "linecolor": "white",
            "ticks": ""
           }
          },
          "title": {
           "x": 0.05
          },
          "xaxis": {
           "automargin": true,
           "gridcolor": "white",
           "linecolor": "white",
           "ticks": "",
           "title": {
            "standoff": 15
           },
           "zerolinecolor": "white",
           "zerolinewidth": 2
          },
          "yaxis": {
           "automargin": true,
           "gridcolor": "white",
           "linecolor": "white",
           "ticks": "",
           "title": {
            "standoff": 15
           },
           "zerolinecolor": "white",
           "zerolinewidth": 2
          }
         }
        },
        "title": {
         "text": "Singapore Population 2017"
        },
        "width": 1200,
        "xaxis": {
         "title": {
          "text": "Year"
         }
        },
        "yaxis": {
         "title": {
          "text": ""
         }
        }
       }
      },
      "text/html": [
       "<div>                            <div id=\"9c9ecfdb-99d4-4f57-8386-24ed2365f182\" class=\"plotly-graph-div\" style=\"height:500px; width:1200px;\"></div>            <script type=\"text/javascript\">                require([\"plotly\"], function(Plotly) {                    window.PLOTLYENV=window.PLOTLYENV || {};                                    if (document.getElementById(\"9c9ecfdb-99d4-4f57-8386-24ed2365f182\")) {                    Plotly.newPlot(                        \"9c9ecfdb-99d4-4f57-8386-24ed2365f182\",                        [{\"connectgaps\":true,\"line\":{\"color\":\"red\",\"width\":1},\"name\":\"Total Population(Million)\",\"x\":[\"1960\",\"1961\",\"1962\",\"1963\",\"1964\",\"1965\",\"1966\",\"1967\",\"1968\",\"1969\",\"1970\",\"1971\",\"1972\",\"1973\",\"1974\",\"1975\",\"1976\",\"1977\",\"1978\",\"1979\",\"1980\",\"1981\",\"1982\",\"1983\",\"1984\",\"1985\",\"1986\",\"1987\",\"1988\",\"1989\",\"1990\",\"1991\",\"1992\",\"1993\",\"1994\",\"1995\",\"1996\",\"1997\",\"1998\",\"1999\",\"2000\",\"2001\",\"2002\",\"2003\",\"2004\",\"2005\",\"2006\",\"2007\",\"2008\",\"2009\",\"2010\",\"2011\",\"2012\",\"2013\",\"2014\",\"2015\",\"2016\",\"2017\"],\"y\":[1.6464,1.7024,1.7502,1.795,1.8416,1.8869,1.9344,1.9776,2.012,2.0425,2.074507,2.1129,2.1524,2.193,2.2298,2.2626,2.2933,2.3253,2.3536,2.3835,2.413945,2.532835,2.646466,2.681061,2.732221,2.735957,2.733373,2.774789,2.846108,2.930901,3.047132,3.135083,3.230698,3.313471,3.419048,3.524506,3.670704,3.796038,3.927213,3.958723,4.027887,4.138012,4.17595,4.114826,4.166664,4.265762,4.401365,4.588599,4.839396,4.987573,5.076732,5.183688,5.312437,5.399162,5.469724,5.535002,5.607283,5.612253],\"type\":\"scatter\"},{\"connectgaps\":true,\"line\":{\"color\":\"green\",\"width\":1},\"name\":\"Total Birth(Per Women)\",\"x\":[\"1960\",\"1961\",\"1962\",\"1963\",\"1964\",\"1965\",\"1966\",\"1967\",\"1968\",\"1969\",\"1970\",\"1971\",\"1972\",\"1973\",\"1974\",\"1975\",\"1976\",\"1977\",\"1978\",\"1979\",\"1980\",\"1981\",\"1982\",\"1983\",\"1984\",\"1985\",\"1986\",\"1987\",\"1988\",\"1989\",\"1990\",\"1991\",\"1992\",\"1993\",\"1994\",\"1995\",\"1996\",\"1997\",\"1998\",\"1999\",\"2000\",\"2001\",\"2002\",\"2003\",\"2004\",\"2005\",\"2006\",\"2007\",\"2008\",\"2009\",\"2010\",\"2011\",\"2012\",\"2013\",\"2014\",\"2015\",\"2016\",\"2017\"],\"y\":[5.76,5.41,5.21,5.16,4.97,4.66,4.46,3.91,3.53,3.22,3.07,3.02,3.04,2.79,2.35,2.07,2.11,1.82,1.79,1.79,1.82,1.78,1.74,1.61,1.62,1.61,1.43,1.62,1.96,1.75,1.83,1.73,1.72,1.74,1.71,1.67,1.66,1.61,1.48,1.47,1.6,1.41,1.37,1.27,1.26,1.26,1.28,1.29,1.28,1.22,1.15,1.2,1.29,1.19,1.25,1.24,1.2,1.16],\"type\":\"scatter\"},{\"connectgaps\":true,\"line\":{\"color\":\"blue\",\"width\":1},\"name\":\"Age above 65(%)\",\"x\":[\"1960\",\"1961\",\"1962\",\"1963\",\"1964\",\"1965\",\"1966\",\"1967\",\"1968\",\"1969\",\"1970\",\"1971\",\"1972\",\"1973\",\"1974\",\"1975\",\"1976\",\"1977\",\"1978\",\"1979\",\"1980\",\"1981\",\"1982\",\"1983\",\"1984\",\"1985\",\"1986\",\"1987\",\"1988\",\"1989\",\"1990\",\"1991\",\"1992\",\"1993\",\"1994\",\"1995\",\"1996\",\"1997\",\"1998\",\"1999\",\"2000\",\"2001\",\"2002\",\"2003\",\"2004\",\"2005\",\"2006\",\"2007\",\"2008\",\"2009\",\"2010\",\"2011\",\"2012\",\"2013\",\"2014\",\"2015\",\"2016\",\"2017\"],\"y\":[4.97017227691351,5.01676965721514,5.04238259644718,5.05203320581342,5.05644497311415,5.05754736775835,5.11423791923572,5.16827259595989,5.21814324577902,5.2626248960447,5.30156248900248,5.36871670089752,5.4274464950562,5.47983835545349,5.52970428223649,5.57906974211897,5.65858768203791,5.73643560118006,5.80687985739999,5.86047796380065,5.89286027934988,5.92744388074803,5.9361852795685,5.93196788044164,5.93021226528731,5.93884483016137,5.97574203727576,6.01604026236198,6.06038173107217,6.10927502920718,6.1615281745756,6.23488657020027,6.31506467061598,6.39363287760375,6.46507577749995,6.52581094479718,6.61345904576829,6.6834278064723,6.74405796764097,6.80600039105418,6.87408599860318,6.95816084722875,7.04547331091156,7.13040910684717,7.20230914456665,7.25754768724634,7.32752554645265,7.38333689693132,7.43461342599437,7.49318889349556,7.5671306462621,7.66798603085752,7.78127093774876,7.90897867182356,8.05574272500899,8.22430812652665,8.42853591420842,8.64817370613636],\"type\":\"scatter\"},{\"connectgaps\":true,\"line\":{\"color\":\"blue\",\"width\":1},\"name\":\"Migration (100k) \",\"x\":[2017,2012,2007,2002,1997,1992,1987,1982,1977,1972,1967,1962],\"y\":[1.35142,3.17028,7.21338,0.92772,3.21578,2.97845,1.19802,1.37812,0.14273,0.05881,-0.00365,0.00428],\"type\":\"scatter\"}],                        {\"height\":500,\"template\":{\"data\":{\"barpolar\":[{\"marker\":{\"line\":{\"color\":\"#E5ECF6\",\"width\":0.5},\"pattern\":{\"fillmode\":\"overlay\",\"size\":10,\"solidity\":0.2}},\"type\":\"barpolar\"}],\"bar\":[{\"error_x\":{\"color\":\"#2a3f5f\"},\"error_y\":{\"color\":\"#2a3f5f\"},\"marker\":{\"line\":{\"color\":\"#E5ECF6\",\"width\":0.5},\"pattern\":{\"fillmode\":\"overlay\",\"size\":10,\"solidity\":0.2}},\"type\":\"bar\"}],\"carpet\":[{\"aaxis\":{\"endlinecolor\":\"#2a3f5f\",\"gridcolor\":\"white\",\"linecolor\":\"white\",\"minorgridcolor\":\"white\",\"startlinecolor\":\"#2a3f5f\"},\"baxis\":{\"endlinecolor\":\"#2a3f5f\",\"gridcolor\":\"white\",\"linecolor\":\"white\",\"minorgridcolor\":\"white\",\"startlinecolor\":\"#2a3f5f\"},\"type\":\"carpet\"}],\"choropleth\":[{\"colorbar\":{\"outlinewidth\":0,\"ticks\":\"\"},\"type\":\"choropleth\"}],\"contourcarpet\":[{\"colorbar\":{\"outlinewidth\":0,\"ticks\":\"\"},\"type\":\"contourcarpet\"}],\"contour\":[{\"colorbar\":{\"outlinewidth\":0,\"ticks\":\"\"},\"colorscale\":[[0.0,\"#0d0887\"],[0.1111111111111111,\"#46039f\"],[0.2222222222222222,\"#7201a8\"],[0.3333333333333333,\"#9c179e\"],[0.4444444444444444,\"#bd3786\"],[0.5555555555555556,\"#d8576b\"],[0.6666666666666666,\"#ed7953\"],[0.7777777777777778,\"#fb9f3a\"],[0.8888888888888888,\"#fdca26\"],[1.0,\"#f0f921\"]],\"type\":\"contour\"}],\"heatmapgl\":[{\"colorbar\":{\"outlinewidth\":0,\"ticks\":\"\"},\"colorscale\":[[0.0,\"#0d0887\"],[0.1111111111111111,\"#46039f\"],[0.2222222222222222,\"#7201a8\"],[0.3333333333333333,\"#9c179e\"],[0.4444444444444444,\"#bd3786\"],[0.5555555555555556,\"#d8576b\"],[0.6666666666666666,\"#ed7953\"],[0.7777777777777778,\"#fb9f3a\"],[0.8888888888888888,\"#fdca26\"],[1.0,\"#f0f921\"]],\"type\":\"heatmapgl\"}],\"heatmap\":[{\"colorbar\":{\"outlinewidth\":0,\"ticks\":\"\"},\"colorscale\":[[0.0,\"#0d0887\"],[0.1111111111111111,\"#46039f\"],[0.2222222222222222,\"#7201a8\"],[0.3333333333333333,\"#9c179e\"],[0.4444444444444444,\"#bd3786\"],[0.5555555555555556,\"#d8576b\"],[0.6666666666666666,\"#ed7953\"],[0.7777777777777778,\"#fb9f3a\"],[0.8888888888888888,\"#fdca26\"],[1.0,\"#f0f921\"]],\"type\":\"heatmap\"}],\"histogram2dcontour\":[{\"colorbar\":{\"outlinewidth\":0,\"ticks\":\"\"},\"colorscale\":[[0.0,\"#0d0887\"],[0.1111111111111111,\"#46039f\"],[0.2222222222222222,\"#7201a8\"],[0.3333333333333333,\"#9c179e\"],[0.4444444444444444,\"#bd3786\"],[0.5555555555555556,\"#d8576b\"],[0.6666666666666666,\"#ed7953\"],[0.7777777777777778,\"#fb9f3a\"],[0.8888888888888888,\"#fdca26\"],[1.0,\"#f0f921\"]],\"type\":\"histogram2dcontour\"}],\"histogram2d\":[{\"colorbar\":{\"outlinewidth\":0,\"ticks\":\"\"},\"colorscale\":[[0.0,\"#0d0887\"],[0.1111111111111111,\"#46039f\"],[0.2222222222222222,\"#7201a8\"],[0.3333333333333333,\"#9c179e\"],[0.4444444444444444,\"#bd3786\"],[0.5555555555555556,\"#d8576b\"],[0.6666666666666666,\"#ed7953\"],[0.7777777777777778,\"#fb9f3a\"],[0.8888888888888888,\"#fdca26\"],[1.0,\"#f0f921\"]],\"type\":\"histogram2d\"}],\"histogram\":[{\"marker\":{\"pattern\":{\"fillmode\":\"overlay\",\"size\":10,\"solidity\":0.2}},\"type\":\"histogram\"}],\"mesh3d\":[{\"colorbar\":{\"outlinewidth\":0,\"ticks\":\"\"},\"type\":\"mesh3d\"}],\"parcoords\":[{\"line\":{\"colorbar\":{\"outlinewidth\":0,\"ticks\":\"\"}},\"type\":\"parcoords\"}],\"pie\":[{\"automargin\":true,\"type\":\"pie\"}],\"scatter3d\":[{\"line\":{\"colorbar\":{\"outlinewidth\":0,\"ticks\":\"\"}},\"marker\":{\"colorbar\":{\"outlinewidth\":0,\"ticks\":\"\"}},\"type\":\"scatter3d\"}],\"scattercarpet\":[{\"marker\":{\"colorbar\":{\"outlinewidth\":0,\"ticks\":\"\"}},\"type\":\"scattercarpet\"}],\"scattergeo\":[{\"marker\":{\"colorbar\":{\"outlinewidth\":0,\"ticks\":\"\"}},\"type\":\"scattergeo\"}],\"scattergl\":[{\"marker\":{\"colorbar\":{\"outlinewidth\":0,\"ticks\":\"\"}},\"type\":\"scattergl\"}],\"scattermapbox\":[{\"marker\":{\"colorbar\":{\"outlinewidth\":0,\"ticks\":\"\"}},\"type\":\"scattermapbox\"}],\"scatterpolargl\":[{\"marker\":{\"colorbar\":{\"outlinewidth\":0,\"ticks\":\"\"}},\"type\":\"scatterpolargl\"}],\"scatterpolar\":[{\"marker\":{\"colorbar\":{\"outlinewidth\":0,\"ticks\":\"\"}},\"type\":\"scatterpolar\"}],\"scatter\":[{\"marker\":{\"colorbar\":{\"outlinewidth\":0,\"ticks\":\"\"}},\"type\":\"scatter\"}],\"scatterternary\":[{\"marker\":{\"colorbar\":{\"outlinewidth\":0,\"ticks\":\"\"}},\"type\":\"scatterternary\"}],\"surface\":[{\"colorbar\":{\"outlinewidth\":0,\"ticks\":\"\"},\"colorscale\":[[0.0,\"#0d0887\"],[0.1111111111111111,\"#46039f\"],[0.2222222222222222,\"#7201a8\"],[0.3333333333333333,\"#9c179e\"],[0.4444444444444444,\"#bd3786\"],[0.5555555555555556,\"#d8576b\"],[0.6666666666666666,\"#ed7953\"],[0.7777777777777778,\"#fb9f3a\"],[0.8888888888888888,\"#fdca26\"],[1.0,\"#f0f921\"]],\"type\":\"surface\"}],\"table\":[{\"cells\":{\"fill\":{\"color\":\"#EBF0F8\"},\"line\":{\"color\":\"white\"}},\"header\":{\"fill\":{\"color\":\"#C8D4E3\"},\"line\":{\"color\":\"white\"}},\"type\":\"table\"}]},\"layout\":{\"annotationdefaults\":{\"arrowcolor\":\"#2a3f5f\",\"arrowhead\":0,\"arrowwidth\":1},\"autotypenumbers\":\"strict\",\"coloraxis\":{\"colorbar\":{\"outlinewidth\":0,\"ticks\":\"\"}},\"colorscale\":{\"diverging\":[[0,\"#8e0152\"],[0.1,\"#c51b7d\"],[0.2,\"#de77ae\"],[0.3,\"#f1b6da\"],[0.4,\"#fde0ef\"],[0.5,\"#f7f7f7\"],[0.6,\"#e6f5d0\"],[0.7,\"#b8e186\"],[0.8,\"#7fbc41\"],[0.9,\"#4d9221\"],[1,\"#276419\"]],\"sequential\":[[0.0,\"#0d0887\"],[0.1111111111111111,\"#46039f\"],[0.2222222222222222,\"#7201a8\"],[0.3333333333333333,\"#9c179e\"],[0.4444444444444444,\"#bd3786\"],[0.5555555555555556,\"#d8576b\"],[0.6666666666666666,\"#ed7953\"],[0.7777777777777778,\"#fb9f3a\"],[0.8888888888888888,\"#fdca26\"],[1.0,\"#f0f921\"]],\"sequentialminus\":[[0.0,\"#0d0887\"],[0.1111111111111111,\"#46039f\"],[0.2222222222222222,\"#7201a8\"],[0.3333333333333333,\"#9c179e\"],[0.4444444444444444,\"#bd3786\"],[0.5555555555555556,\"#d8576b\"],[0.6666666666666666,\"#ed7953\"],[0.7777777777777778,\"#fb9f3a\"],[0.8888888888888888,\"#fdca26\"],[1.0,\"#f0f921\"]]},\"colorway\":[\"#636efa\",\"#EF553B\",\"#00cc96\",\"#ab63fa\",\"#FFA15A\",\"#19d3f3\",\"#FF6692\",\"#B6E880\",\"#FF97FF\",\"#FECB52\"],\"font\":{\"color\":\"#2a3f5f\"},\"geo\":{\"bgcolor\":\"white\",\"lakecolor\":\"white\",\"landcolor\":\"#E5ECF6\",\"showlakes\":true,\"showland\":true,\"subunitcolor\":\"white\"},\"hoverlabel\":{\"align\":\"left\"},\"hovermode\":\"closest\",\"mapbox\":{\"style\":\"light\"},\"paper_bgcolor\":\"white\",\"plot_bgcolor\":\"#E5ECF6\",\"polar\":{\"angularaxis\":{\"gridcolor\":\"white\",\"linecolor\":\"white\",\"ticks\":\"\"},\"bgcolor\":\"#E5ECF6\",\"radialaxis\":{\"gridcolor\":\"white\",\"linecolor\":\"white\",\"ticks\":\"\"}},\"scene\":{\"xaxis\":{\"backgroundcolor\":\"#E5ECF6\",\"gridcolor\":\"white\",\"gridwidth\":2,\"linecolor\":\"white\",\"showbackground\":true,\"ticks\":\"\",\"zerolinecolor\":\"white\"},\"yaxis\":{\"backgroundcolor\":\"#E5ECF6\",\"gridcolor\":\"white\",\"gridwidth\":2,\"linecolor\":\"white\",\"showbackground\":true,\"ticks\":\"\",\"zerolinecolor\":\"white\"},\"zaxis\":{\"backgroundcolor\":\"#E5ECF6\",\"gridcolor\":\"white\",\"gridwidth\":2,\"linecolor\":\"white\",\"showbackground\":true,\"ticks\":\"\",\"zerolinecolor\":\"white\"}},\"shapedefaults\":{\"line\":{\"color\":\"#2a3f5f\"}},\"ternary\":{\"aaxis\":{\"gridcolor\":\"white\",\"linecolor\":\"white\",\"ticks\":\"\"},\"baxis\":{\"gridcolor\":\"white\",\"linecolor\":\"white\",\"ticks\":\"\"},\"bgcolor\":\"#E5ECF6\",\"caxis\":{\"gridcolor\":\"white\",\"linecolor\":\"white\",\"ticks\":\"\"}},\"title\":{\"x\":0.05},\"xaxis\":{\"automargin\":true,\"gridcolor\":\"white\",\"linecolor\":\"white\",\"ticks\":\"\",\"title\":{\"standoff\":15},\"zerolinecolor\":\"white\",\"zerolinewidth\":2},\"yaxis\":{\"automargin\":true,\"gridcolor\":\"white\",\"linecolor\":\"white\",\"ticks\":\"\",\"title\":{\"standoff\":15},\"zerolinecolor\":\"white\",\"zerolinewidth\":2}}},\"title\":{\"text\":\"Singapore Population 2017\"},\"width\":1200,\"xaxis\":{\"title\":{\"text\":\"Year\"}},\"yaxis\":{\"title\":{\"text\":\"\"}}},                        {\"responsive\": true}                    ).then(function(){\n",
       "                            \n",
       "var gd = document.getElementById('9c9ecfdb-99d4-4f57-8386-24ed2365f182');\n",
       "var x = new MutationObserver(function (mutations, observer) {{\n",
       "        var display = window.getComputedStyle(gd).display;\n",
       "        if (!display || display === 'none') {{\n",
       "            console.log([gd, 'removed!']);\n",
       "            Plotly.purge(gd);\n",
       "            observer.disconnect();\n",
       "        }}\n",
       "}});\n",
       "\n",
       "// Listen for the removal of the full notebook cells\n",
       "var notebookContainer = gd.closest('#notebook-container');\n",
       "if (notebookContainer) {{\n",
       "    x.observe(notebookContainer, {childList: true});\n",
       "}}\n",
       "\n",
       "// Listen for the clearing of the current output cell\n",
       "var outputEl = gd.closest('.output');\n",
       "if (outputEl) {{\n",
       "    x.observe(outputEl, {childList: true});\n",
       "}}\n",
       "\n",
       "                        })                };                });            </script>        </div>"
      ]
     },
     "metadata": {},
     "output_type": "display_data"
    }
   ],
   "source": [
    "Singapore_population = go.Scatter(\n",
    "    \n",
    "    x = Singapore_p['year'],\n",
    "    y = Singapore_p['divide_1'],\n",
    "    \n",
    "    name = 'Total Population(Million)',\n",
    "    \n",
    "    line = dict(color = 'red',\n",
    "                width = 1),\n",
    "    \n",
    "    connectgaps = True\n",
    ")\n",
    "\n",
    "Singapre_birth = go.Scatter(\n",
    "    \n",
    "    x = Singapore_b['year'],\n",
    "    y = Singapore_b['birthrate'],\n",
    "    \n",
    "    name = 'Total Birth(Per Women)',\n",
    "    \n",
    "    line = dict(color = 'green',\n",
    "                width = 1),\n",
    "    \n",
    "    connectgaps = True\n",
    ")\n",
    "\n",
    "Singapore_aging = go.Scatter(\n",
    "    \n",
    "    x = Singapore_a['year'],\n",
    "    y = Singapore_a['Aging'],\n",
    "    \n",
    "    name = 'Age above 65(%)',\n",
    "    \n",
    "    line = dict(color = 'blue',\n",
    "                width = 1),\n",
    "    \n",
    "    connectgaps = True\n",
    ")\n",
    "\n",
    "Singapore_migration = go.Scatter(\n",
    "    \n",
    "    x = migration_sg['year'],\n",
    "    y = migration_sg['divide_2'],\n",
    "    \n",
    "    name = 'Migration (100k) ',\n",
    "    \n",
    "    line = dict(color = 'blue',\n",
    "                width = 1),\n",
    "    \n",
    "    connectgaps = True\n",
    "\n",
    ")\n",
    "\n",
    "data1 = [Singapore_population, Singapre_birth, Singapore_aging, Singapore_migration]\n",
    "\n",
    "layout1 = dict(title = 'Singapore Population 2017',\n",
    "              xaxis = dict(title = 'Year'),\n",
    "              yaxis = dict(title = ''),\n",
    "            width=1200,\n",
    "            height=500\n",
    "              )\n",
    "\n",
    "fig_sg = dict(data=data1, layout=layout1)\n",
    "\n",
    "offline.iplot(fig_sg)"
   ]
  },
  {
   "cell_type": "markdown",
   "id": "3edc814f",
   "metadata": {},
   "source": [
    "## Add plot to chart studio"
   ]
  },
  {
   "cell_type": "code",
   "execution_count": 250,
   "id": "8261afd4",
   "metadata": {},
   "outputs": [],
   "source": [
    "import chart_studio\n",
    "import chart_studio.plotly as py\n",
    "import chart_studio.tools as tls"
   ]
  },
  {
   "cell_type": "code",
   "execution_count": 251,
   "id": "b53fd7bd",
   "metadata": {},
   "outputs": [],
   "source": [
    "username = ''\n",
    "api_key = ''"
   ]
  },
  {
   "cell_type": "code",
   "execution_count": 252,
   "id": "597772bd",
   "metadata": {},
   "outputs": [],
   "source": [
    "tls.set_credentials_file(username =username, api_key = api_key)"
   ]
  },
  {
   "cell_type": "code",
   "execution_count": 253,
   "id": "933afdb5",
   "metadata": {},
   "outputs": [
    {
     "data": {
      "text/plain": [
       "'https://plotly.com/~boonkiat1989/23/'"
      ]
     },
     "execution_count": 253,
     "metadata": {},
     "output_type": "execute_result"
    }
   ],
   "source": [
    "py.plot(fig_sg, filename ='', auto_open = False)"
   ]
  },
  {
   "cell_type": "code",
   "execution_count": null,
   "id": "708ad88e",
   "metadata": {},
   "outputs": [],
   "source": []
  }
 ],
 "metadata": {
  "kernelspec": {
   "display_name": "Python 3 (ipykernel)",
   "language": "python",
   "name": "python3"
  },
  "language_info": {
   "codemirror_mode": {
    "name": "ipython",
    "version": 3
   },
   "file_extension": ".py",
   "mimetype": "text/x-python",
   "name": "python",
   "nbconvert_exporter": "python",
   "pygments_lexer": "ipython3",
   "version": "3.9.7"
  }
 },
 "nbformat": 4,
 "nbformat_minor": 5
}
